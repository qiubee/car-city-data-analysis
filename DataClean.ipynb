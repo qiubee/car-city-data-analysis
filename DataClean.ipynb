{
 "metadata": {
  "language_info": {
   "codemirror_mode": {
    "name": "ipython",
    "version": 3
   },
   "file_extension": ".py",
   "mimetype": "text/x-python",
   "name": "python",
   "nbconvert_exporter": "python",
   "pygments_lexer": "ipython3",
   "version": "3.6.9-final"
  },
  "orig_nbformat": 2,
  "kernelspec": {
   "name": "python36964bitenv04baca4f8b8244ae99c869335ac3b67d",
   "display_name": "Python 3.6.9 64-bit ('env')"
  }
 },
 "nbformat": 4,
 "nbformat_minor": 2,
 "cells": [
  {
   "source": [
    "# Data cleaning"
   ],
   "cell_type": "markdown",
   "metadata": {}
  },
  {
   "source": [
    "First the `pandas` library is imported as `pd`. Then with `read_csv()` it will read the csv-file and save the data as *isd*. With `head()` it'll take the first 5 entries of the data and save as `isd_head`."
   ],
   "cell_type": "markdown",
   "metadata": {}
  },
  {
   "cell_type": "code",
   "execution_count": 1,
   "metadata": {},
   "outputs": [],
   "source": [
    "import pandas as pd\n",
    "\n",
    "isd = pd.read_csv(\"datasets/Index_Statisch_Dynamisch.csv\")\n",
    "isd_head = isd.head()\n"
   ]
  },
  {
   "source": [
    "With *`columns.values`* the column names are extracted into an array."
   ],
   "cell_type": "markdown",
   "metadata": {}
  },
  {
   "source": [
    "isd_head.columns.values"
   ],
   "cell_type": "code",
   "metadata": {},
   "execution_count": 2,
   "outputs": [
    {
     "output_type": "execute_result",
     "data": {
      "text/plain": [
       "array(['Organization', 'Organization ID', 'Static parking data',\n",
       "       'URL static parking data', 'Standard static parking data',\n",
       "       'Dynamic parking data', 'URL dynamic parking data'], dtype=object)"
      ]
     },
     "metadata": {},
     "execution_count": 2
    }
   ]
  },
  {
   "source": [
    "To remove some of the columns that aren't needed you can use `drop()` and specify in `columns[[]]` the columns numbers that need to be removed."
   ],
   "cell_type": "markdown",
   "metadata": {}
  },
  {
   "cell_type": "code",
   "execution_count": 4,
   "metadata": {},
   "outputs": [
    {
     "output_type": "execute_result",
     "data": {
      "text/plain": [
       "    Organization  Organization ID  Static parking data Dynamic parking data\n",
       "0      Groningen               14                 True                 True\n",
       "1          Haren               17                 True                 True\n",
       "2         Almere               34                 True                 True\n",
       "3    Dongeradeel               58                 True                  NaN\n",
       "4  Franekeradeel               70                 True                  NaN"
      ],
      "text/html": "<div>\n<style scoped>\n    .dataframe tbody tr th:only-of-type {\n        vertical-align: middle;\n    }\n\n    .dataframe tbody tr th {\n        vertical-align: top;\n    }\n\n    .dataframe thead th {\n        text-align: right;\n    }\n</style>\n<table border=\"1\" class=\"dataframe\">\n  <thead>\n    <tr style=\"text-align: right;\">\n      <th></th>\n      <th>Organization</th>\n      <th>Organization ID</th>\n      <th>Static parking data</th>\n      <th>Dynamic parking data</th>\n    </tr>\n  </thead>\n  <tbody>\n    <tr>\n      <th>0</th>\n      <td>Groningen</td>\n      <td>14</td>\n      <td>True</td>\n      <td>True</td>\n    </tr>\n    <tr>\n      <th>1</th>\n      <td>Haren</td>\n      <td>17</td>\n      <td>True</td>\n      <td>True</td>\n    </tr>\n    <tr>\n      <th>2</th>\n      <td>Almere</td>\n      <td>34</td>\n      <td>True</td>\n      <td>True</td>\n    </tr>\n    <tr>\n      <th>3</th>\n      <td>Dongeradeel</td>\n      <td>58</td>\n      <td>True</td>\n      <td>NaN</td>\n    </tr>\n    <tr>\n      <th>4</th>\n      <td>Franekeradeel</td>\n      <td>70</td>\n      <td>True</td>\n      <td>NaN</td>\n    </tr>\n  </tbody>\n</table>\n</div>"
     },
     "metadata": {},
     "execution_count": 4
    }
   ],
   "source": [
    "isd_head_drop = isd_head.drop(isd_head.columns[[3, 4, 6]], axis=1)\n",
    "isd_head_drop"
   ]
  },
  {
   "cell_type": "code",
   "execution_count": 37,
   "metadata": {},
   "outputs": [
    {
     "output_type": "execute_result",
     "data": {
      "text/plain": [
       "0     True\n",
       "1     True\n",
       "2     True\n",
       "3    False\n",
       "4    False\n",
       "Name: Dynamic parking data, dtype: bool"
      ]
     },
     "metadata": {},
     "execution_count": 37
    }
   ],
   "source": [
    "isd_head_drop[[3]] = isd_head_drop[[3]].fillna(value=False)\n",
    "isd_head_drop"
   ]
  },
  {
   "cell_type": "code",
   "execution_count": null,
   "metadata": {},
   "outputs": [],
   "source": []
  }
 ]
}