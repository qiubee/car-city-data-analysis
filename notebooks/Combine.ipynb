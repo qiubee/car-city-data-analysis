{
 "metadata": {
  "language_info": {
   "codemirror_mode": {
    "name": "ipython",
    "version": 3
   },
   "file_extension": ".py",
   "mimetype": "text/x-python",
   "name": "python",
   "nbconvert_exporter": "python",
   "pygments_lexer": "ipython3",
   "version": "3.6.9-final"
  },
  "orig_nbformat": 2,
  "kernelspec": {
   "name": "python36964bitenv073151e35ced4d4ba62b1ad05ebd7020",
   "display_name": "Python 3.6.9 64-bit ('env')"
  }
 },
 "nbformat": 4,
 "nbformat_minor": 2,
 "cells": [
  {
   "source": [
    "# Combine data\n",
    "\n",
    "Script to combine the data from TARIEFDEEL.csv (T) and GEBIEDSBEHEERDER.csv (GB), adding the area manager name in dataset T."
   ],
   "cell_type": "markdown",
   "metadata": {}
  },
  {
   "source": [
    "I use the `pandas` package for this script to combine the datasets. First I remove unnecessary columns that I don't need. Then I want to add the area manager name from dataset GB to dataset T. After I've combined them I want to create simple visualizations: tables en chart."
   ],
   "cell_type": "markdown",
   "metadata": {}
  },
  {
   "source": [
    "## Import & scale down\n",
    "\n",
    "1. Import `pandas`.\n",
    "2. Only use the first 25 rows.\n",
    "3. Print the column names."
   ],
   "cell_type": "markdown",
   "metadata": {}
  },
  {
   "cell_type": "code",
   "execution_count": 1,
   "metadata": {},
   "outputs": [
    {
     "output_type": "stream",
     "name": "stdout",
     "text": [
      "['AreaManagerId' 'FareCalculationCode' 'StartDateFarePart'\n 'StartDurationFarePart' 'EndDurationFarePart' 'AmountFarePart'\n 'StepSizeFarePart' 'EndDateFarePart' 'AmountCumulative'] \n ['AreaManagerId' 'AreaManagerDesc' 'StartDateAreaManagerId'\n 'EndDateAreaManagerId' 'URL']\n"
     ]
    }
   ],
   "source": [
    "import pandas as pd\n",
    "import matplotlib.pyplot as plt\n",
    "\n",
    "\n",
    "M = pd.read_csv(\"datasets/RDW/GEBIEDSBEHEERDER.csv\")\n",
    "F = pd.read_csv(\"datasets/RDW/TARIEFDEEL.csv\")\n",
    "\n",
    "managers = M.head(25)\n",
    "fare = F.head(25)\n",
    "print(fare.columns.values, \"\\n\", managers.columns.values)"
   ]
  },
  {
   "source": [
    "## Remove fields\n",
    "\n",
    "1. Remove three unused columns in GB."
   ],
   "cell_type": "markdown",
   "metadata": {}
  },
  {
   "cell_type": "code",
   "execution_count": 2,
   "metadata": {},
   "outputs": [
    {
     "output_type": "execute_result",
     "data": {
      "text/plain": [
       "    AreaManagerId            AreaManagerDesc\n",
       "0            2468  Aberdeen Asset Management\n",
       "1            1783                   Westland\n",
       "2            1708            Steenwijkerland\n",
       "3            1895                    Oldambt\n",
       "4             267                    Nijkerk\n",
       "5             505                  Dordrecht\n",
       "6            2451         Martini-ziekenhuis\n",
       "7             173                  Oldenzaal\n",
       "8             928                   Kerkrade\n",
       "9            2062                         P1\n",
       "10            620                     Vianen\n",
       "11            861                  Veldhoven\n",
       "12            642                Zwijndrecht\n",
       "13            297                 Zaltbommel\n",
       "14            907                     Gennep\n",
       "15           2452              Martini-Plaza\n",
       "16            352         Wijk bij Duurstede\n",
       "17           2463                        PCH\n",
       "18            553                      Lisse\n",
       "19            275                     Rheden\n",
       "20           2450                       UMCG\n",
       "21            796           's-Hertogenbosch\n",
       "22            448                      Texel\n",
       "23            479                   Zaanstad\n",
       "24           1676         Schouwen-Duiveland"
      ],
      "text/html": "<div>\n<style scoped>\n    .dataframe tbody tr th:only-of-type {\n        vertical-align: middle;\n    }\n\n    .dataframe tbody tr th {\n        vertical-align: top;\n    }\n\n    .dataframe thead th {\n        text-align: right;\n    }\n</style>\n<table border=\"1\" class=\"dataframe\">\n  <thead>\n    <tr style=\"text-align: right;\">\n      <th></th>\n      <th>AreaManagerId</th>\n      <th>AreaManagerDesc</th>\n    </tr>\n  </thead>\n  <tbody>\n    <tr>\n      <th>0</th>\n      <td>2468</td>\n      <td>Aberdeen Asset Management</td>\n    </tr>\n    <tr>\n      <th>1</th>\n      <td>1783</td>\n      <td>Westland</td>\n    </tr>\n    <tr>\n      <th>2</th>\n      <td>1708</td>\n      <td>Steenwijkerland</td>\n    </tr>\n    <tr>\n      <th>3</th>\n      <td>1895</td>\n      <td>Oldambt</td>\n    </tr>\n    <tr>\n      <th>4</th>\n      <td>267</td>\n      <td>Nijkerk</td>\n    </tr>\n    <tr>\n      <th>5</th>\n      <td>505</td>\n      <td>Dordrecht</td>\n    </tr>\n    <tr>\n      <th>6</th>\n      <td>2451</td>\n      <td>Martini-ziekenhuis</td>\n    </tr>\n    <tr>\n      <th>7</th>\n      <td>173</td>\n      <td>Oldenzaal</td>\n    </tr>\n    <tr>\n      <th>8</th>\n      <td>928</td>\n      <td>Kerkrade</td>\n    </tr>\n    <tr>\n      <th>9</th>\n      <td>2062</td>\n      <td>P1</td>\n    </tr>\n    <tr>\n      <th>10</th>\n      <td>620</td>\n      <td>Vianen</td>\n    </tr>\n    <tr>\n      <th>11</th>\n      <td>861</td>\n      <td>Veldhoven</td>\n    </tr>\n    <tr>\n      <th>12</th>\n      <td>642</td>\n      <td>Zwijndrecht</td>\n    </tr>\n    <tr>\n      <th>13</th>\n      <td>297</td>\n      <td>Zaltbommel</td>\n    </tr>\n    <tr>\n      <th>14</th>\n      <td>907</td>\n      <td>Gennep</td>\n    </tr>\n    <tr>\n      <th>15</th>\n      <td>2452</td>\n      <td>Martini-Plaza</td>\n    </tr>\n    <tr>\n      <th>16</th>\n      <td>352</td>\n      <td>Wijk bij Duurstede</td>\n    </tr>\n    <tr>\n      <th>17</th>\n      <td>2463</td>\n      <td>PCH</td>\n    </tr>\n    <tr>\n      <th>18</th>\n      <td>553</td>\n      <td>Lisse</td>\n    </tr>\n    <tr>\n      <th>19</th>\n      <td>275</td>\n      <td>Rheden</td>\n    </tr>\n    <tr>\n      <th>20</th>\n      <td>2450</td>\n      <td>UMCG</td>\n    </tr>\n    <tr>\n      <th>21</th>\n      <td>796</td>\n      <td>'s-Hertogenbosch</td>\n    </tr>\n    <tr>\n      <th>22</th>\n      <td>448</td>\n      <td>Texel</td>\n    </tr>\n    <tr>\n      <th>23</th>\n      <td>479</td>\n      <td>Zaanstad</td>\n    </tr>\n    <tr>\n      <th>24</th>\n      <td>1676</td>\n      <td>Schouwen-Duiveland</td>\n    </tr>\n  </tbody>\n</table>\n</div>"
     },
     "metadata": {},
     "execution_count": 2
    }
   ],
   "source": [
    "managers = managers.drop(managers.columns[[2, 3, 4]], axis=1)\n",
    "managers"
   ]
  },
  {
   "source": [
    "## Combining datasets with AreaManager ID\n",
    "\n",
    "1. Get key to merge on (AreaManagerID).\n",
    "2. Merge the two datasets. With the ID from GB & T the ManagerDec of GB gets added to T.\n"
   ],
   "cell_type": "markdown",
   "metadata": {}
  },
  {
   "cell_type": "code",
   "execution_count": 3,
   "metadata": {},
   "outputs": [
    {
     "output_type": "execute_result",
     "data": {
      "text/plain": [
       "    AreaManagerId FareCalculationCode  StartDateFarePart  \\\n",
       "0             512               TAR04           20150101   \n",
       "1              34             BEZVGBZ           20161101   \n",
       "2             150               TAR04           20121218   \n",
       "3             150               TAR03           20140101   \n",
       "4             150               TAR04           20150101   \n",
       "5              34             BEZVGAB           20170102   \n",
       "6             150               TAR03           20140101   \n",
       "7             150               TAR02           20140101   \n",
       "8              34             BEZVGAB           20161101   \n",
       "9             772            STRIJP02           20190913   \n",
       "10             34             BEZVGBZ           20170102   \n",
       "11            200               GAR14           20131212   \n",
       "12           2459               TER03           20131111   \n",
       "13            394           HFD_ZONEB           20130626   \n",
       "14           2460               GAR23           20131112   \n",
       "15           2449               GAR49           20140901   \n",
       "16            473               TAR01           20120425   \n",
       "17            642               GAR02           20130926   \n",
       "18           2452               GAR01           20160404   \n",
       "19            718               GAR02           20131009   \n",
       "20            394              HFD_NS           20130626   \n",
       "21            384             DMNMBON           20191001   \n",
       "22            424               DAG01           20120412   \n",
       "23            983               TER01           20131003   \n",
       "24            307               TAR01           20110101   \n",
       "\n",
       "    StartDurationFarePart  EndDurationFarePart  AmountFarePart  \\\n",
       "0                       0               999999        0.020000   \n",
       "1                       0                    4        0.000000   \n",
       "2                       0               999999        0.016667   \n",
       "3                       0                   48        0.041667   \n",
       "4                       0               999999        0.018519   \n",
       "5                       0                    4        0.000000   \n",
       "6                      48               999999        0.083333   \n",
       "7                       0               999999        0.021739   \n",
       "8                     120               999999        0.700000   \n",
       "9                       0               999999        0.030000   \n",
       "10                    240               999999        0.200000   \n",
       "11                      0               999999        9.000000   \n",
       "12                      0                   60        0.000000   \n",
       "13                      0                   60        0.011390   \n",
       "14                      0               999999       20.000000   \n",
       "15                      0               999999        1.500000   \n",
       "16                      0                  240        0.036667   \n",
       "17                      0               999999        8.000000   \n",
       "18                     15               999999        2.000000   \n",
       "19                      0                   18        0.500000   \n",
       "20                   1080               999999        0.107500   \n",
       "21                    120               999999        0.025000   \n",
       "22                      0               999999       18.000000   \n",
       "23                      0               999999        1.800000   \n",
       "24                      0                   60        0.038333   \n",
       "\n",
       "    StepSizeFarePart  EndDateFarePart  AmountCumulative AreaManagerDesc  \n",
       "0                  1         29991231           0.00000             NaN  \n",
       "1                  4         20170102           0.00000             NaN  \n",
       "2                  1         20150101           0.00000             NaN  \n",
       "3                  1         20150101           0.00000             NaN  \n",
       "4                  1         29991231           0.00000             NaN  \n",
       "5                  4         29991231           0.00000             NaN  \n",
       "6                  1         20150101           2.00000             NaN  \n",
       "7                  1         20150101           0.00000             NaN  \n",
       "8                120         20170102           0.70000             NaN  \n",
       "9                  1         20190927           0.00000             NaN  \n",
       "10              1200         29991231           0.20000             NaN  \n",
       "11              1440         20200701           0.00000             NaN  \n",
       "12                60         29991231           0.00000             NaN  \n",
       "13                 1         20131001           0.00000             NaN  \n",
       "14              1440         29991231           0.00000             NaN  \n",
       "15                30         29991231           0.00000             NaN  \n",
       "16                 1         20140301           0.00000             NaN  \n",
       "17               735         29991231           0.00000     Zwijndrecht  \n",
       "18                60         20200723           0.00000   Martini-Plaza  \n",
       "19                18         20140101           0.00000             NaN  \n",
       "20                 1         20130730           5.46804             NaN  \n",
       "21                 1         29991231           0.00000             NaN  \n",
       "22               720         20130101           0.00000             NaN  \n",
       "23                60         20140101           0.00000             NaN  \n",
       "24                 1         20120928           0.00000             NaN  "
      ],
      "text/html": "<div>\n<style scoped>\n    .dataframe tbody tr th:only-of-type {\n        vertical-align: middle;\n    }\n\n    .dataframe tbody tr th {\n        vertical-align: top;\n    }\n\n    .dataframe thead th {\n        text-align: right;\n    }\n</style>\n<table border=\"1\" class=\"dataframe\">\n  <thead>\n    <tr style=\"text-align: right;\">\n      <th></th>\n      <th>AreaManagerId</th>\n      <th>FareCalculationCode</th>\n      <th>StartDateFarePart</th>\n      <th>StartDurationFarePart</th>\n      <th>EndDurationFarePart</th>\n      <th>AmountFarePart</th>\n      <th>StepSizeFarePart</th>\n      <th>EndDateFarePart</th>\n      <th>AmountCumulative</th>\n      <th>AreaManagerDesc</th>\n    </tr>\n  </thead>\n  <tbody>\n    <tr>\n      <th>0</th>\n      <td>512</td>\n      <td>TAR04</td>\n      <td>20150101</td>\n      <td>0</td>\n      <td>999999</td>\n      <td>0.020000</td>\n      <td>1</td>\n      <td>29991231</td>\n      <td>0.00000</td>\n      <td>NaN</td>\n    </tr>\n    <tr>\n      <th>1</th>\n      <td>34</td>\n      <td>BEZVGBZ</td>\n      <td>20161101</td>\n      <td>0</td>\n      <td>4</td>\n      <td>0.000000</td>\n      <td>4</td>\n      <td>20170102</td>\n      <td>0.00000</td>\n      <td>NaN</td>\n    </tr>\n    <tr>\n      <th>2</th>\n      <td>150</td>\n      <td>TAR04</td>\n      <td>20121218</td>\n      <td>0</td>\n      <td>999999</td>\n      <td>0.016667</td>\n      <td>1</td>\n      <td>20150101</td>\n      <td>0.00000</td>\n      <td>NaN</td>\n    </tr>\n    <tr>\n      <th>3</th>\n      <td>150</td>\n      <td>TAR03</td>\n      <td>20140101</td>\n      <td>0</td>\n      <td>48</td>\n      <td>0.041667</td>\n      <td>1</td>\n      <td>20150101</td>\n      <td>0.00000</td>\n      <td>NaN</td>\n    </tr>\n    <tr>\n      <th>4</th>\n      <td>150</td>\n      <td>TAR04</td>\n      <td>20150101</td>\n      <td>0</td>\n      <td>999999</td>\n      <td>0.018519</td>\n      <td>1</td>\n      <td>29991231</td>\n      <td>0.00000</td>\n      <td>NaN</td>\n    </tr>\n    <tr>\n      <th>5</th>\n      <td>34</td>\n      <td>BEZVGAB</td>\n      <td>20170102</td>\n      <td>0</td>\n      <td>4</td>\n      <td>0.000000</td>\n      <td>4</td>\n      <td>29991231</td>\n      <td>0.00000</td>\n      <td>NaN</td>\n    </tr>\n    <tr>\n      <th>6</th>\n      <td>150</td>\n      <td>TAR03</td>\n      <td>20140101</td>\n      <td>48</td>\n      <td>999999</td>\n      <td>0.083333</td>\n      <td>1</td>\n      <td>20150101</td>\n      <td>2.00000</td>\n      <td>NaN</td>\n    </tr>\n    <tr>\n      <th>7</th>\n      <td>150</td>\n      <td>TAR02</td>\n      <td>20140101</td>\n      <td>0</td>\n      <td>999999</td>\n      <td>0.021739</td>\n      <td>1</td>\n      <td>20150101</td>\n      <td>0.00000</td>\n      <td>NaN</td>\n    </tr>\n    <tr>\n      <th>8</th>\n      <td>34</td>\n      <td>BEZVGAB</td>\n      <td>20161101</td>\n      <td>120</td>\n      <td>999999</td>\n      <td>0.700000</td>\n      <td>120</td>\n      <td>20170102</td>\n      <td>0.70000</td>\n      <td>NaN</td>\n    </tr>\n    <tr>\n      <th>9</th>\n      <td>772</td>\n      <td>STRIJP02</td>\n      <td>20190913</td>\n      <td>0</td>\n      <td>999999</td>\n      <td>0.030000</td>\n      <td>1</td>\n      <td>20190927</td>\n      <td>0.00000</td>\n      <td>NaN</td>\n    </tr>\n    <tr>\n      <th>10</th>\n      <td>34</td>\n      <td>BEZVGBZ</td>\n      <td>20170102</td>\n      <td>240</td>\n      <td>999999</td>\n      <td>0.200000</td>\n      <td>1200</td>\n      <td>29991231</td>\n      <td>0.20000</td>\n      <td>NaN</td>\n    </tr>\n    <tr>\n      <th>11</th>\n      <td>200</td>\n      <td>GAR14</td>\n      <td>20131212</td>\n      <td>0</td>\n      <td>999999</td>\n      <td>9.000000</td>\n      <td>1440</td>\n      <td>20200701</td>\n      <td>0.00000</td>\n      <td>NaN</td>\n    </tr>\n    <tr>\n      <th>12</th>\n      <td>2459</td>\n      <td>TER03</td>\n      <td>20131111</td>\n      <td>0</td>\n      <td>60</td>\n      <td>0.000000</td>\n      <td>60</td>\n      <td>29991231</td>\n      <td>0.00000</td>\n      <td>NaN</td>\n    </tr>\n    <tr>\n      <th>13</th>\n      <td>394</td>\n      <td>HFD_ZONEB</td>\n      <td>20130626</td>\n      <td>0</td>\n      <td>60</td>\n      <td>0.011390</td>\n      <td>1</td>\n      <td>20131001</td>\n      <td>0.00000</td>\n      <td>NaN</td>\n    </tr>\n    <tr>\n      <th>14</th>\n      <td>2460</td>\n      <td>GAR23</td>\n      <td>20131112</td>\n      <td>0</td>\n      <td>999999</td>\n      <td>20.000000</td>\n      <td>1440</td>\n      <td>29991231</td>\n      <td>0.00000</td>\n      <td>NaN</td>\n    </tr>\n    <tr>\n      <th>15</th>\n      <td>2449</td>\n      <td>GAR49</td>\n      <td>20140901</td>\n      <td>0</td>\n      <td>999999</td>\n      <td>1.500000</td>\n      <td>30</td>\n      <td>29991231</td>\n      <td>0.00000</td>\n      <td>NaN</td>\n    </tr>\n    <tr>\n      <th>16</th>\n      <td>473</td>\n      <td>TAR01</td>\n      <td>20120425</td>\n      <td>0</td>\n      <td>240</td>\n      <td>0.036667</td>\n      <td>1</td>\n      <td>20140301</td>\n      <td>0.00000</td>\n      <td>NaN</td>\n    </tr>\n    <tr>\n      <th>17</th>\n      <td>642</td>\n      <td>GAR02</td>\n      <td>20130926</td>\n      <td>0</td>\n      <td>999999</td>\n      <td>8.000000</td>\n      <td>735</td>\n      <td>29991231</td>\n      <td>0.00000</td>\n      <td>Zwijndrecht</td>\n    </tr>\n    <tr>\n      <th>18</th>\n      <td>2452</td>\n      <td>GAR01</td>\n      <td>20160404</td>\n      <td>15</td>\n      <td>999999</td>\n      <td>2.000000</td>\n      <td>60</td>\n      <td>20200723</td>\n      <td>0.00000</td>\n      <td>Martini-Plaza</td>\n    </tr>\n    <tr>\n      <th>19</th>\n      <td>718</td>\n      <td>GAR02</td>\n      <td>20131009</td>\n      <td>0</td>\n      <td>18</td>\n      <td>0.500000</td>\n      <td>18</td>\n      <td>20140101</td>\n      <td>0.00000</td>\n      <td>NaN</td>\n    </tr>\n    <tr>\n      <th>20</th>\n      <td>394</td>\n      <td>HFD_NS</td>\n      <td>20130626</td>\n      <td>1080</td>\n      <td>999999</td>\n      <td>0.107500</td>\n      <td>1</td>\n      <td>20130730</td>\n      <td>5.46804</td>\n      <td>NaN</td>\n    </tr>\n    <tr>\n      <th>21</th>\n      <td>384</td>\n      <td>DMNMBON</td>\n      <td>20191001</td>\n      <td>120</td>\n      <td>999999</td>\n      <td>0.025000</td>\n      <td>1</td>\n      <td>29991231</td>\n      <td>0.00000</td>\n      <td>NaN</td>\n    </tr>\n    <tr>\n      <th>22</th>\n      <td>424</td>\n      <td>DAG01</td>\n      <td>20120412</td>\n      <td>0</td>\n      <td>999999</td>\n      <td>18.000000</td>\n      <td>720</td>\n      <td>20130101</td>\n      <td>0.00000</td>\n      <td>NaN</td>\n    </tr>\n    <tr>\n      <th>23</th>\n      <td>983</td>\n      <td>TER01</td>\n      <td>20131003</td>\n      <td>0</td>\n      <td>999999</td>\n      <td>1.800000</td>\n      <td>60</td>\n      <td>20140101</td>\n      <td>0.00000</td>\n      <td>NaN</td>\n    </tr>\n    <tr>\n      <th>24</th>\n      <td>307</td>\n      <td>TAR01</td>\n      <td>20110101</td>\n      <td>0</td>\n      <td>60</td>\n      <td>0.038333</td>\n      <td>1</td>\n      <td>20120928</td>\n      <td>0.00000</td>\n      <td>NaN</td>\n    </tr>\n  </tbody>\n</table>\n</div>"
     },
     "metadata": {},
     "execution_count": 3
    }
   ],
   "source": [
    "key = fare.columns[0]\n",
    "combined = pd.merge(fare, managers, how=\"left\", on=[key])\n",
    "combined"
   ]
  },
  {
   "source": [
    "The only problem is that not all ID's got to a name in database GB where the names of the area managers are stored."
   ],
   "cell_type": "markdown",
   "metadata": {}
  }
 ]
}