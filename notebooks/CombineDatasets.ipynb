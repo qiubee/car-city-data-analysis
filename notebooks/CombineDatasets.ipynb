{
 "metadata": {
  "language_info": {
   "codemirror_mode": {
    "name": "ipython",
    "version": 3
   },
   "file_extension": ".py",
   "mimetype": "text/x-python",
   "name": "python",
   "nbconvert_exporter": "python",
   "pygments_lexer": "ipython3",
   "version": "3.6.9-final"
  },
  "orig_nbformat": 2,
  "kernelspec": {
   "name": "python36964bitenv073151e35ced4d4ba62b1ad05ebd7020",
   "display_name": "Python 3.6.9 64-bit ('env')"
  }
 },
 "nbformat": 4,
 "nbformat_minor": 2,
 "cells": [
  {
   "source": [
    "# Combining datasets from RDW\n",
    "\n",
    "Here I attempt to combine as many datasets from RDW as possible. I'll use `pandas` to clean and merge them."
   ],
   "cell_type": "markdown",
   "metadata": {}
  },
  {
   "cell_type": "code",
   "execution_count": 1,
   "metadata": {},
   "outputs": [
    {
     "output_type": "stream",
     "name": "stdout",
     "text": [
      "     AreaManagerId            AreaManagerDesc  StartDateAreaManagerId  \\\n0             2468  Aberdeen Asset Management                20140101   \n1             1783                   Westland                20131024   \n2             1708            Steenwijkerland                20131018   \n3             1895                    Oldambt                20120608   \n4              267                    Nijkerk                20120405   \n..             ...                        ...                     ...   \n355            236               Geldermalsen                20120406   \n356            612                Spijkenisse                20121025   \n357            363                  Amsterdam                20050101   \n358           2585       Port of Amsterdam NV                20201005   \n359            476                 Zijpe (NH)                20120228   \n\n     EndDateAreaManagerId                               URL  \n0                29991231                               NaN  \n1                29991231                               NaN  \n2                29991231                               NaN  \n3                29991231                               NaN  \n4                29991231                               NaN  \n..                    ...                               ...  \n355              20200606               www.geldermalsen.nl  \n356              29991231                               NaN  \n357              29991231                  www.amsterdam.nl  \n358              29991231  https://www.portofamsterdam.com/  \n359              20120301                               NaN  \n\n[360 rows x 5 columns] \n\n      AreaManagerId FareCalculationCode  StartDateFarePart  \\\n0               512               TAR04           20150101   \n1                34             BEZVGBZ           20161101   \n2               150               TAR04           20121218   \n3               150               TAR03           20140101   \n4               150               TAR04           20150101   \n...             ...                 ...                ...   \n5426            758          GMBRG_A_24           20200720   \n5427            363           363_GAR18           20150130   \n5428            363           363_GAR01           20150130   \n5429            363           363_GAR01           20200722   \n5430            363           363_GAR17           20150130   \n\n      StartDurationFarePart  EndDurationFarePart  AmountFarePart  \\\n0                         0               999999        0.020000   \n1                         0                    4        0.000000   \n2                         0               999999        0.016667   \n3                         0                   48        0.041667   \n4                         0               999999        0.018519   \n...                     ...                  ...             ...   \n5426                      0               999999        3.000000   \n5427                     24               999999        1.000000   \n5428                      0               999999        0.200000   \n5429                      0                  180        1.400000   \n5430                      0               999999       24.500000   \n\n      StepSizeFarePart  EndDateFarePart  AmountCumulative  \n0                    1         29991231               0.0  \n1                    4         20170102               0.0  \n2                    1         20150101               0.0  \n3                    1         20150101               0.0  \n4                    1         29991231               0.0  \n...                ...              ...               ...  \n5426              1440         29991231               0.0  \n5427                25         20200722               1.0  \n5428                12         20200722               0.0  \n5429               180         29991231               0.0  \n5430              1440         20200722               0.0  \n\n[5431 rows x 9 columns] \n\n      AreaManagerId      AreaId  \\\n0              2448   603_BOGP4   \n1               303  303_STRAND   \n2              2448    518_GRMA   \n3              1900   1900_LEMM   \n4               796      020121   \n...             ...         ...   \n8300            794         3,9   \n8301            361          W2   \n8302            203  VZONE_PKAP   \n8303           2463    394_P6SS   \n8304            353    V_BEZOEK   \n\n                                               AreaDesc  StartDateArea  \\\n0                           In de Bogaard P4 (Rijswijk)       20140101   \n1                                    Strand Drontermeer       20170101   \n2                         Garage Grote Markt (Den Haag)       20131125   \n3                                             Lemmerweg       20140101   \n4                                          Luybenstraat       20110930   \n...                                                 ...            ...   \n8300                                        De Clundert       20150101   \n8301                                 Westerhoutkwartier       20100101   \n8302                                     Kapteijnstraat       20180101   \n8303  Garage Schiphol Valet Parking P6 (Haarlemmermeer)       20160509   \n8304                                            Centrum       20200313   \n\n      EndDateArea   UsageId  \n0        29991231   GARAGEP  \n1        29991231  BETAALDP  \n2        29991231   GARAGEP  \n3        29991231  BETAALDP  \n4        20111001  BETAALDP  \n...           ...       ...  \n8300     29991231  BETAALDP  \n8301     29991231   VERGUNP  \n8302     29991231   VERGUNP  \n8303     29991231   GARAGEP  \n8304     29991231   VERGUNP  \n\n[8305 rows x 6 columns] \n\n"
     ]
    }
   ],
   "source": [
    "import pandas as pd\n",
    "\n",
    "\n",
    "def show_datasets(list):\n",
    "    for dataset in datasets:\n",
    "        dataset.head()\n",
    "        print(dataset, \"\\n\")\n",
    "\n",
    "\n",
    "# datasets\n",
    "M = pd.read_csv(\"datasets/RDW/GEBIEDSBEHEERDER.csv\")\n",
    "F = pd.read_csv(\"datasets/RDW/TARIEFDEEL.csv\")\n",
    "AREA = pd.read_csv(\"datasets/RDW/GEBIED.csv\")\n",
    "\n",
    "datasets = [M, F, AREA]\n",
    "\n",
    "show_datasets(datasets)\n"
   ]
  },
  {
   "cell_type": "code",
   "execution_count": null,
   "metadata": {},
   "outputs": [],
   "source": []
  }
 ]
}