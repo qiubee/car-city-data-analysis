{
 "metadata": {
  "language_info": {
   "codemirror_mode": {
    "name": "ipython",
    "version": 3
   },
   "file_extension": ".py",
   "mimetype": "text/x-python",
   "name": "python",
   "nbconvert_exporter": "python",
   "pygments_lexer": "ipython3",
   "version": "3.6.9-final"
  },
  "orig_nbformat": 2,
  "kernelspec": {
   "name": "python36964bitenv073151e35ced4d4ba62b1ad05ebd7020",
   "display_name": "Python 3.6.9 64-bit ('env')"
  }
 },
 "nbformat": 4,
 "nbformat_minor": 2,
 "cells": [
  {
   "source": [
    "# Combining datasets from RDW\n",
    "\n",
    "Here I attempt to combine as many datasets from RDW as possible. I'll use `pandas` to clean and merge them."
   ],
   "cell_type": "markdown",
   "metadata": {}
  },
  {
   "source": [
    "To see the content of multiple datasets I've made a function printing out each dataset. First I save multiple datasets in seperate variables. Then I add all the individual datasets in a list *datasets* and call the show_datasets function. "
   ],
   "cell_type": "markdown",
   "metadata": {}
  },
  {
   "cell_type": "code",
   "execution_count": 1,
   "metadata": {},
   "outputs": [
    {
     "output_type": "stream",
     "name": "stdout",
     "text": [
      "   AreaManagerId            AreaManagerDesc  StartDateAreaManagerId  \\\n0           2468  Aberdeen Asset Management                20140101   \n1           1783                   Westland                20131024   \n2           1708            Steenwijkerland                20131018   \n3           1895                    Oldambt                20120608   \n4            267                    Nijkerk                20120405   \n\n   EndDateAreaManagerId  URL  \n0              29991231  NaN  \n1              29991231  NaN  \n2              29991231  NaN  \n3              29991231  NaN  \n4              29991231  NaN   \n\n   AreaManagerId FareCalculationCode  StartDateFarePart  \\\n0            512               TAR04           20150101   \n1             34             BEZVGBZ           20161101   \n2            150               TAR04           20121218   \n3            150               TAR03           20140101   \n4            150               TAR04           20150101   \n\n   StartDurationFarePart  EndDurationFarePart  AmountFarePart  \\\n0                      0               999999        0.020000   \n1                      0                    4        0.000000   \n2                      0               999999        0.016667   \n3                      0                   48        0.041667   \n4                      0               999999        0.018519   \n\n   StepSizeFarePart  EndDateFarePart  AmountCumulative  \n0                 1         29991231               0.0  \n1                 4         20170102               0.0  \n2                 1         20150101               0.0  \n3                 1         20150101               0.0  \n4                 1         29991231               0.0   \n\n   AreaManagerId      AreaId                       AreaDesc  StartDateArea  \\\n0           2448   603_BOGP4    In de Bogaard P4 (Rijswijk)       20140101   \n1            303  303_STRAND             Strand Drontermeer       20170101   \n2           2448    518_GRMA  Garage Grote Markt (Den Haag)       20131125   \n3           1900   1900_LEMM                      Lemmerweg       20140101   \n4            796      020121                   Luybenstraat       20110930   \n\n   EndDateArea   UsageId  \n0     29991231   GARAGEP  \n1     29991231  BETAALDP  \n2     29991231   GARAGEP  \n3     29991231  BETAALDP  \n4     20111001  BETAALDP   \n\n    Organization  Organization ID  Static parking data  \\\n0      Groningen               14                 True   \n1          Haren               17                 True   \n2         Almere               34                 True   \n3    Dongeradeel               58                 True   \n4  Franekeradeel               70                 True   \n\n                     URL static parking data Standard static parking data  \\\n0  https://npropendata.rdw.nl/parkingdata/v2                      SPDP2.0   \n1  https://npropendata.rdw.nl/parkingdata/v2                      SPDP2.0   \n2  https://npropendata.rdw.nl/parkingdata/v2                      SPDP2.0   \n3  https://npropendata.rdw.nl/parkingdata/v2                      SPDP2.0   \n4  https://npropendata.rdw.nl/parkingdata/v2                      SPDP2.0   \n\n  Dynamic parking data                        URL dynamic parking data  \n0                 True          http://spdp.vid.nl/v1/dynamic/hoogkerk  \n1                 True             http://spdp.vid.nl/v1/dynamic/haren  \n2                 True  http://opd.it-t.nl/Data/parkingdata/v1/almere/  \n3                  NaN                                             NaN  \n4                  NaN                                             NaN   \n\n   AreaManagerId      AreaId   StartOfPeriod PeriodName  ExitPossibleAllDay  \\\n0            599    599_KRZM  20141001000000        NaN                   1   \n1            268  268_KELFKB  20141001000000        NaN                   0   \n2            599    599_OUHA  20141001000000        NaN                   1   \n3            599    599_PL53  20141001000000        NaN                   1   \n4            268   268_KEIZK  20141001000000        NaN                   0   \n\n   OpenAllYear  EndOfPeriod  \n0          1.0          NaN  \n1          0.0          NaN  \n2          1.0          NaN  \n3          0.0          NaN  \n4          0.0          NaN   \n\n   AreaManagerId      AreaId   StartOfPeriod       Days  EnterFrom  \\\n0            268  268_KELFKB  20141001000000   ZATERDAG        700   \n1            268  268_KELFKB  20141001000000    DINSDAG        700   \n2            268  268_MARBUR  20141001000000  DONDERDAG        700   \n3            268  268_KELFKB  20141001000000     ZONDAG          0   \n4            268  268_MOLPDK  20141001000000  DONDERDAG        700   \n\n   EnterUntil  EndOfPeriod  \n0        2400          NaN  \n1        2400          NaN  \n2        2400          NaN  \n3         400          NaN  \n4        2400          NaN   \n\n   AreaManagerId    AreaId  StartDateSpecifications  Capacity  \\\n0            599  599_KRZM           20141101000000      1700   \n1             34     34_P6           20200713132559       886   \n2           2460   546_LAM           20191119162856       350   \n3             14   14_PRZE           20141101000000       100   \n4             14   14_PRHA           20141101000000       385   \n\n   EndDateSpecifications  ChargingPointCapacity  DisabledAccess  \\\n0           2.099123e+13                      4             0.0   \n1                    NaN                      4             0.0   \n2                    NaN                      0             0.0   \n3           2.099123e+13                      0             0.0   \n4           2.099123e+13                      0             0.0   \n\n   MaximumVehicleHeight LimitedAccess  \n0                     0           NaN  \n1                   210             N  \n2                   205             N  \n3                     0           NaN  \n4                     0           NaN   \n\n   AreaManagerId RegulationId  StartDateTimeFrame DayTimeFrame  \\\n0            385        REG02      20120605000000     ZATERDAG   \n1            717    REGELING4      20130425170342      DINSDAG   \n2            405     405_APPE      20131021140810    KOOPAVOND   \n3           1783   1783_MODK2      20131024115759      DINSDAG   \n4            642        REG02      20120921162256      VRIJDAG   \n\n   StartTimeTimeFrame  EndTimeTimeFrame ClaimRightPossible  \\\n0                 700              2400                  J   \n1                 900              1900                  J   \n2                 900              2100                  J   \n3                   0              2400                  J   \n4                 900              1800                  J   \n\n  FareCalculationCode  MaxDurationRight  EndDateTimeFrame  \\\n0                 NaN              30.0    29991231235959   \n1               TAR04              60.0    20131231000000   \n2               TAR02               0.0    20140623000000   \n3               TAR05               0.0    29991231235959   \n4               TAR02               0.0    20140414161530   \n\n   MinParkingInterruption  \n0                     NaN  \n1                    15.0  \n2                     0.0  \n3                     NaN  \n4                     0.0   \n\n   AreaManagerId    UsageId       UsageIdDesc  StartDateUsageId  \\\n0           2468    GARAGEP    Garageparkeren          20140101   \n1            484   BETAALDP  Betaald Parkeren          20130919   \n2            353  HULPDNSTP        Hulpdienst          20130125   \n3           1900    GARAGEP   Garage Parkeren          20131011   \n4            855   BETAALDP  Betaald Parkeren          20131008   \n\n   EndDateUsageId SpecificationIndicator  SuperiorAreaManagerId  \\\n0        29991231                      N                 2468.0   \n1        29991231                      N                  484.0   \n2        29991231                      N                  353.0   \n3        29991231                      N                 1900.0   \n4        29991231                      N                  855.0   \n\n  SuperiorUsageId  \n0        PARKEREN  \n1        PARKEREN  \n2         VERGUNP  \n3        PARKEREN  \n4        PARKEREN   \n\n"
     ]
    }
   ],
   "source": [
    "import pandas as pd\n",
    "from functools import reduce\n",
    "\n",
    "\n",
    "def show_datasets(list):\n",
    "    for dataset in datasets:\n",
    "        print(dataset.head(), \"\\n\")\n",
    "\n",
    "\n",
    "# datasets\n",
    "AREA_MAN = pd.read_csv(\"../datasets/RDW/GEBIEDSBEHEERDER.csv\")\n",
    "FARE = pd.read_csv(\"../datasets/RDW/TARIEFDEEL.csv\")\n",
    "AREA = pd.read_csv(\"../datasets/RDW/GEBIED.csv\")\n",
    "INDEX = pd.read_csv(\"../datasets/RDW/Index_Statisch_Dynamisch.csv\")\n",
    "P_OPEN = pd.read_csv(\"../datasets/RDW/PARKING_OPEN.csv\")\n",
    "P_ACCESS = pd.read_csv(\"../datasets/RDW/PARKING_TOEGANG.csv\")\n",
    "P_SPEC = pd.read_csv(\"../datasets/RDW/SPECIFICATIES_PARKEERGEBIED.csv\")\n",
    "TIMEPERIOD = pd.read_csv(\"../datasets/RDW/TIJDVAK.csv\")\n",
    "USEGOAL = pd.read_csv(\"../datasets/RDW/GEBRUIKSDOEL.csv\")\n",
    "\n",
    "\n",
    "\n",
    "datasets = [AREA_MAN, FARE, AREA, INDEX, P_OPEN, P_ACCESS, P_SPEC, TIMEPERIOD, USEGOAL]\n",
    "\n",
    "show_datasets(datasets)\n"
   ]
  },
  {
   "source": [
    "Next I want to see if the names of a column in multiple datasets are the same, so I can merge them. I've made a function that will return the duplicate names in the datasets.\n",
    "\n",
    "First I create a empty list and set. I didn't know first how to find duplicates in a list so I did a search. I found an article called [Python – How to Find Duplicates in a List](https://shoutthegeek.com/how-to-find-duplicates-in-a-list-in-python/?PageSpeed=noscript) and I found an example of the duplicates being saved in a set. I tried to save it to a list but then the name of the duplicate gets added each time there is a match, resulting in the name of the duplicate being added 3 times.I saw in [this article](https://www.programiz.com/python-programming/set) the definition of a set:\n",
    "\n",
    "> A set is an unordered collection of items. Every set element is unique (no duplicates) and must be immutable (cannot be changed).\n",
    "\n",
    "So I used a set instead. \n",
    "\n",
    "Then I looped over each dataset and over the column names, saving the names in a list. Then I loop over the list and with `count()` it looks for duplicates. The name will be added to the *duplicates* set. Finally I covert the set to a list and return it."
   ],
   "cell_type": "markdown",
   "metadata": {}
  },
  {
   "source": [
    "def get_duplicates(dataset_list):\n",
    "    lst = []\n",
    "    duplicates = set()\n",
    "    for dataset in dataset_list:\n",
    "        col_names = dataset.columns.values\n",
    "        for name in col_names:\n",
    "            lst.append(name)\n",
    "    for i in lst:\n",
    "        if lst.count(i) > 1:\n",
    "            duplicates.add(i)\n",
    "    return list(duplicates)\n",
    "\n",
    "dupl = get_duplicates(datasets)\n",
    "print(dupl)\n",
    "    "
   ],
   "cell_type": "code",
   "metadata": {},
   "execution_count": 2,
   "outputs": [
    {
     "output_type": "stream",
     "name": "stdout",
     "text": [
      "['EndOfPeriod', 'AreaId', 'UsageId', 'StartOfPeriod', 'FareCalculationCode', 'AreaManagerId']\n"
     ]
    }
   ]
  },
  {
   "source": [
    "To merge all the dataset I searched for how to do that. I found a question on stackoverflow called [Python: pandas merge multiple dataframes](https://stackoverflow.com/questions/44327999/python-pandas-merge-multiple-dataframes) and the code uses an anynymous function with *left* and *right* parameters containing the datasets and `pd.merge` to merge them together. I "
   ],
   "cell_type": "markdown",
   "metadata": {}
  },
  {
   "cell_type": "code",
   "execution_count": 3,
   "metadata": {
    "tags": []
   },
   "outputs": [
    {
     "output_type": "stream",
     "name": "stdout",
     "text": [
      "Match: AreaManagerId\n",
      "Match: AreaManagerId\n",
      "Match: EndOfPeriod\n",
      "Match: AreaId\n",
      "Match: StartOfPeriod\n",
      "Match: AreaManagerId\n",
      "Match: AreaId\n",
      "Match: AreaManagerId\n",
      "Match: AreaManagerId\n",
      "Match: AreaManagerId\n",
      "Match: AreaManagerId\n"
     ]
    },
    {
     "output_type": "execute_result",
     "data": {
      "text/plain": [
       "      AreaManagerId   UsageId          UsageIdDesc  StartDateUsageId  \\\n",
       "0              2468   GARAGEP       Garageparkeren          20140101   \n",
       "1              2468   VERGUNP  Vergunning Parkeren          20140101   \n",
       "2              2468  PARKEREN             Parkeren          20140101   \n",
       "3              2468  BETAALDP     Betaald Parkeren          20140101   \n",
       "4               484  BETAALDP     Betaald Parkeren          20130919   \n",
       "...             ...       ...                  ...               ...   \n",
       "2049            612   VERGUNP  Vergunning Parkeren          20121025   \n",
       "2050            612  TERREINP     Terrein Parkeren          20131010   \n",
       "2051            612  PARKEREN             Parkeren          20121025   \n",
       "2052            612  BETAALDP     Betaald Parkeren          20121025   \n",
       "2053            612   GARAGEP      Garage Parkeren          20131010   \n",
       "\n",
       "      EndDateUsageId SpecificationIndicator  SuperiorAreaManagerId  \\\n",
       "0           29991231                      N                 2468.0   \n",
       "1           29991231                      J                 2468.0   \n",
       "2           29991231                      J                    NaN   \n",
       "3           29991231                      N                 2468.0   \n",
       "4           29991231                      N                  484.0   \n",
       "...              ...                    ...                    ...   \n",
       "2049        20201019                      J                  612.0   \n",
       "2050        20201019                      N                  612.0   \n",
       "2051        20201019                      J                  612.0   \n",
       "2052        20201019                      N                  612.0   \n",
       "2053        20201019                      N                  612.0   \n",
       "\n",
       "     SuperiorUsageId            AreaManagerDesc  StartDateAreaManagerId  \\\n",
       "0           PARKEREN  Aberdeen Asset Management                20140101   \n",
       "1           PARKEREN  Aberdeen Asset Management                20140101   \n",
       "2                NaN  Aberdeen Asset Management                20140101   \n",
       "3           PARKEREN  Aberdeen Asset Management                20140101   \n",
       "4           PARKEREN        Alphen aan den Rijn                20130919   \n",
       "...              ...                        ...                     ...   \n",
       "2049        PARKEREN                Spijkenisse                20121025   \n",
       "2050        PARKEREN                Spijkenisse                20121025   \n",
       "2051             NaN                Spijkenisse                20121025   \n",
       "2052        PARKEREN                Spijkenisse                20121025   \n",
       "2053        PARKEREN                Spijkenisse                20121025   \n",
       "\n",
       "      EndDateAreaManagerId                      URL  \n",
       "0                 29991231                      NaN  \n",
       "1                 29991231                      NaN  \n",
       "2                 29991231                      NaN  \n",
       "3                 29991231                      NaN  \n",
       "4                 29991231  www.alphenaandenrijn.nl  \n",
       "...                    ...                      ...  \n",
       "2049              29991231                      NaN  \n",
       "2050              29991231                      NaN  \n",
       "2051              29991231                      NaN  \n",
       "2052              29991231                      NaN  \n",
       "2053              29991231                      NaN  \n",
       "\n",
       "[2054 rows x 12 columns]"
      ],
      "text/html": "<div>\n<style scoped>\n    .dataframe tbody tr th:only-of-type {\n        vertical-align: middle;\n    }\n\n    .dataframe tbody tr th {\n        vertical-align: top;\n    }\n\n    .dataframe thead th {\n        text-align: right;\n    }\n</style>\n<table border=\"1\" class=\"dataframe\">\n  <thead>\n    <tr style=\"text-align: right;\">\n      <th></th>\n      <th>AreaManagerId</th>\n      <th>UsageId</th>\n      <th>UsageIdDesc</th>\n      <th>StartDateUsageId</th>\n      <th>EndDateUsageId</th>\n      <th>SpecificationIndicator</th>\n      <th>SuperiorAreaManagerId</th>\n      <th>SuperiorUsageId</th>\n      <th>AreaManagerDesc</th>\n      <th>StartDateAreaManagerId</th>\n      <th>EndDateAreaManagerId</th>\n      <th>URL</th>\n    </tr>\n  </thead>\n  <tbody>\n    <tr>\n      <th>0</th>\n      <td>2468</td>\n      <td>GARAGEP</td>\n      <td>Garageparkeren</td>\n      <td>20140101</td>\n      <td>29991231</td>\n      <td>N</td>\n      <td>2468.0</td>\n      <td>PARKEREN</td>\n      <td>Aberdeen Asset Management</td>\n      <td>20140101</td>\n      <td>29991231</td>\n      <td>NaN</td>\n    </tr>\n    <tr>\n      <th>1</th>\n      <td>2468</td>\n      <td>VERGUNP</td>\n      <td>Vergunning Parkeren</td>\n      <td>20140101</td>\n      <td>29991231</td>\n      <td>J</td>\n      <td>2468.0</td>\n      <td>PARKEREN</td>\n      <td>Aberdeen Asset Management</td>\n      <td>20140101</td>\n      <td>29991231</td>\n      <td>NaN</td>\n    </tr>\n    <tr>\n      <th>2</th>\n      <td>2468</td>\n      <td>PARKEREN</td>\n      <td>Parkeren</td>\n      <td>20140101</td>\n      <td>29991231</td>\n      <td>J</td>\n      <td>NaN</td>\n      <td>NaN</td>\n      <td>Aberdeen Asset Management</td>\n      <td>20140101</td>\n      <td>29991231</td>\n      <td>NaN</td>\n    </tr>\n    <tr>\n      <th>3</th>\n      <td>2468</td>\n      <td>BETAALDP</td>\n      <td>Betaald Parkeren</td>\n      <td>20140101</td>\n      <td>29991231</td>\n      <td>N</td>\n      <td>2468.0</td>\n      <td>PARKEREN</td>\n      <td>Aberdeen Asset Management</td>\n      <td>20140101</td>\n      <td>29991231</td>\n      <td>NaN</td>\n    </tr>\n    <tr>\n      <th>4</th>\n      <td>484</td>\n      <td>BETAALDP</td>\n      <td>Betaald Parkeren</td>\n      <td>20130919</td>\n      <td>29991231</td>\n      <td>N</td>\n      <td>484.0</td>\n      <td>PARKEREN</td>\n      <td>Alphen aan den Rijn</td>\n      <td>20130919</td>\n      <td>29991231</td>\n      <td>www.alphenaandenrijn.nl</td>\n    </tr>\n    <tr>\n      <th>...</th>\n      <td>...</td>\n      <td>...</td>\n      <td>...</td>\n      <td>...</td>\n      <td>...</td>\n      <td>...</td>\n      <td>...</td>\n      <td>...</td>\n      <td>...</td>\n      <td>...</td>\n      <td>...</td>\n      <td>...</td>\n    </tr>\n    <tr>\n      <th>2049</th>\n      <td>612</td>\n      <td>VERGUNP</td>\n      <td>Vergunning Parkeren</td>\n      <td>20121025</td>\n      <td>20201019</td>\n      <td>J</td>\n      <td>612.0</td>\n      <td>PARKEREN</td>\n      <td>Spijkenisse</td>\n      <td>20121025</td>\n      <td>29991231</td>\n      <td>NaN</td>\n    </tr>\n    <tr>\n      <th>2050</th>\n      <td>612</td>\n      <td>TERREINP</td>\n      <td>Terrein Parkeren</td>\n      <td>20131010</td>\n      <td>20201019</td>\n      <td>N</td>\n      <td>612.0</td>\n      <td>PARKEREN</td>\n      <td>Spijkenisse</td>\n      <td>20121025</td>\n      <td>29991231</td>\n      <td>NaN</td>\n    </tr>\n    <tr>\n      <th>2051</th>\n      <td>612</td>\n      <td>PARKEREN</td>\n      <td>Parkeren</td>\n      <td>20121025</td>\n      <td>20201019</td>\n      <td>J</td>\n      <td>612.0</td>\n      <td>NaN</td>\n      <td>Spijkenisse</td>\n      <td>20121025</td>\n      <td>29991231</td>\n      <td>NaN</td>\n    </tr>\n    <tr>\n      <th>2052</th>\n      <td>612</td>\n      <td>BETAALDP</td>\n      <td>Betaald Parkeren</td>\n      <td>20121025</td>\n      <td>20201019</td>\n      <td>N</td>\n      <td>612.0</td>\n      <td>PARKEREN</td>\n      <td>Spijkenisse</td>\n      <td>20121025</td>\n      <td>29991231</td>\n      <td>NaN</td>\n    </tr>\n    <tr>\n      <th>2053</th>\n      <td>612</td>\n      <td>GARAGEP</td>\n      <td>Garage Parkeren</td>\n      <td>20131010</td>\n      <td>20201019</td>\n      <td>N</td>\n      <td>612.0</td>\n      <td>PARKEREN</td>\n      <td>Spijkenisse</td>\n      <td>20121025</td>\n      <td>29991231</td>\n      <td>NaN</td>\n    </tr>\n  </tbody>\n</table>\n<p>2054 rows × 12 columns</p>\n</div>"
     },
     "metadata": {},
     "execution_count": 3
    }
   ],
   "source": [
    "def merge_on(data_frames, col_names):\n",
    "    merged = []\n",
    "    for i, df in enumerate(data_frames):\n",
    "        r = (i + 1) % len(data_frames)\n",
    "        df_set = [df, data_frames[r]]\n",
    "        for key in col_names:\n",
    "            try:\n",
    "                merged = merge_dfs(df_set, key)\n",
    "                print(f\"Match: {key}\")\n",
    "            except KeyError:\n",
    "                pass\n",
    "    return merged\n",
    "\n",
    "\n",
    "def merge_dfs(data_frames, col_name, type=\"outer\"):\n",
    "    return reduce(lambda left, right: pd.merge(left, right, on=[col_name], how=type), data_frames)\n",
    "\n",
    "\n",
    "# Wrapping around list https://stackoverflow.com/questions/22122623/wrapping-around-on-a-list-when-list-index-is-out-of-range\n",
    "\n",
    "\n",
    "def wrap_index_list(list, add=1):\n",
    "    result = []\n",
    "    for i in range(len(list)):\n",
    "        result.append(list.index(list[(i + add) % len(list)]))\n",
    "    return result\n",
    "\n",
    "\n",
    "all_data = merge_on(datasets, dupl)\n",
    "all_data\n"
   ]
  },
  {
   "source": [
    "I noticed that the data wasn't complete yet so I tried to add more datasets that would match and could be added. I saw that *Gebied.csv* and *PARKIN_OPEN.csv* had the same *AreaManagerId* key and so I made them combine. I've put them in a variable called *AREA_MAN_ID* and made this combine again with the already combined data in *all_data*."
   ],
   "cell_type": "markdown",
   "metadata": {}
  },
  {
   "cell_type": "code",
   "execution_count": 4,
   "metadata": {},
   "outputs": [
    {
     "output_type": "execute_result",
     "data": {
      "text/plain": [
       "   AreaManagerId UsageId_x       UsageIdDesc  StartDateUsageId  \\\n",
       "0            484  BETAALDP  Betaald Parkeren          20130919   \n",
       "1            484  BETAALDP  Betaald Parkeren          20130919   \n",
       "2            484  BETAALDP  Betaald Parkeren          20130919   \n",
       "3            484  BETAALDP  Betaald Parkeren          20130919   \n",
       "4            484  BETAALDP  Betaald Parkeren          20130919   \n",
       "5            484  BETAALDP  Betaald Parkeren          20130919   \n",
       "6            484  BETAALDP  Betaald Parkeren          20130919   \n",
       "7            484  BETAALDP  Betaald Parkeren          20130919   \n",
       "8            484  BETAALDP  Betaald Parkeren          20130919   \n",
       "9            484  BETAALDP  Betaald Parkeren          20130919   \n",
       "\n",
       "   EndDateUsageId SpecificationIndicator  SuperiorAreaManagerId  \\\n",
       "0        29991231                      N                  484.0   \n",
       "1        29991231                      N                  484.0   \n",
       "2        29991231                      N                  484.0   \n",
       "3        29991231                      N                  484.0   \n",
       "4        29991231                      N                  484.0   \n",
       "5        29991231                      N                  484.0   \n",
       "6        29991231                      N                  484.0   \n",
       "7        29991231                      N                  484.0   \n",
       "8        29991231                      N                  484.0   \n",
       "9        29991231                      N                  484.0   \n",
       "\n",
       "  SuperiorUsageId      AreaManagerDesc  StartDateAreaManagerId  ...  \\\n",
       "0        PARKEREN  Alphen aan den Rijn                20130919  ...   \n",
       "1        PARKEREN  Alphen aan den Rijn                20130919  ...   \n",
       "2        PARKEREN  Alphen aan den Rijn                20130919  ...   \n",
       "3        PARKEREN  Alphen aan den Rijn                20130919  ...   \n",
       "4        PARKEREN  Alphen aan den Rijn                20130919  ...   \n",
       "5        PARKEREN  Alphen aan den Rijn                20130919  ...   \n",
       "6        PARKEREN  Alphen aan den Rijn                20130919  ...   \n",
       "7        PARKEREN  Alphen aan den Rijn                20130919  ...   \n",
       "8        PARKEREN  Alphen aan den Rijn                20130919  ...   \n",
       "9        PARKEREN  Alphen aan den Rijn                20130919  ...   \n",
       "\n",
       "    StartOfPeriod PeriodName ExitPossibleAllDay  OpenAllYear EndOfPeriod  \\\n",
       "0  20170211151655        NaN                  0          0.0         NaN   \n",
       "1  20170211151655        NaN                  0          0.0         NaN   \n",
       "2  20170211151655        NaN                  0          0.0         NaN   \n",
       "3  20170211151655        NaN                  0          0.0         NaN   \n",
       "4  20170211151655        NaN                  0          0.0         NaN   \n",
       "5  20170211151655        NaN                  0          0.0         NaN   \n",
       "6  20170211151655        NaN                  0          0.0         NaN   \n",
       "7  20170211151655        NaN                  0          0.0         NaN   \n",
       "8  20170211151655        NaN                  0          0.0         NaN   \n",
       "9  20170211151655        NaN                  0          0.0         NaN   \n",
       "\n",
       "     AreaId_y                                       AreaDesc  StartDateArea  \\\n",
       "0    484_PALN  Straatparkeren Paradijslaan (Alphen a/d Rijn)       20131022   \n",
       "1   484_CPGEM           Carpool Gemeneweg (Hazerswoude-Dorp)       20150505   \n",
       "2   484_CPNIE         Carpool Nieuwkoopseweg (Aarlanderveen)       20150505   \n",
       "3    484_KEZN    Blauwe Zone Kerk en Zanen (Alphen a/d Rijn)       20131022   \n",
       "4   C_VLAMING         Vergunningen Cornelis de Vlamingstraat       20160101   \n",
       "5   AIDAPLEIN                         Vergunningen Aidaplein       20160101   \n",
       "6    CARMENPL                       Vergunningen Carmenplein       20160101   \n",
       "7  LAGE_ZIJDE                        Vergunningen Lage Zijde       20160101   \n",
       "8   H-L_ZIJDE       Vergunningen Bedrijven Hoge / Lage zijde       20160101   \n",
       "9  HOGE_ZIJDE                        Vergunningen Hoge zijde       20160101   \n",
       "\n",
       "  EndDateArea UsageId_y  \n",
       "0    20140718  BETAALDP  \n",
       "1    20161231   CARPOOL  \n",
       "2    20161231   CARPOOL  \n",
       "3    20140718   BLAUWEZ  \n",
       "4    20160102   VERGUNP  \n",
       "5    20160102   VERGUNP  \n",
       "6    20160102   VERGUNP  \n",
       "7    20160102   VERGUNP  \n",
       "8    20160102   VERGUNP  \n",
       "9    20160102   VERGUNP  \n",
       "\n",
       "[10 rows x 23 columns]"
      ],
      "text/html": "<div>\n<style scoped>\n    .dataframe tbody tr th:only-of-type {\n        vertical-align: middle;\n    }\n\n    .dataframe tbody tr th {\n        vertical-align: top;\n    }\n\n    .dataframe thead th {\n        text-align: right;\n    }\n</style>\n<table border=\"1\" class=\"dataframe\">\n  <thead>\n    <tr style=\"text-align: right;\">\n      <th></th>\n      <th>AreaManagerId</th>\n      <th>UsageId_x</th>\n      <th>UsageIdDesc</th>\n      <th>StartDateUsageId</th>\n      <th>EndDateUsageId</th>\n      <th>SpecificationIndicator</th>\n      <th>SuperiorAreaManagerId</th>\n      <th>SuperiorUsageId</th>\n      <th>AreaManagerDesc</th>\n      <th>StartDateAreaManagerId</th>\n      <th>...</th>\n      <th>StartOfPeriod</th>\n      <th>PeriodName</th>\n      <th>ExitPossibleAllDay</th>\n      <th>OpenAllYear</th>\n      <th>EndOfPeriod</th>\n      <th>AreaId_y</th>\n      <th>AreaDesc</th>\n      <th>StartDateArea</th>\n      <th>EndDateArea</th>\n      <th>UsageId_y</th>\n    </tr>\n  </thead>\n  <tbody>\n    <tr>\n      <th>0</th>\n      <td>484</td>\n      <td>BETAALDP</td>\n      <td>Betaald Parkeren</td>\n      <td>20130919</td>\n      <td>29991231</td>\n      <td>N</td>\n      <td>484.0</td>\n      <td>PARKEREN</td>\n      <td>Alphen aan den Rijn</td>\n      <td>20130919</td>\n      <td>...</td>\n      <td>20170211151655</td>\n      <td>NaN</td>\n      <td>0</td>\n      <td>0.0</td>\n      <td>NaN</td>\n      <td>484_PALN</td>\n      <td>Straatparkeren Paradijslaan (Alphen a/d Rijn)</td>\n      <td>20131022</td>\n      <td>20140718</td>\n      <td>BETAALDP</td>\n    </tr>\n    <tr>\n      <th>1</th>\n      <td>484</td>\n      <td>BETAALDP</td>\n      <td>Betaald Parkeren</td>\n      <td>20130919</td>\n      <td>29991231</td>\n      <td>N</td>\n      <td>484.0</td>\n      <td>PARKEREN</td>\n      <td>Alphen aan den Rijn</td>\n      <td>20130919</td>\n      <td>...</td>\n      <td>20170211151655</td>\n      <td>NaN</td>\n      <td>0</td>\n      <td>0.0</td>\n      <td>NaN</td>\n      <td>484_CPGEM</td>\n      <td>Carpool Gemeneweg (Hazerswoude-Dorp)</td>\n      <td>20150505</td>\n      <td>20161231</td>\n      <td>CARPOOL</td>\n    </tr>\n    <tr>\n      <th>2</th>\n      <td>484</td>\n      <td>BETAALDP</td>\n      <td>Betaald Parkeren</td>\n      <td>20130919</td>\n      <td>29991231</td>\n      <td>N</td>\n      <td>484.0</td>\n      <td>PARKEREN</td>\n      <td>Alphen aan den Rijn</td>\n      <td>20130919</td>\n      <td>...</td>\n      <td>20170211151655</td>\n      <td>NaN</td>\n      <td>0</td>\n      <td>0.0</td>\n      <td>NaN</td>\n      <td>484_CPNIE</td>\n      <td>Carpool Nieuwkoopseweg (Aarlanderveen)</td>\n      <td>20150505</td>\n      <td>20161231</td>\n      <td>CARPOOL</td>\n    </tr>\n    <tr>\n      <th>3</th>\n      <td>484</td>\n      <td>BETAALDP</td>\n      <td>Betaald Parkeren</td>\n      <td>20130919</td>\n      <td>29991231</td>\n      <td>N</td>\n      <td>484.0</td>\n      <td>PARKEREN</td>\n      <td>Alphen aan den Rijn</td>\n      <td>20130919</td>\n      <td>...</td>\n      <td>20170211151655</td>\n      <td>NaN</td>\n      <td>0</td>\n      <td>0.0</td>\n      <td>NaN</td>\n      <td>484_KEZN</td>\n      <td>Blauwe Zone Kerk en Zanen (Alphen a/d Rijn)</td>\n      <td>20131022</td>\n      <td>20140718</td>\n      <td>BLAUWEZ</td>\n    </tr>\n    <tr>\n      <th>4</th>\n      <td>484</td>\n      <td>BETAALDP</td>\n      <td>Betaald Parkeren</td>\n      <td>20130919</td>\n      <td>29991231</td>\n      <td>N</td>\n      <td>484.0</td>\n      <td>PARKEREN</td>\n      <td>Alphen aan den Rijn</td>\n      <td>20130919</td>\n      <td>...</td>\n      <td>20170211151655</td>\n      <td>NaN</td>\n      <td>0</td>\n      <td>0.0</td>\n      <td>NaN</td>\n      <td>C_VLAMING</td>\n      <td>Vergunningen Cornelis de Vlamingstraat</td>\n      <td>20160101</td>\n      <td>20160102</td>\n      <td>VERGUNP</td>\n    </tr>\n    <tr>\n      <th>5</th>\n      <td>484</td>\n      <td>BETAALDP</td>\n      <td>Betaald Parkeren</td>\n      <td>20130919</td>\n      <td>29991231</td>\n      <td>N</td>\n      <td>484.0</td>\n      <td>PARKEREN</td>\n      <td>Alphen aan den Rijn</td>\n      <td>20130919</td>\n      <td>...</td>\n      <td>20170211151655</td>\n      <td>NaN</td>\n      <td>0</td>\n      <td>0.0</td>\n      <td>NaN</td>\n      <td>AIDAPLEIN</td>\n      <td>Vergunningen Aidaplein</td>\n      <td>20160101</td>\n      <td>20160102</td>\n      <td>VERGUNP</td>\n    </tr>\n    <tr>\n      <th>6</th>\n      <td>484</td>\n      <td>BETAALDP</td>\n      <td>Betaald Parkeren</td>\n      <td>20130919</td>\n      <td>29991231</td>\n      <td>N</td>\n      <td>484.0</td>\n      <td>PARKEREN</td>\n      <td>Alphen aan den Rijn</td>\n      <td>20130919</td>\n      <td>...</td>\n      <td>20170211151655</td>\n      <td>NaN</td>\n      <td>0</td>\n      <td>0.0</td>\n      <td>NaN</td>\n      <td>CARMENPL</td>\n      <td>Vergunningen Carmenplein</td>\n      <td>20160101</td>\n      <td>20160102</td>\n      <td>VERGUNP</td>\n    </tr>\n    <tr>\n      <th>7</th>\n      <td>484</td>\n      <td>BETAALDP</td>\n      <td>Betaald Parkeren</td>\n      <td>20130919</td>\n      <td>29991231</td>\n      <td>N</td>\n      <td>484.0</td>\n      <td>PARKEREN</td>\n      <td>Alphen aan den Rijn</td>\n      <td>20130919</td>\n      <td>...</td>\n      <td>20170211151655</td>\n      <td>NaN</td>\n      <td>0</td>\n      <td>0.0</td>\n      <td>NaN</td>\n      <td>LAGE_ZIJDE</td>\n      <td>Vergunningen Lage Zijde</td>\n      <td>20160101</td>\n      <td>20160102</td>\n      <td>VERGUNP</td>\n    </tr>\n    <tr>\n      <th>8</th>\n      <td>484</td>\n      <td>BETAALDP</td>\n      <td>Betaald Parkeren</td>\n      <td>20130919</td>\n      <td>29991231</td>\n      <td>N</td>\n      <td>484.0</td>\n      <td>PARKEREN</td>\n      <td>Alphen aan den Rijn</td>\n      <td>20130919</td>\n      <td>...</td>\n      <td>20170211151655</td>\n      <td>NaN</td>\n      <td>0</td>\n      <td>0.0</td>\n      <td>NaN</td>\n      <td>H-L_ZIJDE</td>\n      <td>Vergunningen Bedrijven Hoge / Lage zijde</td>\n      <td>20160101</td>\n      <td>20160102</td>\n      <td>VERGUNP</td>\n    </tr>\n    <tr>\n      <th>9</th>\n      <td>484</td>\n      <td>BETAALDP</td>\n      <td>Betaald Parkeren</td>\n      <td>20130919</td>\n      <td>29991231</td>\n      <td>N</td>\n      <td>484.0</td>\n      <td>PARKEREN</td>\n      <td>Alphen aan den Rijn</td>\n      <td>20130919</td>\n      <td>...</td>\n      <td>20170211151655</td>\n      <td>NaN</td>\n      <td>0</td>\n      <td>0.0</td>\n      <td>NaN</td>\n      <td>HOGE_ZIJDE</td>\n      <td>Vergunningen Hoge zijde</td>\n      <td>20160101</td>\n      <td>20160102</td>\n      <td>VERGUNP</td>\n    </tr>\n  </tbody>\n</table>\n<p>10 rows × 23 columns</p>\n</div>"
     },
     "metadata": {},
     "execution_count": 4
    }
   ],
   "source": [
    "AREA_MAN_ID = merge_dfs([P_OPEN, AREA], \"AreaManagerId\", \"inner\")\n",
    "all_data = merge_dfs([all_data, AREA_MAN_ID], \"AreaManagerId\", \"inner\")\n",
    "all_data.head(10)"
   ]
  },
  {
   "source": [
    "Als laatst zag ik dat er meerdere Id's waren met *y* en *x*. Ik heb die veranderd naar betere benaming voor het type data. Ook heb ik de kolommen die ik niet ga gebruiken verwijderd.\n",
    "\n",
    "Finally I saw that there were multiple ids with *y* and *x*. I chanced their name to better describe their data type and also removed columns I won't use anymore."
   ],
   "cell_type": "markdown",
   "metadata": {}
  },
  {
   "cell_type": "code",
   "execution_count": 5,
   "metadata": {},
   "outputs": [],
   "source": [
    "rename_col = {\"UsageId_y\": \"UsageType_Id\", \"AreaId_x\": \"AreaZone_Id\"}\n",
    "remove_col = [\"SpecificationIndicator\", \"SuperiorAreaManagerId\", \"StartDateAreaManagerId\", \"EndDateAreaManagerId\", \"StartOfPeriod\", \"EndOfPeriod\", \"StartDateArea\", \"EndDateArea\", \"AreaId_y\", \"UsageId_x\", \"PeriodName\", \"URL\"]\n",
    "\n",
    "all_data = all_data.drop(columns=remove_col, axis=1)\n",
    "all_data = all_data.rename(columns=rename_col)\n",
    "\n",
    "all_data[\"ExitPossibleAllDay\"] = all_data[\"ExitPossibleAllDay\"].replace([1, 0],[True, False])\n",
    "all_data[\"OpenAllYear\"] = all_data[\"OpenAllYear\"].replace([1.0, 0.0],[True, False]).fillna(False)"
   ]
  },
  {
   "cell_type": "code",
   "execution_count": 6,
   "metadata": {},
   "outputs": [
    {
     "output_type": "execute_result",
     "data": {
      "text/plain": [
       "         AreaManagerId      UsageIdDesc  StartDateUsageId  EndDateUsageId  \\\n",
       "1042978            612  Garage Parkeren          20131010        20201019   \n",
       "1042979            612  Garage Parkeren          20131010        20201019   \n",
       "1042980            612  Garage Parkeren          20131010        20201019   \n",
       "1042981            612  Garage Parkeren          20131010        20201019   \n",
       "1042982            612  Garage Parkeren          20131010        20201019   \n",
       "1042983            612  Garage Parkeren          20131010        20201019   \n",
       "1042984            612  Garage Parkeren          20131010        20201019   \n",
       "1042985            612  Garage Parkeren          20131010        20201019   \n",
       "1042986            612  Garage Parkeren          20131010        20201019   \n",
       "1042987            612  Garage Parkeren          20131010        20201019   \n",
       "\n",
       "        SuperiorUsageId AreaManagerDesc AreaZone_Id  ExitPossibleAllDay  \\\n",
       "1042978        PARKEREN     Spijkenisse     612_CPG                True   \n",
       "1042979        PARKEREN     Spijkenisse     612_CPG                True   \n",
       "1042980        PARKEREN     Spijkenisse     612_CPG                True   \n",
       "1042981        PARKEREN     Spijkenisse     612_CPG                True   \n",
       "1042982        PARKEREN     Spijkenisse     612_CPG                True   \n",
       "1042983        PARKEREN     Spijkenisse     612_CPG                True   \n",
       "1042984        PARKEREN     Spijkenisse     612_CPG                True   \n",
       "1042985        PARKEREN     Spijkenisse     612_CPG                True   \n",
       "1042986        PARKEREN     Spijkenisse     612_CPG                True   \n",
       "1042987        PARKEREN     Spijkenisse     612_CPG                True   \n",
       "\n",
       "        OpenAllYear                                           AreaDesc  \\\n",
       "1042978       False                                         Gildenwijk   \n",
       "1042979       False                                       Centrum Oost   \n",
       "1042980       False  P+R terrein metro-/busstation Spijkenisse Centrum   \n",
       "1042981       False                                      Centrum Noord   \n",
       "1042982       False                       Garage Theater (Spijkenisse)   \n",
       "1042983       False  Terrein Van Houtenstraat en Vredehofstraat (ce...   \n",
       "1042984       False                      Garage Stadhuis (Spijkenisse)   \n",
       "1042985       False                     Garage Kolkplein (Spijkenisse)   \n",
       "1042986       False                    Garage Boekenberg (Spijkenisse)   \n",
       "1042987       False                    Garage City Plaza (Spijkenisse)   \n",
       "\n",
       "        UsageType_Id  \n",
       "1042978     BETAALDP  \n",
       "1042979     BETAALDP  \n",
       "1042980     BETAALDP  \n",
       "1042981     BETAALDP  \n",
       "1042982      GARAGEP  \n",
       "1042983     TERREINP  \n",
       "1042984      GARAGEP  \n",
       "1042985      GARAGEP  \n",
       "1042986      GARAGEP  \n",
       "1042987      GARAGEP  "
      ],
      "text/html": "<div>\n<style scoped>\n    .dataframe tbody tr th:only-of-type {\n        vertical-align: middle;\n    }\n\n    .dataframe tbody tr th {\n        vertical-align: top;\n    }\n\n    .dataframe thead th {\n        text-align: right;\n    }\n</style>\n<table border=\"1\" class=\"dataframe\">\n  <thead>\n    <tr style=\"text-align: right;\">\n      <th></th>\n      <th>AreaManagerId</th>\n      <th>UsageIdDesc</th>\n      <th>StartDateUsageId</th>\n      <th>EndDateUsageId</th>\n      <th>SuperiorUsageId</th>\n      <th>AreaManagerDesc</th>\n      <th>AreaZone_Id</th>\n      <th>ExitPossibleAllDay</th>\n      <th>OpenAllYear</th>\n      <th>AreaDesc</th>\n      <th>UsageType_Id</th>\n    </tr>\n  </thead>\n  <tbody>\n    <tr>\n      <th>1042978</th>\n      <td>612</td>\n      <td>Garage Parkeren</td>\n      <td>20131010</td>\n      <td>20201019</td>\n      <td>PARKEREN</td>\n      <td>Spijkenisse</td>\n      <td>612_CPG</td>\n      <td>True</td>\n      <td>False</td>\n      <td>Gildenwijk</td>\n      <td>BETAALDP</td>\n    </tr>\n    <tr>\n      <th>1042979</th>\n      <td>612</td>\n      <td>Garage Parkeren</td>\n      <td>20131010</td>\n      <td>20201019</td>\n      <td>PARKEREN</td>\n      <td>Spijkenisse</td>\n      <td>612_CPG</td>\n      <td>True</td>\n      <td>False</td>\n      <td>Centrum Oost</td>\n      <td>BETAALDP</td>\n    </tr>\n    <tr>\n      <th>1042980</th>\n      <td>612</td>\n      <td>Garage Parkeren</td>\n      <td>20131010</td>\n      <td>20201019</td>\n      <td>PARKEREN</td>\n      <td>Spijkenisse</td>\n      <td>612_CPG</td>\n      <td>True</td>\n      <td>False</td>\n      <td>P+R terrein metro-/busstation Spijkenisse Centrum</td>\n      <td>BETAALDP</td>\n    </tr>\n    <tr>\n      <th>1042981</th>\n      <td>612</td>\n      <td>Garage Parkeren</td>\n      <td>20131010</td>\n      <td>20201019</td>\n      <td>PARKEREN</td>\n      <td>Spijkenisse</td>\n      <td>612_CPG</td>\n      <td>True</td>\n      <td>False</td>\n      <td>Centrum Noord</td>\n      <td>BETAALDP</td>\n    </tr>\n    <tr>\n      <th>1042982</th>\n      <td>612</td>\n      <td>Garage Parkeren</td>\n      <td>20131010</td>\n      <td>20201019</td>\n      <td>PARKEREN</td>\n      <td>Spijkenisse</td>\n      <td>612_CPG</td>\n      <td>True</td>\n      <td>False</td>\n      <td>Garage Theater (Spijkenisse)</td>\n      <td>GARAGEP</td>\n    </tr>\n    <tr>\n      <th>1042983</th>\n      <td>612</td>\n      <td>Garage Parkeren</td>\n      <td>20131010</td>\n      <td>20201019</td>\n      <td>PARKEREN</td>\n      <td>Spijkenisse</td>\n      <td>612_CPG</td>\n      <td>True</td>\n      <td>False</td>\n      <td>Terrein Van Houtenstraat en Vredehofstraat (ce...</td>\n      <td>TERREINP</td>\n    </tr>\n    <tr>\n      <th>1042984</th>\n      <td>612</td>\n      <td>Garage Parkeren</td>\n      <td>20131010</td>\n      <td>20201019</td>\n      <td>PARKEREN</td>\n      <td>Spijkenisse</td>\n      <td>612_CPG</td>\n      <td>True</td>\n      <td>False</td>\n      <td>Garage Stadhuis (Spijkenisse)</td>\n      <td>GARAGEP</td>\n    </tr>\n    <tr>\n      <th>1042985</th>\n      <td>612</td>\n      <td>Garage Parkeren</td>\n      <td>20131010</td>\n      <td>20201019</td>\n      <td>PARKEREN</td>\n      <td>Spijkenisse</td>\n      <td>612_CPG</td>\n      <td>True</td>\n      <td>False</td>\n      <td>Garage Kolkplein (Spijkenisse)</td>\n      <td>GARAGEP</td>\n    </tr>\n    <tr>\n      <th>1042986</th>\n      <td>612</td>\n      <td>Garage Parkeren</td>\n      <td>20131010</td>\n      <td>20201019</td>\n      <td>PARKEREN</td>\n      <td>Spijkenisse</td>\n      <td>612_CPG</td>\n      <td>True</td>\n      <td>False</td>\n      <td>Garage Boekenberg (Spijkenisse)</td>\n      <td>GARAGEP</td>\n    </tr>\n    <tr>\n      <th>1042987</th>\n      <td>612</td>\n      <td>Garage Parkeren</td>\n      <td>20131010</td>\n      <td>20201019</td>\n      <td>PARKEREN</td>\n      <td>Spijkenisse</td>\n      <td>612_CPG</td>\n      <td>True</td>\n      <td>False</td>\n      <td>Garage City Plaza (Spijkenisse)</td>\n      <td>GARAGEP</td>\n    </tr>\n  </tbody>\n</table>\n</div>"
     },
     "metadata": {},
     "execution_count": 6
    }
   ],
   "source": [
    "all_data.tail(10)"
   ]
  },
  {
   "source": [
    "With the data complete I can export it to a csv-file. Now - with the data in a csv-file - I can use and filter out the data I need."
   ],
   "cell_type": "markdown",
   "metadata": {}
  },
  {
   "cell_type": "code",
   "execution_count": 7,
   "metadata": {},
   "outputs": [],
   "source": [
    "all_data.to_csv(\"RDW_complete.csv\")"
   ]
  }
 ]
}