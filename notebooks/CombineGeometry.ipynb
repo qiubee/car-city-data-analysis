{
 "metadata": {
  "language_info": {
   "codemirror_mode": {
    "name": "ipython",
    "version": 3
   },
   "file_extension": ".py",
   "mimetype": "text/x-python",
   "name": "python",
   "nbconvert_exporter": "python",
   "pygments_lexer": "ipython3",
   "version": "3.6.9-final"
  },
  "orig_nbformat": 2,
  "kernelspec": {
   "name": "python36964bitenvce23a3a1976d4edc8d92ece9687d853a",
   "display_name": "Python 3.6.9 64-bit ('env')"
  }
 },
 "nbformat": 4,
 "nbformat_minor": 2,
 "cells": [
  {
   "source": [
    "# Combine geodata with datasets\n",
    "\n",
    "After extracting the data from multiple resources and converting it as csv, I can now combine the geometric data with the datasets.\n",
    "\n",
    "I want to create two datasets, each of different area levels, namely province and municipality, and export it as csv.\n",
    "\n",
    "First I import the datasets I need."
   ],
   "cell_type": "markdown",
   "metadata": {}
  },
  {
   "cell_type": "code",
   "execution_count": 1,
   "metadata": {},
   "outputs": [],
   "source": [
    "from pathlib import Path\n",
    "from os import chdir\n",
    "import pandas as pd\n",
    "\n",
    "NL_POSTAL = pd.read_csv(\"../data/nl_postal.csv\")\n",
    "NL_PROVINCE_GEO = pd.read_csv(\"../data/cbs_provincie_2020_gegeneraliseerd.csv\")\n",
    "NL_MUNICIPALITY_GEO = pd.read_csv(\"../data/cbs_gemeente_2020_gegeneraliseerd.csv\")\n",
    "RDW_DATASET = pd.read_csv(\"../data/RDW_dataset.csv\")"
   ]
  },
  {
   "cell_type": "code",
   "execution_count": 2,
   "metadata": {},
   "outputs": [
    {
     "output_type": "execute_result",
     "data": {
      "text/plain": [
       "         AreaManagerId       UsageIdDesc  StartDateUsageId  EndDateUsageId  \\\n",
       "0                  484  Betaald Parkeren          20130919        29991231   \n",
       "1                  484  Betaald Parkeren          20130919        29991231   \n",
       "2                  484  Betaald Parkeren          20130919        29991231   \n",
       "3                  484  Betaald Parkeren          20130919        29991231   \n",
       "4                  484  Betaald Parkeren          20130919        29991231   \n",
       "...                ...               ...               ...             ...   \n",
       "1042983            612   Garage Parkeren          20131010        20201019   \n",
       "1042984            612   Garage Parkeren          20131010        20201019   \n",
       "1042985            612   Garage Parkeren          20131010        20201019   \n",
       "1042986            612   Garage Parkeren          20131010        20201019   \n",
       "1042987            612   Garage Parkeren          20131010        20201019   \n",
       "\n",
       "        SuperiorUsageId      AreaManagerDesc AreaZone_Id  ExitPossibleAllDay  \\\n",
       "0              PARKEREN  Alphen aan den Rijn  484_BOSPAR               False   \n",
       "1              PARKEREN  Alphen aan den Rijn  484_BOSPAR               False   \n",
       "2              PARKEREN  Alphen aan den Rijn  484_BOSPAR               False   \n",
       "3              PARKEREN  Alphen aan den Rijn  484_BOSPAR               False   \n",
       "4              PARKEREN  Alphen aan den Rijn  484_BOSPAR               False   \n",
       "...                 ...                  ...         ...                 ...   \n",
       "1042983        PARKEREN          Spijkenisse     612_CPG                True   \n",
       "1042984        PARKEREN          Spijkenisse     612_CPG                True   \n",
       "1042985        PARKEREN          Spijkenisse     612_CPG                True   \n",
       "1042986        PARKEREN          Spijkenisse     612_CPG                True   \n",
       "1042987        PARKEREN          Spijkenisse     612_CPG                True   \n",
       "\n",
       "         OpenAllYear                                           AreaDesc  \\\n",
       "0              False      Straatparkeren Paradijslaan (Alphen a/d Rijn)   \n",
       "1              False               Carpool Gemeneweg (Hazerswoude-Dorp)   \n",
       "2              False             Carpool Nieuwkoopseweg (Aarlanderveen)   \n",
       "3              False        Blauwe Zone Kerk en Zanen (Alphen a/d Rijn)   \n",
       "4              False             Vergunningen Cornelis de Vlamingstraat   \n",
       "...              ...                                                ...   \n",
       "1042983        False  Terrein Van Houtenstraat en Vredehofstraat (ce...   \n",
       "1042984        False                      Garage Stadhuis (Spijkenisse)   \n",
       "1042985        False                     Garage Kolkplein (Spijkenisse)   \n",
       "1042986        False                    Garage Boekenberg (Spijkenisse)   \n",
       "1042987        False                    Garage City Plaza (Spijkenisse)   \n",
       "\n",
       "        UsageType_Id  \n",
       "0           BETAALDP  \n",
       "1            CARPOOL  \n",
       "2            CARPOOL  \n",
       "3            BLAUWEZ  \n",
       "4            VERGUNP  \n",
       "...              ...  \n",
       "1042983     TERREINP  \n",
       "1042984      GARAGEP  \n",
       "1042985      GARAGEP  \n",
       "1042986      GARAGEP  \n",
       "1042987      GARAGEP  \n",
       "\n",
       "[1042988 rows x 11 columns]"
      ],
      "text/html": "<div>\n<style scoped>\n    .dataframe tbody tr th:only-of-type {\n        vertical-align: middle;\n    }\n\n    .dataframe tbody tr th {\n        vertical-align: top;\n    }\n\n    .dataframe thead th {\n        text-align: right;\n    }\n</style>\n<table border=\"1\" class=\"dataframe\">\n  <thead>\n    <tr style=\"text-align: right;\">\n      <th></th>\n      <th>AreaManagerId</th>\n      <th>UsageIdDesc</th>\n      <th>StartDateUsageId</th>\n      <th>EndDateUsageId</th>\n      <th>SuperiorUsageId</th>\n      <th>AreaManagerDesc</th>\n      <th>AreaZone_Id</th>\n      <th>ExitPossibleAllDay</th>\n      <th>OpenAllYear</th>\n      <th>AreaDesc</th>\n      <th>UsageType_Id</th>\n    </tr>\n  </thead>\n  <tbody>\n    <tr>\n      <th>0</th>\n      <td>484</td>\n      <td>Betaald Parkeren</td>\n      <td>20130919</td>\n      <td>29991231</td>\n      <td>PARKEREN</td>\n      <td>Alphen aan den Rijn</td>\n      <td>484_BOSPAR</td>\n      <td>False</td>\n      <td>False</td>\n      <td>Straatparkeren Paradijslaan (Alphen a/d Rijn)</td>\n      <td>BETAALDP</td>\n    </tr>\n    <tr>\n      <th>1</th>\n      <td>484</td>\n      <td>Betaald Parkeren</td>\n      <td>20130919</td>\n      <td>29991231</td>\n      <td>PARKEREN</td>\n      <td>Alphen aan den Rijn</td>\n      <td>484_BOSPAR</td>\n      <td>False</td>\n      <td>False</td>\n      <td>Carpool Gemeneweg (Hazerswoude-Dorp)</td>\n      <td>CARPOOL</td>\n    </tr>\n    <tr>\n      <th>2</th>\n      <td>484</td>\n      <td>Betaald Parkeren</td>\n      <td>20130919</td>\n      <td>29991231</td>\n      <td>PARKEREN</td>\n      <td>Alphen aan den Rijn</td>\n      <td>484_BOSPAR</td>\n      <td>False</td>\n      <td>False</td>\n      <td>Carpool Nieuwkoopseweg (Aarlanderveen)</td>\n      <td>CARPOOL</td>\n    </tr>\n    <tr>\n      <th>3</th>\n      <td>484</td>\n      <td>Betaald Parkeren</td>\n      <td>20130919</td>\n      <td>29991231</td>\n      <td>PARKEREN</td>\n      <td>Alphen aan den Rijn</td>\n      <td>484_BOSPAR</td>\n      <td>False</td>\n      <td>False</td>\n      <td>Blauwe Zone Kerk en Zanen (Alphen a/d Rijn)</td>\n      <td>BLAUWEZ</td>\n    </tr>\n    <tr>\n      <th>4</th>\n      <td>484</td>\n      <td>Betaald Parkeren</td>\n      <td>20130919</td>\n      <td>29991231</td>\n      <td>PARKEREN</td>\n      <td>Alphen aan den Rijn</td>\n      <td>484_BOSPAR</td>\n      <td>False</td>\n      <td>False</td>\n      <td>Vergunningen Cornelis de Vlamingstraat</td>\n      <td>VERGUNP</td>\n    </tr>\n    <tr>\n      <th>...</th>\n      <td>...</td>\n      <td>...</td>\n      <td>...</td>\n      <td>...</td>\n      <td>...</td>\n      <td>...</td>\n      <td>...</td>\n      <td>...</td>\n      <td>...</td>\n      <td>...</td>\n      <td>...</td>\n    </tr>\n    <tr>\n      <th>1042983</th>\n      <td>612</td>\n      <td>Garage Parkeren</td>\n      <td>20131010</td>\n      <td>20201019</td>\n      <td>PARKEREN</td>\n      <td>Spijkenisse</td>\n      <td>612_CPG</td>\n      <td>True</td>\n      <td>False</td>\n      <td>Terrein Van Houtenstraat en Vredehofstraat (ce...</td>\n      <td>TERREINP</td>\n    </tr>\n    <tr>\n      <th>1042984</th>\n      <td>612</td>\n      <td>Garage Parkeren</td>\n      <td>20131010</td>\n      <td>20201019</td>\n      <td>PARKEREN</td>\n      <td>Spijkenisse</td>\n      <td>612_CPG</td>\n      <td>True</td>\n      <td>False</td>\n      <td>Garage Stadhuis (Spijkenisse)</td>\n      <td>GARAGEP</td>\n    </tr>\n    <tr>\n      <th>1042985</th>\n      <td>612</td>\n      <td>Garage Parkeren</td>\n      <td>20131010</td>\n      <td>20201019</td>\n      <td>PARKEREN</td>\n      <td>Spijkenisse</td>\n      <td>612_CPG</td>\n      <td>True</td>\n      <td>False</td>\n      <td>Garage Kolkplein (Spijkenisse)</td>\n      <td>GARAGEP</td>\n    </tr>\n    <tr>\n      <th>1042986</th>\n      <td>612</td>\n      <td>Garage Parkeren</td>\n      <td>20131010</td>\n      <td>20201019</td>\n      <td>PARKEREN</td>\n      <td>Spijkenisse</td>\n      <td>612_CPG</td>\n      <td>True</td>\n      <td>False</td>\n      <td>Garage Boekenberg (Spijkenisse)</td>\n      <td>GARAGEP</td>\n    </tr>\n    <tr>\n      <th>1042987</th>\n      <td>612</td>\n      <td>Garage Parkeren</td>\n      <td>20131010</td>\n      <td>20201019</td>\n      <td>PARKEREN</td>\n      <td>Spijkenisse</td>\n      <td>612_CPG</td>\n      <td>True</td>\n      <td>False</td>\n      <td>Garage City Plaza (Spijkenisse)</td>\n      <td>GARAGEP</td>\n    </tr>\n  </tbody>\n</table>\n<p>1042988 rows × 11 columns</p>\n</div>"
     },
     "metadata": {},
     "execution_count": 2
    }
   ],
   "source": [
    "RDW_DATASET"
   ]
  },
  {
   "source": [
    "Then I have to filter the RDW-dataset. I need to filter the columns that I won't use, namely most of the *Id* columns."
   ],
   "cell_type": "markdown",
   "metadata": {}
  },
  {
   "cell_type": "code",
   "execution_count": 3,
   "metadata": {},
   "outputs": [],
   "source": [
    "def drop_df_columns(df, columns):\n",
    "    return df.drop(df.columns[columns], axis=1)\n",
    "\n",
    "\n",
    "drop_rdw_columns = [0, 2, 3, 4, 6, 9]\n",
    "rdw = drop_df_columns(RDW_DATASET, drop_rdw_columns)"
   ]
  },
  {
   "cell_type": "code",
   "execution_count": 4,
   "metadata": {},
   "outputs": [
    {
     "output_type": "execute_result",
     "data": {
      "text/plain": [
       "              UsageIdDesc      AreaManagerDesc  ExitPossibleAllDay  \\\n",
       "0        Betaald Parkeren  Alphen aan den Rijn               False   \n",
       "1        Betaald Parkeren  Alphen aan den Rijn               False   \n",
       "2        Betaald Parkeren  Alphen aan den Rijn               False   \n",
       "3        Betaald Parkeren  Alphen aan den Rijn               False   \n",
       "4        Betaald Parkeren  Alphen aan den Rijn               False   \n",
       "...                   ...                  ...                 ...   \n",
       "1042983   Garage Parkeren          Spijkenisse                True   \n",
       "1042984   Garage Parkeren          Spijkenisse                True   \n",
       "1042985   Garage Parkeren          Spijkenisse                True   \n",
       "1042986   Garage Parkeren          Spijkenisse                True   \n",
       "1042987   Garage Parkeren          Spijkenisse                True   \n",
       "\n",
       "         OpenAllYear UsageType_Id  \n",
       "0              False     BETAALDP  \n",
       "1              False      CARPOOL  \n",
       "2              False      CARPOOL  \n",
       "3              False      BLAUWEZ  \n",
       "4              False      VERGUNP  \n",
       "...              ...          ...  \n",
       "1042983        False     TERREINP  \n",
       "1042984        False      GARAGEP  \n",
       "1042985        False      GARAGEP  \n",
       "1042986        False      GARAGEP  \n",
       "1042987        False      GARAGEP  \n",
       "\n",
       "[1042988 rows x 5 columns]"
      ],
      "text/html": "<div>\n<style scoped>\n    .dataframe tbody tr th:only-of-type {\n        vertical-align: middle;\n    }\n\n    .dataframe tbody tr th {\n        vertical-align: top;\n    }\n\n    .dataframe thead th {\n        text-align: right;\n    }\n</style>\n<table border=\"1\" class=\"dataframe\">\n  <thead>\n    <tr style=\"text-align: right;\">\n      <th></th>\n      <th>UsageIdDesc</th>\n      <th>AreaManagerDesc</th>\n      <th>ExitPossibleAllDay</th>\n      <th>OpenAllYear</th>\n      <th>UsageType_Id</th>\n    </tr>\n  </thead>\n  <tbody>\n    <tr>\n      <th>0</th>\n      <td>Betaald Parkeren</td>\n      <td>Alphen aan den Rijn</td>\n      <td>False</td>\n      <td>False</td>\n      <td>BETAALDP</td>\n    </tr>\n    <tr>\n      <th>1</th>\n      <td>Betaald Parkeren</td>\n      <td>Alphen aan den Rijn</td>\n      <td>False</td>\n      <td>False</td>\n      <td>CARPOOL</td>\n    </tr>\n    <tr>\n      <th>2</th>\n      <td>Betaald Parkeren</td>\n      <td>Alphen aan den Rijn</td>\n      <td>False</td>\n      <td>False</td>\n      <td>CARPOOL</td>\n    </tr>\n    <tr>\n      <th>3</th>\n      <td>Betaald Parkeren</td>\n      <td>Alphen aan den Rijn</td>\n      <td>False</td>\n      <td>False</td>\n      <td>BLAUWEZ</td>\n    </tr>\n    <tr>\n      <th>4</th>\n      <td>Betaald Parkeren</td>\n      <td>Alphen aan den Rijn</td>\n      <td>False</td>\n      <td>False</td>\n      <td>VERGUNP</td>\n    </tr>\n    <tr>\n      <th>...</th>\n      <td>...</td>\n      <td>...</td>\n      <td>...</td>\n      <td>...</td>\n      <td>...</td>\n    </tr>\n    <tr>\n      <th>1042983</th>\n      <td>Garage Parkeren</td>\n      <td>Spijkenisse</td>\n      <td>True</td>\n      <td>False</td>\n      <td>TERREINP</td>\n    </tr>\n    <tr>\n      <th>1042984</th>\n      <td>Garage Parkeren</td>\n      <td>Spijkenisse</td>\n      <td>True</td>\n      <td>False</td>\n      <td>GARAGEP</td>\n    </tr>\n    <tr>\n      <th>1042985</th>\n      <td>Garage Parkeren</td>\n      <td>Spijkenisse</td>\n      <td>True</td>\n      <td>False</td>\n      <td>GARAGEP</td>\n    </tr>\n    <tr>\n      <th>1042986</th>\n      <td>Garage Parkeren</td>\n      <td>Spijkenisse</td>\n      <td>True</td>\n      <td>False</td>\n      <td>GARAGEP</td>\n    </tr>\n    <tr>\n      <th>1042987</th>\n      <td>Garage Parkeren</td>\n      <td>Spijkenisse</td>\n      <td>True</td>\n      <td>False</td>\n      <td>GARAGEP</td>\n    </tr>\n  </tbody>\n</table>\n<p>1042988 rows × 5 columns</p>\n</div>"
     },
     "metadata": {},
     "execution_count": 4
    }
   ],
   "source": [
    "rdw"
   ]
  },
  {
   "source": [
    "## Add related province and municipality\n",
    "\n",
    "I can now merge the place name hierarchy dataset (NL_POSTAL) with the RDW-dataset. First I drop the columns I won't need. Then I rename the hierarchy dataset column to match the placename of the RDW dataset and merge them together."
   ],
   "cell_type": "markdown",
   "metadata": {}
  },
  {
   "cell_type": "code",
   "execution_count": 5,
   "metadata": {},
   "outputs": [],
   "source": [
    "rename_nl_col = {\"placeName\": \"AreaManagerDesc\"}\n",
    "nl_place_hierarchy = drop_df_columns(NL_POSTAL, [3, 4])\n",
    "nl_place_hierarchy = nl_place_hierarchy.rename(columns=rename_nl_col)\n",
    "rdw_geo = pd.merge(rdw, nl_place_hierarchy, how=\"left\", on=[\"AreaManagerDesc\"])\n"
   ]
  },
  {
   "cell_type": "code",
   "execution_count": 6,
   "metadata": {},
   "outputs": [
    {
     "output_type": "execute_result",
     "data": {
      "text/plain": [
       "              UsageIdDesc      AreaManagerDesc  ExitPossibleAllDay  \\\n",
       "0        Betaald Parkeren  Alphen aan den Rijn               False   \n",
       "1        Betaald Parkeren  Alphen aan den Rijn               False   \n",
       "2        Betaald Parkeren  Alphen aan den Rijn               False   \n",
       "3        Betaald Parkeren  Alphen aan den Rijn               False   \n",
       "4        Betaald Parkeren  Alphen aan den Rijn               False   \n",
       "...                   ...                  ...                 ...   \n",
       "1044087   Garage Parkeren          Spijkenisse                True   \n",
       "1044088   Garage Parkeren          Spijkenisse                True   \n",
       "1044089   Garage Parkeren          Spijkenisse                True   \n",
       "1044090   Garage Parkeren          Spijkenisse                True   \n",
       "1044091   Garage Parkeren          Spijkenisse                True   \n",
       "\n",
       "         OpenAllYear UsageType_Id      province         municipality  \n",
       "0              False     BETAALDP  Zuid-Holland  Alphen aan den Rijn  \n",
       "1              False      CARPOOL  Zuid-Holland  Alphen aan den Rijn  \n",
       "2              False      CARPOOL  Zuid-Holland  Alphen aan den Rijn  \n",
       "3              False      BLAUWEZ  Zuid-Holland  Alphen aan den Rijn  \n",
       "4              False      VERGUNP  Zuid-Holland  Alphen aan den Rijn  \n",
       "...              ...          ...           ...                  ...  \n",
       "1044087        False     TERREINP  Zuid-Holland           Nissewaard  \n",
       "1044088        False      GARAGEP  Zuid-Holland           Nissewaard  \n",
       "1044089        False      GARAGEP  Zuid-Holland           Nissewaard  \n",
       "1044090        False      GARAGEP  Zuid-Holland           Nissewaard  \n",
       "1044091        False      GARAGEP  Zuid-Holland           Nissewaard  \n",
       "\n",
       "[1044092 rows x 7 columns]"
      ],
      "text/html": "<div>\n<style scoped>\n    .dataframe tbody tr th:only-of-type {\n        vertical-align: middle;\n    }\n\n    .dataframe tbody tr th {\n        vertical-align: top;\n    }\n\n    .dataframe thead th {\n        text-align: right;\n    }\n</style>\n<table border=\"1\" class=\"dataframe\">\n  <thead>\n    <tr style=\"text-align: right;\">\n      <th></th>\n      <th>UsageIdDesc</th>\n      <th>AreaManagerDesc</th>\n      <th>ExitPossibleAllDay</th>\n      <th>OpenAllYear</th>\n      <th>UsageType_Id</th>\n      <th>province</th>\n      <th>municipality</th>\n    </tr>\n  </thead>\n  <tbody>\n    <tr>\n      <th>0</th>\n      <td>Betaald Parkeren</td>\n      <td>Alphen aan den Rijn</td>\n      <td>False</td>\n      <td>False</td>\n      <td>BETAALDP</td>\n      <td>Zuid-Holland</td>\n      <td>Alphen aan den Rijn</td>\n    </tr>\n    <tr>\n      <th>1</th>\n      <td>Betaald Parkeren</td>\n      <td>Alphen aan den Rijn</td>\n      <td>False</td>\n      <td>False</td>\n      <td>CARPOOL</td>\n      <td>Zuid-Holland</td>\n      <td>Alphen aan den Rijn</td>\n    </tr>\n    <tr>\n      <th>2</th>\n      <td>Betaald Parkeren</td>\n      <td>Alphen aan den Rijn</td>\n      <td>False</td>\n      <td>False</td>\n      <td>CARPOOL</td>\n      <td>Zuid-Holland</td>\n      <td>Alphen aan den Rijn</td>\n    </tr>\n    <tr>\n      <th>3</th>\n      <td>Betaald Parkeren</td>\n      <td>Alphen aan den Rijn</td>\n      <td>False</td>\n      <td>False</td>\n      <td>BLAUWEZ</td>\n      <td>Zuid-Holland</td>\n      <td>Alphen aan den Rijn</td>\n    </tr>\n    <tr>\n      <th>4</th>\n      <td>Betaald Parkeren</td>\n      <td>Alphen aan den Rijn</td>\n      <td>False</td>\n      <td>False</td>\n      <td>VERGUNP</td>\n      <td>Zuid-Holland</td>\n      <td>Alphen aan den Rijn</td>\n    </tr>\n    <tr>\n      <th>...</th>\n      <td>...</td>\n      <td>...</td>\n      <td>...</td>\n      <td>...</td>\n      <td>...</td>\n      <td>...</td>\n      <td>...</td>\n    </tr>\n    <tr>\n      <th>1044087</th>\n      <td>Garage Parkeren</td>\n      <td>Spijkenisse</td>\n      <td>True</td>\n      <td>False</td>\n      <td>TERREINP</td>\n      <td>Zuid-Holland</td>\n      <td>Nissewaard</td>\n    </tr>\n    <tr>\n      <th>1044088</th>\n      <td>Garage Parkeren</td>\n      <td>Spijkenisse</td>\n      <td>True</td>\n      <td>False</td>\n      <td>GARAGEP</td>\n      <td>Zuid-Holland</td>\n      <td>Nissewaard</td>\n    </tr>\n    <tr>\n      <th>1044089</th>\n      <td>Garage Parkeren</td>\n      <td>Spijkenisse</td>\n      <td>True</td>\n      <td>False</td>\n      <td>GARAGEP</td>\n      <td>Zuid-Holland</td>\n      <td>Nissewaard</td>\n    </tr>\n    <tr>\n      <th>1044090</th>\n      <td>Garage Parkeren</td>\n      <td>Spijkenisse</td>\n      <td>True</td>\n      <td>False</td>\n      <td>GARAGEP</td>\n      <td>Zuid-Holland</td>\n      <td>Nissewaard</td>\n    </tr>\n    <tr>\n      <th>1044091</th>\n      <td>Garage Parkeren</td>\n      <td>Spijkenisse</td>\n      <td>True</td>\n      <td>False</td>\n      <td>GARAGEP</td>\n      <td>Zuid-Holland</td>\n      <td>Nissewaard</td>\n    </tr>\n  </tbody>\n</table>\n<p>1044092 rows × 7 columns</p>\n</div>"
     },
     "metadata": {},
     "execution_count": 6
    }
   ],
   "source": [
    "rdw_geo"
   ]
  },
  {
   "source": [
    "The last things that I still need to do, before the dataset can be devided into municipality and province, is to calculate the sum of each usage type, and of the boolean values.\n",
    "\n",
    "For the usage type I need to create a new column. With `groupby()` and `.transform()` I can count the sum of each usage type. In the transform function I use a anonymous function to count how many times each usage type appears in the dataset and save it in a new column called *UsageType_count*."
   ],
   "cell_type": "markdown",
   "metadata": {}
  },
  {
   "cell_type": "code",
   "execution_count": 7,
   "metadata": {},
   "outputs": [],
   "source": [
    "rdw_geo[\"UsageType_count\"] = rdw_geo.groupby([\"AreaManagerDesc\", \"UsageType_Id\"])[\"UsageType_Id\"].transform(lambda x: x.count())"
   ]
  },
  {
   "cell_type": "code",
   "execution_count": 8,
   "metadata": {},
   "outputs": [
    {
     "output_type": "execute_result",
     "data": {
      "text/plain": [
       "              UsageIdDesc      AreaManagerDesc  ExitPossibleAllDay  \\\n",
       "0        Betaald Parkeren  Alphen aan den Rijn               False   \n",
       "1        Betaald Parkeren  Alphen aan den Rijn               False   \n",
       "2        Betaald Parkeren  Alphen aan den Rijn               False   \n",
       "3        Betaald Parkeren  Alphen aan den Rijn               False   \n",
       "4        Betaald Parkeren  Alphen aan den Rijn               False   \n",
       "...                   ...                  ...                 ...   \n",
       "1044087   Garage Parkeren          Spijkenisse                True   \n",
       "1044088   Garage Parkeren          Spijkenisse                True   \n",
       "1044089   Garage Parkeren          Spijkenisse                True   \n",
       "1044090   Garage Parkeren          Spijkenisse                True   \n",
       "1044091   Garage Parkeren          Spijkenisse                True   \n",
       "\n",
       "         OpenAllYear UsageType_Id      province         municipality  \\\n",
       "0              False     BETAALDP  Zuid-Holland  Alphen aan den Rijn   \n",
       "1              False      CARPOOL  Zuid-Holland  Alphen aan den Rijn   \n",
       "2              False      CARPOOL  Zuid-Holland  Alphen aan den Rijn   \n",
       "3              False      BLAUWEZ  Zuid-Holland  Alphen aan den Rijn   \n",
       "4              False      VERGUNP  Zuid-Holland  Alphen aan den Rijn   \n",
       "...              ...          ...           ...                  ...   \n",
       "1044087        False     TERREINP  Zuid-Holland           Nissewaard   \n",
       "1044088        False      GARAGEP  Zuid-Holland           Nissewaard   \n",
       "1044089        False      GARAGEP  Zuid-Holland           Nissewaard   \n",
       "1044090        False      GARAGEP  Zuid-Holland           Nissewaard   \n",
       "1044091        False      GARAGEP  Zuid-Holland           Nissewaard   \n",
       "\n",
       "         UsageType_count  \n",
       "0                   1122  \n",
       "1                    204  \n",
       "2                    204  \n",
       "3                    102  \n",
       "4                    714  \n",
       "...                  ...  \n",
       "1044087               60  \n",
       "1044088              150  \n",
       "1044089              150  \n",
       "1044090              150  \n",
       "1044091              150  \n",
       "\n",
       "[1044092 rows x 8 columns]"
      ],
      "text/html": "<div>\n<style scoped>\n    .dataframe tbody tr th:only-of-type {\n        vertical-align: middle;\n    }\n\n    .dataframe tbody tr th {\n        vertical-align: top;\n    }\n\n    .dataframe thead th {\n        text-align: right;\n    }\n</style>\n<table border=\"1\" class=\"dataframe\">\n  <thead>\n    <tr style=\"text-align: right;\">\n      <th></th>\n      <th>UsageIdDesc</th>\n      <th>AreaManagerDesc</th>\n      <th>ExitPossibleAllDay</th>\n      <th>OpenAllYear</th>\n      <th>UsageType_Id</th>\n      <th>province</th>\n      <th>municipality</th>\n      <th>UsageType_count</th>\n    </tr>\n  </thead>\n  <tbody>\n    <tr>\n      <th>0</th>\n      <td>Betaald Parkeren</td>\n      <td>Alphen aan den Rijn</td>\n      <td>False</td>\n      <td>False</td>\n      <td>BETAALDP</td>\n      <td>Zuid-Holland</td>\n      <td>Alphen aan den Rijn</td>\n      <td>1122</td>\n    </tr>\n    <tr>\n      <th>1</th>\n      <td>Betaald Parkeren</td>\n      <td>Alphen aan den Rijn</td>\n      <td>False</td>\n      <td>False</td>\n      <td>CARPOOL</td>\n      <td>Zuid-Holland</td>\n      <td>Alphen aan den Rijn</td>\n      <td>204</td>\n    </tr>\n    <tr>\n      <th>2</th>\n      <td>Betaald Parkeren</td>\n      <td>Alphen aan den Rijn</td>\n      <td>False</td>\n      <td>False</td>\n      <td>CARPOOL</td>\n      <td>Zuid-Holland</td>\n      <td>Alphen aan den Rijn</td>\n      <td>204</td>\n    </tr>\n    <tr>\n      <th>3</th>\n      <td>Betaald Parkeren</td>\n      <td>Alphen aan den Rijn</td>\n      <td>False</td>\n      <td>False</td>\n      <td>BLAUWEZ</td>\n      <td>Zuid-Holland</td>\n      <td>Alphen aan den Rijn</td>\n      <td>102</td>\n    </tr>\n    <tr>\n      <th>4</th>\n      <td>Betaald Parkeren</td>\n      <td>Alphen aan den Rijn</td>\n      <td>False</td>\n      <td>False</td>\n      <td>VERGUNP</td>\n      <td>Zuid-Holland</td>\n      <td>Alphen aan den Rijn</td>\n      <td>714</td>\n    </tr>\n    <tr>\n      <th>...</th>\n      <td>...</td>\n      <td>...</td>\n      <td>...</td>\n      <td>...</td>\n      <td>...</td>\n      <td>...</td>\n      <td>...</td>\n      <td>...</td>\n    </tr>\n    <tr>\n      <th>1044087</th>\n      <td>Garage Parkeren</td>\n      <td>Spijkenisse</td>\n      <td>True</td>\n      <td>False</td>\n      <td>TERREINP</td>\n      <td>Zuid-Holland</td>\n      <td>Nissewaard</td>\n      <td>60</td>\n    </tr>\n    <tr>\n      <th>1044088</th>\n      <td>Garage Parkeren</td>\n      <td>Spijkenisse</td>\n      <td>True</td>\n      <td>False</td>\n      <td>GARAGEP</td>\n      <td>Zuid-Holland</td>\n      <td>Nissewaard</td>\n      <td>150</td>\n    </tr>\n    <tr>\n      <th>1044089</th>\n      <td>Garage Parkeren</td>\n      <td>Spijkenisse</td>\n      <td>True</td>\n      <td>False</td>\n      <td>GARAGEP</td>\n      <td>Zuid-Holland</td>\n      <td>Nissewaard</td>\n      <td>150</td>\n    </tr>\n    <tr>\n      <th>1044090</th>\n      <td>Garage Parkeren</td>\n      <td>Spijkenisse</td>\n      <td>True</td>\n      <td>False</td>\n      <td>GARAGEP</td>\n      <td>Zuid-Holland</td>\n      <td>Nissewaard</td>\n      <td>150</td>\n    </tr>\n    <tr>\n      <th>1044091</th>\n      <td>Garage Parkeren</td>\n      <td>Spijkenisse</td>\n      <td>True</td>\n      <td>False</td>\n      <td>GARAGEP</td>\n      <td>Zuid-Holland</td>\n      <td>Nissewaard</td>\n      <td>150</td>\n    </tr>\n  </tbody>\n</table>\n<p>1044092 rows × 8 columns</p>\n</div>"
     },
     "metadata": {},
     "execution_count": 8
    }
   ],
   "source": [
    "rdw_geo"
   ]
  },
  {
   "source": [
    "## Calculate sum & divide data by municipality and province\n",
    "\n",
    "I can now create the data required for the municipalities and provinces and seperate them.\n",
    "\n",
    "To create the data for the municipality I have to count the sum of the boolean values that are `True` from the columns *ExitPossibleAllDay* and *OpenAllYear* and group by usage type. The sum will replace the boolean values.\n",
    "\n",
    "To group and sum I created a function. I can use this function for grouping and sum the values for the province later."
   ],
   "cell_type": "markdown",
   "metadata": {}
  },
  {
   "cell_type": "code",
   "execution_count": 9,
   "metadata": {},
   "outputs": [],
   "source": [
    "def group_and_sum(df, group_columns, to_sum_columns):\n",
    "    return df.groupby(group_columns, as_index=False)[to_sum_columns].sum()\n",
    "\n",
    "\n",
    "mp_sum_cols = [\"ExitPossibleAllDay\", \"OpenAllYear\"]\n",
    "mp_group_cols = [rdw_geo.columns.values[i] for i in [4, 5, 6, 7]]\n",
    "mp_data = group_and_sum(rdw_geo, mp_group_cols, mp_sum_cols)"
   ]
  },
  {
   "cell_type": "code",
   "execution_count": 10,
   "metadata": {},
   "outputs": [
    {
     "output_type": "execute_result",
     "data": {
      "text/plain": [
       "   UsageType_Id       province  municipality  UsageType_count  \\\n",
       "65     BETAALDP  Noord-Holland       Alkmaar             1254   \n",
       "66     BETAALDP  Noord-Holland    Amstelveen              203   \n",
       "67     BETAALDP  Noord-Holland     Amsterdam            43785   \n",
       "68     BETAALDP  Noord-Holland   Bloemendaal               16   \n",
       "69     BETAALDP  Noord-Holland    Den Helder               96   \n",
       "70     BETAALDP  Noord-Holland        Diemen               60   \n",
       "71     BETAALDP  Noord-Holland     Enkhuizen              108   \n",
       "72     BETAALDP  Noord-Holland  Gooise Meren               28   \n",
       "73     BETAALDP  Noord-Holland  Gooise Meren               30   \n",
       "74     BETAALDP  Noord-Holland       Haarlem              120   \n",
       "75     BETAALDP  Noord-Holland         Hoorn             1204   \n",
       "76     BETAALDP  Noord-Holland     Purmerend              384   \n",
       "77     BETAALDP  Noord-Holland       Schagen               54   \n",
       "78     BETAALDP  Noord-Holland     Zandvoort               60   \n",
       "\n",
       "    ExitPossibleAllDay  OpenAllYear  \n",
       "65                1254         1254  \n",
       "66                 203          203  \n",
       "67               41700        35445  \n",
       "68                  16           16  \n",
       "69                  96           96  \n",
       "70                  60           60  \n",
       "71                 108          108  \n",
       "72                  28           28  \n",
       "73                  30           30  \n",
       "74                 120          120  \n",
       "75                 602          602  \n",
       "76                 384          384  \n",
       "77                  54           54  \n",
       "78                  60            0  "
      ],
      "text/html": "<div>\n<style scoped>\n    .dataframe tbody tr th:only-of-type {\n        vertical-align: middle;\n    }\n\n    .dataframe tbody tr th {\n        vertical-align: top;\n    }\n\n    .dataframe thead th {\n        text-align: right;\n    }\n</style>\n<table border=\"1\" class=\"dataframe\">\n  <thead>\n    <tr style=\"text-align: right;\">\n      <th></th>\n      <th>UsageType_Id</th>\n      <th>province</th>\n      <th>municipality</th>\n      <th>UsageType_count</th>\n      <th>ExitPossibleAllDay</th>\n      <th>OpenAllYear</th>\n    </tr>\n  </thead>\n  <tbody>\n    <tr>\n      <th>65</th>\n      <td>BETAALDP</td>\n      <td>Noord-Holland</td>\n      <td>Alkmaar</td>\n      <td>1254</td>\n      <td>1254</td>\n      <td>1254</td>\n    </tr>\n    <tr>\n      <th>66</th>\n      <td>BETAALDP</td>\n      <td>Noord-Holland</td>\n      <td>Amstelveen</td>\n      <td>203</td>\n      <td>203</td>\n      <td>203</td>\n    </tr>\n    <tr>\n      <th>67</th>\n      <td>BETAALDP</td>\n      <td>Noord-Holland</td>\n      <td>Amsterdam</td>\n      <td>43785</td>\n      <td>41700</td>\n      <td>35445</td>\n    </tr>\n    <tr>\n      <th>68</th>\n      <td>BETAALDP</td>\n      <td>Noord-Holland</td>\n      <td>Bloemendaal</td>\n      <td>16</td>\n      <td>16</td>\n      <td>16</td>\n    </tr>\n    <tr>\n      <th>69</th>\n      <td>BETAALDP</td>\n      <td>Noord-Holland</td>\n      <td>Den Helder</td>\n      <td>96</td>\n      <td>96</td>\n      <td>96</td>\n    </tr>\n    <tr>\n      <th>70</th>\n      <td>BETAALDP</td>\n      <td>Noord-Holland</td>\n      <td>Diemen</td>\n      <td>60</td>\n      <td>60</td>\n      <td>60</td>\n    </tr>\n    <tr>\n      <th>71</th>\n      <td>BETAALDP</td>\n      <td>Noord-Holland</td>\n      <td>Enkhuizen</td>\n      <td>108</td>\n      <td>108</td>\n      <td>108</td>\n    </tr>\n    <tr>\n      <th>72</th>\n      <td>BETAALDP</td>\n      <td>Noord-Holland</td>\n      <td>Gooise Meren</td>\n      <td>28</td>\n      <td>28</td>\n      <td>28</td>\n    </tr>\n    <tr>\n      <th>73</th>\n      <td>BETAALDP</td>\n      <td>Noord-Holland</td>\n      <td>Gooise Meren</td>\n      <td>30</td>\n      <td>30</td>\n      <td>30</td>\n    </tr>\n    <tr>\n      <th>74</th>\n      <td>BETAALDP</td>\n      <td>Noord-Holland</td>\n      <td>Haarlem</td>\n      <td>120</td>\n      <td>120</td>\n      <td>120</td>\n    </tr>\n    <tr>\n      <th>75</th>\n      <td>BETAALDP</td>\n      <td>Noord-Holland</td>\n      <td>Hoorn</td>\n      <td>1204</td>\n      <td>602</td>\n      <td>602</td>\n    </tr>\n    <tr>\n      <th>76</th>\n      <td>BETAALDP</td>\n      <td>Noord-Holland</td>\n      <td>Purmerend</td>\n      <td>384</td>\n      <td>384</td>\n      <td>384</td>\n    </tr>\n    <tr>\n      <th>77</th>\n      <td>BETAALDP</td>\n      <td>Noord-Holland</td>\n      <td>Schagen</td>\n      <td>54</td>\n      <td>54</td>\n      <td>54</td>\n    </tr>\n    <tr>\n      <th>78</th>\n      <td>BETAALDP</td>\n      <td>Noord-Holland</td>\n      <td>Zandvoort</td>\n      <td>60</td>\n      <td>60</td>\n      <td>0</td>\n    </tr>\n  </tbody>\n</table>\n</div>"
     },
     "metadata": {},
     "execution_count": 10
    }
   ],
   "source": [
    "mp_data.loc[(mp_data[\"UsageType_Id\"] == \"BETAALDP\") & (mp_data[\"province\"] == \"Noord-Holland\")]\n",
    "# mp_data"
   ]
  },
  {
   "source": [
    "As you can see in the result above, when I filter on *Noord-Holland* and usage type *BETAALDP* the municipality **Gooise Meren** appears twice. Apparently not all municipalities got grouped together correctly. To merge the municipalities correctly I grouped them again by municipality."
   ],
   "cell_type": "markdown",
   "metadata": {}
  },
  {
   "cell_type": "code",
   "execution_count": 11,
   "metadata": {},
   "outputs": [],
   "source": [
    "mp_data = mp_data.groupby([\"municipality\", \"UsageType_Id\", \"province\"], as_index=False).sum()"
   ]
  },
  {
   "cell_type": "code",
   "execution_count": 12,
   "metadata": {},
   "outputs": [
    {
     "output_type": "execute_result",
     "data": {
      "text/plain": [
       "     municipality UsageType_Id       province  UsageType_count  \\\n",
       "6         Alkmaar     BETAALDP  Noord-Holland             1254   \n",
       "47     Amstelveen     BETAALDP  Noord-Holland              203   \n",
       "52      Amsterdam     BETAALDP  Noord-Holland            43785   \n",
       "104   Bloemendaal     BETAALDP  Noord-Holland               16   \n",
       "152    Den Helder     BETAALDP  Noord-Holland               96   \n",
       "171        Diemen     BETAALDP  Noord-Holland               60   \n",
       "208     Enkhuizen     BETAALDP  Noord-Holland              108   \n",
       "242  Gooise Meren     BETAALDP  Noord-Holland               58   \n",
       "266       Haarlem     BETAALDP  Noord-Holland              120   \n",
       "340         Hoorn     BETAALDP  Noord-Holland             1204   \n",
       "468     Purmerend     BETAALDP  Noord-Holland              384   \n",
       "501       Schagen     BETAALDP  Noord-Holland               54   \n",
       "611     Zandvoort     BETAALDP  Noord-Holland               60   \n",
       "\n",
       "     ExitPossibleAllDay  OpenAllYear  \n",
       "6                  1254         1254  \n",
       "47                  203          203  \n",
       "52                41700        35445  \n",
       "104                  16           16  \n",
       "152                  96           96  \n",
       "171                  60           60  \n",
       "208                 108          108  \n",
       "242                  58           58  \n",
       "266                 120          120  \n",
       "340                 602          602  \n",
       "468                 384          384  \n",
       "501                  54           54  \n",
       "611                  60            0  "
      ],
      "text/html": "<div>\n<style scoped>\n    .dataframe tbody tr th:only-of-type {\n        vertical-align: middle;\n    }\n\n    .dataframe tbody tr th {\n        vertical-align: top;\n    }\n\n    .dataframe thead th {\n        text-align: right;\n    }\n</style>\n<table border=\"1\" class=\"dataframe\">\n  <thead>\n    <tr style=\"text-align: right;\">\n      <th></th>\n      <th>municipality</th>\n      <th>UsageType_Id</th>\n      <th>province</th>\n      <th>UsageType_count</th>\n      <th>ExitPossibleAllDay</th>\n      <th>OpenAllYear</th>\n    </tr>\n  </thead>\n  <tbody>\n    <tr>\n      <th>6</th>\n      <td>Alkmaar</td>\n      <td>BETAALDP</td>\n      <td>Noord-Holland</td>\n      <td>1254</td>\n      <td>1254</td>\n      <td>1254</td>\n    </tr>\n    <tr>\n      <th>47</th>\n      <td>Amstelveen</td>\n      <td>BETAALDP</td>\n      <td>Noord-Holland</td>\n      <td>203</td>\n      <td>203</td>\n      <td>203</td>\n    </tr>\n    <tr>\n      <th>52</th>\n      <td>Amsterdam</td>\n      <td>BETAALDP</td>\n      <td>Noord-Holland</td>\n      <td>43785</td>\n      <td>41700</td>\n      <td>35445</td>\n    </tr>\n    <tr>\n      <th>104</th>\n      <td>Bloemendaal</td>\n      <td>BETAALDP</td>\n      <td>Noord-Holland</td>\n      <td>16</td>\n      <td>16</td>\n      <td>16</td>\n    </tr>\n    <tr>\n      <th>152</th>\n      <td>Den Helder</td>\n      <td>BETAALDP</td>\n      <td>Noord-Holland</td>\n      <td>96</td>\n      <td>96</td>\n      <td>96</td>\n    </tr>\n    <tr>\n      <th>171</th>\n      <td>Diemen</td>\n      <td>BETAALDP</td>\n      <td>Noord-Holland</td>\n      <td>60</td>\n      <td>60</td>\n      <td>60</td>\n    </tr>\n    <tr>\n      <th>208</th>\n      <td>Enkhuizen</td>\n      <td>BETAALDP</td>\n      <td>Noord-Holland</td>\n      <td>108</td>\n      <td>108</td>\n      <td>108</td>\n    </tr>\n    <tr>\n      <th>242</th>\n      <td>Gooise Meren</td>\n      <td>BETAALDP</td>\n      <td>Noord-Holland</td>\n      <td>58</td>\n      <td>58</td>\n      <td>58</td>\n    </tr>\n    <tr>\n      <th>266</th>\n      <td>Haarlem</td>\n      <td>BETAALDP</td>\n      <td>Noord-Holland</td>\n      <td>120</td>\n      <td>120</td>\n      <td>120</td>\n    </tr>\n    <tr>\n      <th>340</th>\n      <td>Hoorn</td>\n      <td>BETAALDP</td>\n      <td>Noord-Holland</td>\n      <td>1204</td>\n      <td>602</td>\n      <td>602</td>\n    </tr>\n    <tr>\n      <th>468</th>\n      <td>Purmerend</td>\n      <td>BETAALDP</td>\n      <td>Noord-Holland</td>\n      <td>384</td>\n      <td>384</td>\n      <td>384</td>\n    </tr>\n    <tr>\n      <th>501</th>\n      <td>Schagen</td>\n      <td>BETAALDP</td>\n      <td>Noord-Holland</td>\n      <td>54</td>\n      <td>54</td>\n      <td>54</td>\n    </tr>\n    <tr>\n      <th>611</th>\n      <td>Zandvoort</td>\n      <td>BETAALDP</td>\n      <td>Noord-Holland</td>\n      <td>60</td>\n      <td>60</td>\n      <td>0</td>\n    </tr>\n  </tbody>\n</table>\n</div>"
     },
     "metadata": {},
     "execution_count": 12
    }
   ],
   "source": [
    "mp_data.loc[(mp_data[\"UsageType_Id\"] == \"BETAALDP\") & (mp_data[\"province\"] == \"Noord-Holland\")]\n",
    "# mp_data"
   ]
  },
  {
   "source": [
    "Now **Gooise Meren** is grouped correctly showing the right sum.\n",
    "\n",
    "With the data of the municipalities, the only thing I have to do to create the province data is to sum by province. "
   ],
   "cell_type": "markdown",
   "metadata": {}
  },
  {
   "cell_type": "code",
   "execution_count": 13,
   "metadata": {},
   "outputs": [],
   "source": [
    "pv_sum_col = [\"ExitPossibleAllDay\", \"OpenAllYear\", \"UsageType_count\"]\n",
    "pv_group_cols = [rdw_geo.columns.values[i] for i in [4, 5]]\n",
    "pv_data = group_and_sum(mp_data, pv_group_cols, pv_sum_col)"
   ]
  },
  {
   "cell_type": "code",
   "execution_count": 14,
   "metadata": {},
   "outputs": [
    {
     "output_type": "execute_result",
     "data": {
      "text/plain": [
       "   UsageType_Id       province  ExitPossibleAllDay  OpenAllYear  \\\n",
       "12     BETAALDP        Drenthe                5948         5252   \n",
       "13     BETAALDP      Flevoland                2034         1944   \n",
       "14     BETAALDP      Friesland                1760         1370   \n",
       "15     BETAALDP     Gelderland               18319        16018   \n",
       "16     BETAALDP      Groningen                3107         2872   \n",
       "17     BETAALDP        Limburg               12421         8543   \n",
       "18     BETAALDP  Noord-Brabant               32506        25556   \n",
       "19     BETAALDP  Noord-Holland               44715        38400   \n",
       "20     BETAALDP     Overijssel               32161        29671   \n",
       "21     BETAALDP        Utrecht               22333        23290   \n",
       "22     BETAALDP        Zeeland                5635         5043   \n",
       "23     BETAALDP   Zuid-Holland               67091        64614   \n",
       "\n",
       "    UsageType_count  \n",
       "12             6318  \n",
       "13             2034  \n",
       "14             2362  \n",
       "15            20928  \n",
       "16             3205  \n",
       "17            12477  \n",
       "18            41890  \n",
       "19            47402  \n",
       "20            32161  \n",
       "21            23830  \n",
       "22             6097  \n",
       "23            68427  "
      ],
      "text/html": "<div>\n<style scoped>\n    .dataframe tbody tr th:only-of-type {\n        vertical-align: middle;\n    }\n\n    .dataframe tbody tr th {\n        vertical-align: top;\n    }\n\n    .dataframe thead th {\n        text-align: right;\n    }\n</style>\n<table border=\"1\" class=\"dataframe\">\n  <thead>\n    <tr style=\"text-align: right;\">\n      <th></th>\n      <th>UsageType_Id</th>\n      <th>province</th>\n      <th>ExitPossibleAllDay</th>\n      <th>OpenAllYear</th>\n      <th>UsageType_count</th>\n    </tr>\n  </thead>\n  <tbody>\n    <tr>\n      <th>12</th>\n      <td>BETAALDP</td>\n      <td>Drenthe</td>\n      <td>5948</td>\n      <td>5252</td>\n      <td>6318</td>\n    </tr>\n    <tr>\n      <th>13</th>\n      <td>BETAALDP</td>\n      <td>Flevoland</td>\n      <td>2034</td>\n      <td>1944</td>\n      <td>2034</td>\n    </tr>\n    <tr>\n      <th>14</th>\n      <td>BETAALDP</td>\n      <td>Friesland</td>\n      <td>1760</td>\n      <td>1370</td>\n      <td>2362</td>\n    </tr>\n    <tr>\n      <th>15</th>\n      <td>BETAALDP</td>\n      <td>Gelderland</td>\n      <td>18319</td>\n      <td>16018</td>\n      <td>20928</td>\n    </tr>\n    <tr>\n      <th>16</th>\n      <td>BETAALDP</td>\n      <td>Groningen</td>\n      <td>3107</td>\n      <td>2872</td>\n      <td>3205</td>\n    </tr>\n    <tr>\n      <th>17</th>\n      <td>BETAALDP</td>\n      <td>Limburg</td>\n      <td>12421</td>\n      <td>8543</td>\n      <td>12477</td>\n    </tr>\n    <tr>\n      <th>18</th>\n      <td>BETAALDP</td>\n      <td>Noord-Brabant</td>\n      <td>32506</td>\n      <td>25556</td>\n      <td>41890</td>\n    </tr>\n    <tr>\n      <th>19</th>\n      <td>BETAALDP</td>\n      <td>Noord-Holland</td>\n      <td>44715</td>\n      <td>38400</td>\n      <td>47402</td>\n    </tr>\n    <tr>\n      <th>20</th>\n      <td>BETAALDP</td>\n      <td>Overijssel</td>\n      <td>32161</td>\n      <td>29671</td>\n      <td>32161</td>\n    </tr>\n    <tr>\n      <th>21</th>\n      <td>BETAALDP</td>\n      <td>Utrecht</td>\n      <td>22333</td>\n      <td>23290</td>\n      <td>23830</td>\n    </tr>\n    <tr>\n      <th>22</th>\n      <td>BETAALDP</td>\n      <td>Zeeland</td>\n      <td>5635</td>\n      <td>5043</td>\n      <td>6097</td>\n    </tr>\n    <tr>\n      <th>23</th>\n      <td>BETAALDP</td>\n      <td>Zuid-Holland</td>\n      <td>67091</td>\n      <td>64614</td>\n      <td>68427</td>\n    </tr>\n  </tbody>\n</table>\n</div>"
     },
     "metadata": {},
     "execution_count": 14
    }
   ],
   "source": [
    "pv_data.loc[(pv_data[\"UsageType_Id\"] == \"BETAALDP\")]"
   ]
  },
  {
   "source": [
    "## Add geometry data to municipalities and provinces\n",
    "\n",
    "Now the data is divided into municipalities and provinces I can add the associated geometry.\n",
    "\n",
    "First I have to rename the column again to merge with and then I can merge the municipality geo data."
   ],
   "cell_type": "markdown",
   "metadata": {}
  },
  {
   "cell_type": "code",
   "execution_count": 15,
   "metadata": {},
   "outputs": [],
   "source": [
    "rename_to_mp = {\"statnaam\": \"municipality\"}\n",
    "mp_geo = NL_MUNICIPALITY_GEO.rename(columns=rename_to_mp)\n",
    "mp_complete = pd.merge(mp_data, mp_geo, how=\"left\", on=[\"municipality\"])"
   ]
  },
  {
   "cell_type": "code",
   "execution_count": 16,
   "metadata": {},
   "outputs": [
    {
     "output_type": "execute_result",
     "data": {
      "text/plain": [
       "         municipality UsageType_Id       province  UsageType_count  \\\n",
       "0    's-Hertogenbosch     BETAALDP  Noord-Brabant            11748   \n",
       "1    's-Hertogenbosch      CARPOOL  Noord-Brabant              198   \n",
       "2    's-Hertogenbosch      GARAGEP  Noord-Brabant              330   \n",
       "3    's-Hertogenbosch     PARKRIDE  Noord-Brabant              264   \n",
       "4              Aalten     PARKRIDE     Gelderland                5   \n",
       "..                ...          ...            ...              ...   \n",
       "622            Zwolle     BETAALDP     Overijssel             2268   \n",
       "623            Zwolle      CARPOOL     Overijssel              168   \n",
       "624            Zwolle      GARAGEP     Overijssel              840   \n",
       "625            Zwolle     TERREINP     Overijssel              168   \n",
       "626            Zwolle      VERGUNP     Overijssel             6132   \n",
       "\n",
       "     ExitPossibleAllDay  OpenAllYear  \\\n",
       "0                 10680         7476   \n",
       "1                   180          126   \n",
       "2                   300          210   \n",
       "3                   240          168   \n",
       "4                     5            5   \n",
       "..                  ...          ...   \n",
       "622                2268         2268   \n",
       "623                 168          168   \n",
       "624                 840          840   \n",
       "625                 168          168   \n",
       "626                6132         6132   \n",
       "\n",
       "                                              geometry  \n",
       "0    MULTIPOLYGON (((158923.6889999993 418291.79600...  \n",
       "1    MULTIPOLYGON (((158923.6889999993 418291.79600...  \n",
       "2    MULTIPOLYGON (((158923.6889999993 418291.79600...  \n",
       "3    MULTIPOLYGON (((158923.6889999993 418291.79600...  \n",
       "4    MULTIPOLYGON (((235537.4510000013 443533.46400...  \n",
       "..                                                 ...  \n",
       "622  MULTIPOLYGON (((209653.2093000002 511054.11210...  \n",
       "623  MULTIPOLYGON (((209653.2093000002 511054.11210...  \n",
       "624  MULTIPOLYGON (((209653.2093000002 511054.11210...  \n",
       "625  MULTIPOLYGON (((209653.2093000002 511054.11210...  \n",
       "626  MULTIPOLYGON (((209653.2093000002 511054.11210...  \n",
       "\n",
       "[627 rows x 7 columns]"
      ],
      "text/html": "<div>\n<style scoped>\n    .dataframe tbody tr th:only-of-type {\n        vertical-align: middle;\n    }\n\n    .dataframe tbody tr th {\n        vertical-align: top;\n    }\n\n    .dataframe thead th {\n        text-align: right;\n    }\n</style>\n<table border=\"1\" class=\"dataframe\">\n  <thead>\n    <tr style=\"text-align: right;\">\n      <th></th>\n      <th>municipality</th>\n      <th>UsageType_Id</th>\n      <th>province</th>\n      <th>UsageType_count</th>\n      <th>ExitPossibleAllDay</th>\n      <th>OpenAllYear</th>\n      <th>geometry</th>\n    </tr>\n  </thead>\n  <tbody>\n    <tr>\n      <th>0</th>\n      <td>'s-Hertogenbosch</td>\n      <td>BETAALDP</td>\n      <td>Noord-Brabant</td>\n      <td>11748</td>\n      <td>10680</td>\n      <td>7476</td>\n      <td>MULTIPOLYGON (((158923.6889999993 418291.79600...</td>\n    </tr>\n    <tr>\n      <th>1</th>\n      <td>'s-Hertogenbosch</td>\n      <td>CARPOOL</td>\n      <td>Noord-Brabant</td>\n      <td>198</td>\n      <td>180</td>\n      <td>126</td>\n      <td>MULTIPOLYGON (((158923.6889999993 418291.79600...</td>\n    </tr>\n    <tr>\n      <th>2</th>\n      <td>'s-Hertogenbosch</td>\n      <td>GARAGEP</td>\n      <td>Noord-Brabant</td>\n      <td>330</td>\n      <td>300</td>\n      <td>210</td>\n      <td>MULTIPOLYGON (((158923.6889999993 418291.79600...</td>\n    </tr>\n    <tr>\n      <th>3</th>\n      <td>'s-Hertogenbosch</td>\n      <td>PARKRIDE</td>\n      <td>Noord-Brabant</td>\n      <td>264</td>\n      <td>240</td>\n      <td>168</td>\n      <td>MULTIPOLYGON (((158923.6889999993 418291.79600...</td>\n    </tr>\n    <tr>\n      <th>4</th>\n      <td>Aalten</td>\n      <td>PARKRIDE</td>\n      <td>Gelderland</td>\n      <td>5</td>\n      <td>5</td>\n      <td>5</td>\n      <td>MULTIPOLYGON (((235537.4510000013 443533.46400...</td>\n    </tr>\n    <tr>\n      <th>...</th>\n      <td>...</td>\n      <td>...</td>\n      <td>...</td>\n      <td>...</td>\n      <td>...</td>\n      <td>...</td>\n      <td>...</td>\n    </tr>\n    <tr>\n      <th>622</th>\n      <td>Zwolle</td>\n      <td>BETAALDP</td>\n      <td>Overijssel</td>\n      <td>2268</td>\n      <td>2268</td>\n      <td>2268</td>\n      <td>MULTIPOLYGON (((209653.2093000002 511054.11210...</td>\n    </tr>\n    <tr>\n      <th>623</th>\n      <td>Zwolle</td>\n      <td>CARPOOL</td>\n      <td>Overijssel</td>\n      <td>168</td>\n      <td>168</td>\n      <td>168</td>\n      <td>MULTIPOLYGON (((209653.2093000002 511054.11210...</td>\n    </tr>\n    <tr>\n      <th>624</th>\n      <td>Zwolle</td>\n      <td>GARAGEP</td>\n      <td>Overijssel</td>\n      <td>840</td>\n      <td>840</td>\n      <td>840</td>\n      <td>MULTIPOLYGON (((209653.2093000002 511054.11210...</td>\n    </tr>\n    <tr>\n      <th>625</th>\n      <td>Zwolle</td>\n      <td>TERREINP</td>\n      <td>Overijssel</td>\n      <td>168</td>\n      <td>168</td>\n      <td>168</td>\n      <td>MULTIPOLYGON (((209653.2093000002 511054.11210...</td>\n    </tr>\n    <tr>\n      <th>626</th>\n      <td>Zwolle</td>\n      <td>VERGUNP</td>\n      <td>Overijssel</td>\n      <td>6132</td>\n      <td>6132</td>\n      <td>6132</td>\n      <td>MULTIPOLYGON (((209653.2093000002 511054.11210...</td>\n    </tr>\n  </tbody>\n</table>\n<p>627 rows × 7 columns</p>\n</div>"
     },
     "metadata": {},
     "execution_count": 16
    }
   ],
   "source": [
    "mp_complete"
   ]
  },
  {
   "source": [
    "I do the same with the province geo data."
   ],
   "cell_type": "markdown",
   "metadata": {}
  },
  {
   "cell_type": "code",
   "execution_count": 17,
   "metadata": {},
   "outputs": [],
   "source": [
    "rename_to_pv = {\"statnaam\": \"province\"}\n",
    "pv_geo = NL_PROVINCE_GEO.rename(columns=rename_to_pv)\n",
    "pv_complete = pd.merge(pv_data, pv_geo, how=\"left\", on=[\"province\"])\n"
   ]
  },
  {
   "cell_type": "code",
   "execution_count": 18,
   "metadata": {},
   "outputs": [
    {
     "output_type": "execute_result",
     "data": {
      "text/plain": [
       "    UsageType_Id       province  ExitPossibleAllDay  OpenAllYear  \\\n",
       "0        5DAAGSE  Noord-Brabant                1122         1122   \n",
       "1          ALLES      Friesland                  63           63   \n",
       "2       AUTODATE        Limburg                 154           98   \n",
       "3         AUTODP   Zuid-Holland                 336          432   \n",
       "4        AUTOLUW        Limburg                  99           88   \n",
       "..           ...            ...                 ...          ...   \n",
       "189     WERKNMRP   Zuid-Holland                2688         3456   \n",
       "190         ZAKE  Noord-Brabant                 572          572   \n",
       "191         ZORG  Noord-Brabant                  52           52   \n",
       "192        ZORGP   Zuid-Holland                 168          216   \n",
       "193     ZORGVERG     Gelderland                  12           12   \n",
       "\n",
       "     UsageType_count                                           geometry  \n",
       "0               2244  MULTIPOLYGON (((165234.7699999996 425338.92000...  \n",
       "1                 63  MULTIPOLYGON (((207507.3049999997 603439.36400...  \n",
       "2                154  MULTIPOLYGON (((192680.2589999996 417166.22899...  \n",
       "3                432  MULTIPOLYGON (((97728.93400000036 481002.80799...  \n",
       "4                 99  MULTIPOLYGON (((192680.2589999996 417166.22899...  \n",
       "..               ...                                                ...  \n",
       "189             3456  MULTIPOLYGON (((97728.93400000036 481002.80799...  \n",
       "190              572  MULTIPOLYGON (((165234.7699999996 425338.92000...  \n",
       "191               52  MULTIPOLYGON (((165234.7699999996 425338.92000...  \n",
       "192              216  MULTIPOLYGON (((97728.93400000036 481002.80799...  \n",
       "193               12  MULTIPOLYGON (((188188.7340000011 503929.77199...  \n",
       "\n",
       "[194 rows x 6 columns]"
      ],
      "text/html": "<div>\n<style scoped>\n    .dataframe tbody tr th:only-of-type {\n        vertical-align: middle;\n    }\n\n    .dataframe tbody tr th {\n        vertical-align: top;\n    }\n\n    .dataframe thead th {\n        text-align: right;\n    }\n</style>\n<table border=\"1\" class=\"dataframe\">\n  <thead>\n    <tr style=\"text-align: right;\">\n      <th></th>\n      <th>UsageType_Id</th>\n      <th>province</th>\n      <th>ExitPossibleAllDay</th>\n      <th>OpenAllYear</th>\n      <th>UsageType_count</th>\n      <th>geometry</th>\n    </tr>\n  </thead>\n  <tbody>\n    <tr>\n      <th>0</th>\n      <td>5DAAGSE</td>\n      <td>Noord-Brabant</td>\n      <td>1122</td>\n      <td>1122</td>\n      <td>2244</td>\n      <td>MULTIPOLYGON (((165234.7699999996 425338.92000...</td>\n    </tr>\n    <tr>\n      <th>1</th>\n      <td>ALLES</td>\n      <td>Friesland</td>\n      <td>63</td>\n      <td>63</td>\n      <td>63</td>\n      <td>MULTIPOLYGON (((207507.3049999997 603439.36400...</td>\n    </tr>\n    <tr>\n      <th>2</th>\n      <td>AUTODATE</td>\n      <td>Limburg</td>\n      <td>154</td>\n      <td>98</td>\n      <td>154</td>\n      <td>MULTIPOLYGON (((192680.2589999996 417166.22899...</td>\n    </tr>\n    <tr>\n      <th>3</th>\n      <td>AUTODP</td>\n      <td>Zuid-Holland</td>\n      <td>336</td>\n      <td>432</td>\n      <td>432</td>\n      <td>MULTIPOLYGON (((97728.93400000036 481002.80799...</td>\n    </tr>\n    <tr>\n      <th>4</th>\n      <td>AUTOLUW</td>\n      <td>Limburg</td>\n      <td>99</td>\n      <td>88</td>\n      <td>99</td>\n      <td>MULTIPOLYGON (((192680.2589999996 417166.22899...</td>\n    </tr>\n    <tr>\n      <th>...</th>\n      <td>...</td>\n      <td>...</td>\n      <td>...</td>\n      <td>...</td>\n      <td>...</td>\n      <td>...</td>\n    </tr>\n    <tr>\n      <th>189</th>\n      <td>WERKNMRP</td>\n      <td>Zuid-Holland</td>\n      <td>2688</td>\n      <td>3456</td>\n      <td>3456</td>\n      <td>MULTIPOLYGON (((97728.93400000036 481002.80799...</td>\n    </tr>\n    <tr>\n      <th>190</th>\n      <td>ZAKE</td>\n      <td>Noord-Brabant</td>\n      <td>572</td>\n      <td>572</td>\n      <td>572</td>\n      <td>MULTIPOLYGON (((165234.7699999996 425338.92000...</td>\n    </tr>\n    <tr>\n      <th>191</th>\n      <td>ZORG</td>\n      <td>Noord-Brabant</td>\n      <td>52</td>\n      <td>52</td>\n      <td>52</td>\n      <td>MULTIPOLYGON (((165234.7699999996 425338.92000...</td>\n    </tr>\n    <tr>\n      <th>192</th>\n      <td>ZORGP</td>\n      <td>Zuid-Holland</td>\n      <td>168</td>\n      <td>216</td>\n      <td>216</td>\n      <td>MULTIPOLYGON (((97728.93400000036 481002.80799...</td>\n    </tr>\n    <tr>\n      <th>193</th>\n      <td>ZORGVERG</td>\n      <td>Gelderland</td>\n      <td>12</td>\n      <td>12</td>\n      <td>12</td>\n      <td>MULTIPOLYGON (((188188.7340000011 503929.77199...</td>\n    </tr>\n  </tbody>\n</table>\n<p>194 rows × 6 columns</p>\n</div>"
     },
     "metadata": {},
     "execution_count": 18
    }
   ],
   "source": [
    "pv_complete"
   ]
  },
  {
   "source": [
    "## Export as csv\n",
    "\n",
    "The last thing is to export the two datasets. I use a function I made earlier to export a DataFrame as csv"
   ],
   "cell_type": "markdown",
   "metadata": {}
  },
  {
   "cell_type": "code",
   "execution_count": 19,
   "metadata": {},
   "outputs": [
    {
     "output_type": "stream",
     "name": "stdout",
     "text": [
      "province.csv is created in folder: data\nmunicipality.csv is created in folder: data\n"
     ]
    }
   ],
   "source": [
    "def write_csv(data, filename):\n",
    "    Path(\"data\").mkdir(parents=True, exist_ok=True)\n",
    "    chdir(\"data\")\n",
    "    file = f\"{filename}.csv\"\n",
    "    data.to_csv(file)\n",
    "    print(file, \"is created in folder: data\")\n",
    "    chdir(\"../\")\n",
    "\n",
    "\n",
    "write_csv(pv_complete, \"province\")\n",
    "write_csv(mp_complete, \"municipality\")"
   ]
  }
 ]
}