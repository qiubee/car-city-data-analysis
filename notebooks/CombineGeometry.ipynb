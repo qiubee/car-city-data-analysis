{
 "metadata": {
  "language_info": {
   "codemirror_mode": {
    "name": "ipython",
    "version": 3
   },
   "file_extension": ".py",
   "mimetype": "text/x-python",
   "name": "python",
   "nbconvert_exporter": "python",
   "pygments_lexer": "ipython3",
   "version": "3.6.9-final"
  },
  "orig_nbformat": 2,
  "kernelspec": {
   "name": "python36964bitenvce23a3a1976d4edc8d92ece9687d853a",
   "display_name": "Python 3.6.9 64-bit ('env')",
   "language": "python"
  }
 },
 "nbformat": 4,
 "nbformat_minor": 2,
 "cells": [
  {
   "source": [
    "# Combine geodata with datasets\n",
    "\n",
    "After extracting the data from multiple resources and converting it as csv, I can now combine the geometric data with the datasets.\n",
    "\n",
    "I want to create two datasets, each of different area levels, namely province and municipality, and export it as csv.\n",
    "\n",
    "First I import the datasets I need."
   ],
   "cell_type": "markdown",
   "metadata": {}
  },
  {
   "cell_type": "code",
   "execution_count": 1,
   "metadata": {},
   "outputs": [],
   "source": [
    "from pathlib import Path\n",
    "from os import chdir\n",
    "import pandas as pd\n",
    "\n",
    "NL_POSTAL = pd.read_csv(\"../data/nl_postal.csv\")\n",
    "NL_PROVINCE_GEO = pd.read_csv(\"../data/cbs_provincie_2020_gegeneraliseerd.csv\")\n",
    "NL_MUNICIPALITY_GEO = pd.read_csv(\"../data/cbs_gemeente_2020_gegeneraliseerd.csv\")\n",
    "RDW_DATASET = pd.read_csv(\"../data/RDW_dataset.csv\")"
   ]
  },
  {
   "cell_type": "code",
   "execution_count": 2,
   "metadata": {},
   "outputs": [
    {
     "output_type": "execute_result",
     "data": {
      "text/plain": [
       "         AreaManagerId       UsageIdDesc  StartDateUsageId  EndDateUsageId  \\\n",
       "0                  484  Betaald Parkeren          20130919        29991231   \n",
       "1                  484  Betaald Parkeren          20130919        29991231   \n",
       "2                  484  Betaald Parkeren          20130919        29991231   \n",
       "3                  484  Betaald Parkeren          20130919        29991231   \n",
       "4                  484  Betaald Parkeren          20130919        29991231   \n",
       "...                ...               ...               ...             ...   \n",
       "1042983            612   Garage Parkeren          20131010        20201019   \n",
       "1042984            612   Garage Parkeren          20131010        20201019   \n",
       "1042985            612   Garage Parkeren          20131010        20201019   \n",
       "1042986            612   Garage Parkeren          20131010        20201019   \n",
       "1042987            612   Garage Parkeren          20131010        20201019   \n",
       "\n",
       "        SuperiorUsageId      AreaManagerDesc AreaZone_Id  ExitPossibleAllDay  \\\n",
       "0              PARKEREN  Alphen aan den Rijn  484_BOSPAR               False   \n",
       "1              PARKEREN  Alphen aan den Rijn  484_BOSPAR               False   \n",
       "2              PARKEREN  Alphen aan den Rijn  484_BOSPAR               False   \n",
       "3              PARKEREN  Alphen aan den Rijn  484_BOSPAR               False   \n",
       "4              PARKEREN  Alphen aan den Rijn  484_BOSPAR               False   \n",
       "...                 ...                  ...         ...                 ...   \n",
       "1042983        PARKEREN          Spijkenisse     612_CPG                True   \n",
       "1042984        PARKEREN          Spijkenisse     612_CPG                True   \n",
       "1042985        PARKEREN          Spijkenisse     612_CPG                True   \n",
       "1042986        PARKEREN          Spijkenisse     612_CPG                True   \n",
       "1042987        PARKEREN          Spijkenisse     612_CPG                True   \n",
       "\n",
       "         OpenAllYear                                           AreaDesc  \\\n",
       "0              False      Straatparkeren Paradijslaan (Alphen a/d Rijn)   \n",
       "1              False               Carpool Gemeneweg (Hazerswoude-Dorp)   \n",
       "2              False             Carpool Nieuwkoopseweg (Aarlanderveen)   \n",
       "3              False        Blauwe Zone Kerk en Zanen (Alphen a/d Rijn)   \n",
       "4              False             Vergunningen Cornelis de Vlamingstraat   \n",
       "...              ...                                                ...   \n",
       "1042983        False  Terrein Van Houtenstraat en Vredehofstraat (ce...   \n",
       "1042984        False                      Garage Stadhuis (Spijkenisse)   \n",
       "1042985        False                     Garage Kolkplein (Spijkenisse)   \n",
       "1042986        False                    Garage Boekenberg (Spijkenisse)   \n",
       "1042987        False                    Garage City Plaza (Spijkenisse)   \n",
       "\n",
       "        UsageType_Id  \n",
       "0           BETAALDP  \n",
       "1            CARPOOL  \n",
       "2            CARPOOL  \n",
       "3            BLAUWEZ  \n",
       "4            VERGUNP  \n",
       "...              ...  \n",
       "1042983     TERREINP  \n",
       "1042984      GARAGEP  \n",
       "1042985      GARAGEP  \n",
       "1042986      GARAGEP  \n",
       "1042987      GARAGEP  \n",
       "\n",
       "[1042988 rows x 11 columns]"
      ],
      "text/html": "<div>\n<style scoped>\n    .dataframe tbody tr th:only-of-type {\n        vertical-align: middle;\n    }\n\n    .dataframe tbody tr th {\n        vertical-align: top;\n    }\n\n    .dataframe thead th {\n        text-align: right;\n    }\n</style>\n<table border=\"1\" class=\"dataframe\">\n  <thead>\n    <tr style=\"text-align: right;\">\n      <th></th>\n      <th>AreaManagerId</th>\n      <th>UsageIdDesc</th>\n      <th>StartDateUsageId</th>\n      <th>EndDateUsageId</th>\n      <th>SuperiorUsageId</th>\n      <th>AreaManagerDesc</th>\n      <th>AreaZone_Id</th>\n      <th>ExitPossibleAllDay</th>\n      <th>OpenAllYear</th>\n      <th>AreaDesc</th>\n      <th>UsageType_Id</th>\n    </tr>\n  </thead>\n  <tbody>\n    <tr>\n      <th>0</th>\n      <td>484</td>\n      <td>Betaald Parkeren</td>\n      <td>20130919</td>\n      <td>29991231</td>\n      <td>PARKEREN</td>\n      <td>Alphen aan den Rijn</td>\n      <td>484_BOSPAR</td>\n      <td>False</td>\n      <td>False</td>\n      <td>Straatparkeren Paradijslaan (Alphen a/d Rijn)</td>\n      <td>BETAALDP</td>\n    </tr>\n    <tr>\n      <th>1</th>\n      <td>484</td>\n      <td>Betaald Parkeren</td>\n      <td>20130919</td>\n      <td>29991231</td>\n      <td>PARKEREN</td>\n      <td>Alphen aan den Rijn</td>\n      <td>484_BOSPAR</td>\n      <td>False</td>\n      <td>False</td>\n      <td>Carpool Gemeneweg (Hazerswoude-Dorp)</td>\n      <td>CARPOOL</td>\n    </tr>\n    <tr>\n      <th>2</th>\n      <td>484</td>\n      <td>Betaald Parkeren</td>\n      <td>20130919</td>\n      <td>29991231</td>\n      <td>PARKEREN</td>\n      <td>Alphen aan den Rijn</td>\n      <td>484_BOSPAR</td>\n      <td>False</td>\n      <td>False</td>\n      <td>Carpool Nieuwkoopseweg (Aarlanderveen)</td>\n      <td>CARPOOL</td>\n    </tr>\n    <tr>\n      <th>3</th>\n      <td>484</td>\n      <td>Betaald Parkeren</td>\n      <td>20130919</td>\n      <td>29991231</td>\n      <td>PARKEREN</td>\n      <td>Alphen aan den Rijn</td>\n      <td>484_BOSPAR</td>\n      <td>False</td>\n      <td>False</td>\n      <td>Blauwe Zone Kerk en Zanen (Alphen a/d Rijn)</td>\n      <td>BLAUWEZ</td>\n    </tr>\n    <tr>\n      <th>4</th>\n      <td>484</td>\n      <td>Betaald Parkeren</td>\n      <td>20130919</td>\n      <td>29991231</td>\n      <td>PARKEREN</td>\n      <td>Alphen aan den Rijn</td>\n      <td>484_BOSPAR</td>\n      <td>False</td>\n      <td>False</td>\n      <td>Vergunningen Cornelis de Vlamingstraat</td>\n      <td>VERGUNP</td>\n    </tr>\n    <tr>\n      <th>...</th>\n      <td>...</td>\n      <td>...</td>\n      <td>...</td>\n      <td>...</td>\n      <td>...</td>\n      <td>...</td>\n      <td>...</td>\n      <td>...</td>\n      <td>...</td>\n      <td>...</td>\n      <td>...</td>\n    </tr>\n    <tr>\n      <th>1042983</th>\n      <td>612</td>\n      <td>Garage Parkeren</td>\n      <td>20131010</td>\n      <td>20201019</td>\n      <td>PARKEREN</td>\n      <td>Spijkenisse</td>\n      <td>612_CPG</td>\n      <td>True</td>\n      <td>False</td>\n      <td>Terrein Van Houtenstraat en Vredehofstraat (ce...</td>\n      <td>TERREINP</td>\n    </tr>\n    <tr>\n      <th>1042984</th>\n      <td>612</td>\n      <td>Garage Parkeren</td>\n      <td>20131010</td>\n      <td>20201019</td>\n      <td>PARKEREN</td>\n      <td>Spijkenisse</td>\n      <td>612_CPG</td>\n      <td>True</td>\n      <td>False</td>\n      <td>Garage Stadhuis (Spijkenisse)</td>\n      <td>GARAGEP</td>\n    </tr>\n    <tr>\n      <th>1042985</th>\n      <td>612</td>\n      <td>Garage Parkeren</td>\n      <td>20131010</td>\n      <td>20201019</td>\n      <td>PARKEREN</td>\n      <td>Spijkenisse</td>\n      <td>612_CPG</td>\n      <td>True</td>\n      <td>False</td>\n      <td>Garage Kolkplein (Spijkenisse)</td>\n      <td>GARAGEP</td>\n    </tr>\n    <tr>\n      <th>1042986</th>\n      <td>612</td>\n      <td>Garage Parkeren</td>\n      <td>20131010</td>\n      <td>20201019</td>\n      <td>PARKEREN</td>\n      <td>Spijkenisse</td>\n      <td>612_CPG</td>\n      <td>True</td>\n      <td>False</td>\n      <td>Garage Boekenberg (Spijkenisse)</td>\n      <td>GARAGEP</td>\n    </tr>\n    <tr>\n      <th>1042987</th>\n      <td>612</td>\n      <td>Garage Parkeren</td>\n      <td>20131010</td>\n      <td>20201019</td>\n      <td>PARKEREN</td>\n      <td>Spijkenisse</td>\n      <td>612_CPG</td>\n      <td>True</td>\n      <td>False</td>\n      <td>Garage City Plaza (Spijkenisse)</td>\n      <td>GARAGEP</td>\n    </tr>\n  </tbody>\n</table>\n<p>1042988 rows × 11 columns</p>\n</div>"
     },
     "metadata": {},
     "execution_count": 2
    }
   ],
   "source": [
    "RDW_DATASET"
   ]
  },
  {
   "source": [
    "Then I have to filter the RDW-dataset. I need to filter the columns that I won't use, namely most of the *Id* columns."
   ],
   "cell_type": "markdown",
   "metadata": {}
  },
  {
   "cell_type": "code",
   "execution_count": 3,
   "metadata": {},
   "outputs": [],
   "source": [
    "def drop_df_columns(df, columns):\n",
    "    return df.drop(df.columns[columns], axis=1)\n",
    "\n",
    "\n",
    "drop_rdw_columns = [0, 2, 3, 4, 6, 9]\n",
    "rdw = drop_df_columns(RDW_DATASET, drop_rdw_columns)"
   ]
  },
  {
   "cell_type": "code",
   "execution_count": 4,
   "metadata": {},
   "outputs": [
    {
     "output_type": "execute_result",
     "data": {
      "text/plain": [
       "              UsageIdDesc      AreaManagerDesc  ExitPossibleAllDay  \\\n",
       "0        Betaald Parkeren  Alphen aan den Rijn               False   \n",
       "1        Betaald Parkeren  Alphen aan den Rijn               False   \n",
       "2        Betaald Parkeren  Alphen aan den Rijn               False   \n",
       "3        Betaald Parkeren  Alphen aan den Rijn               False   \n",
       "4        Betaald Parkeren  Alphen aan den Rijn               False   \n",
       "...                   ...                  ...                 ...   \n",
       "1042983   Garage Parkeren          Spijkenisse                True   \n",
       "1042984   Garage Parkeren          Spijkenisse                True   \n",
       "1042985   Garage Parkeren          Spijkenisse                True   \n",
       "1042986   Garage Parkeren          Spijkenisse                True   \n",
       "1042987   Garage Parkeren          Spijkenisse                True   \n",
       "\n",
       "         OpenAllYear UsageType_Id  \n",
       "0              False     BETAALDP  \n",
       "1              False      CARPOOL  \n",
       "2              False      CARPOOL  \n",
       "3              False      BLAUWEZ  \n",
       "4              False      VERGUNP  \n",
       "...              ...          ...  \n",
       "1042983        False     TERREINP  \n",
       "1042984        False      GARAGEP  \n",
       "1042985        False      GARAGEP  \n",
       "1042986        False      GARAGEP  \n",
       "1042987        False      GARAGEP  \n",
       "\n",
       "[1042988 rows x 5 columns]"
      ],
      "text/html": "<div>\n<style scoped>\n    .dataframe tbody tr th:only-of-type {\n        vertical-align: middle;\n    }\n\n    .dataframe tbody tr th {\n        vertical-align: top;\n    }\n\n    .dataframe thead th {\n        text-align: right;\n    }\n</style>\n<table border=\"1\" class=\"dataframe\">\n  <thead>\n    <tr style=\"text-align: right;\">\n      <th></th>\n      <th>UsageIdDesc</th>\n      <th>AreaManagerDesc</th>\n      <th>ExitPossibleAllDay</th>\n      <th>OpenAllYear</th>\n      <th>UsageType_Id</th>\n    </tr>\n  </thead>\n  <tbody>\n    <tr>\n      <th>0</th>\n      <td>Betaald Parkeren</td>\n      <td>Alphen aan den Rijn</td>\n      <td>False</td>\n      <td>False</td>\n      <td>BETAALDP</td>\n    </tr>\n    <tr>\n      <th>1</th>\n      <td>Betaald Parkeren</td>\n      <td>Alphen aan den Rijn</td>\n      <td>False</td>\n      <td>False</td>\n      <td>CARPOOL</td>\n    </tr>\n    <tr>\n      <th>2</th>\n      <td>Betaald Parkeren</td>\n      <td>Alphen aan den Rijn</td>\n      <td>False</td>\n      <td>False</td>\n      <td>CARPOOL</td>\n    </tr>\n    <tr>\n      <th>3</th>\n      <td>Betaald Parkeren</td>\n      <td>Alphen aan den Rijn</td>\n      <td>False</td>\n      <td>False</td>\n      <td>BLAUWEZ</td>\n    </tr>\n    <tr>\n      <th>4</th>\n      <td>Betaald Parkeren</td>\n      <td>Alphen aan den Rijn</td>\n      <td>False</td>\n      <td>False</td>\n      <td>VERGUNP</td>\n    </tr>\n    <tr>\n      <th>...</th>\n      <td>...</td>\n      <td>...</td>\n      <td>...</td>\n      <td>...</td>\n      <td>...</td>\n    </tr>\n    <tr>\n      <th>1042983</th>\n      <td>Garage Parkeren</td>\n      <td>Spijkenisse</td>\n      <td>True</td>\n      <td>False</td>\n      <td>TERREINP</td>\n    </tr>\n    <tr>\n      <th>1042984</th>\n      <td>Garage Parkeren</td>\n      <td>Spijkenisse</td>\n      <td>True</td>\n      <td>False</td>\n      <td>GARAGEP</td>\n    </tr>\n    <tr>\n      <th>1042985</th>\n      <td>Garage Parkeren</td>\n      <td>Spijkenisse</td>\n      <td>True</td>\n      <td>False</td>\n      <td>GARAGEP</td>\n    </tr>\n    <tr>\n      <th>1042986</th>\n      <td>Garage Parkeren</td>\n      <td>Spijkenisse</td>\n      <td>True</td>\n      <td>False</td>\n      <td>GARAGEP</td>\n    </tr>\n    <tr>\n      <th>1042987</th>\n      <td>Garage Parkeren</td>\n      <td>Spijkenisse</td>\n      <td>True</td>\n      <td>False</td>\n      <td>GARAGEP</td>\n    </tr>\n  </tbody>\n</table>\n<p>1042988 rows × 5 columns</p>\n</div>"
     },
     "metadata": {},
     "execution_count": 4
    }
   ],
   "source": [
    "rdw"
   ]
  },
  {
   "source": [
    "## Add related province and municipality\n",
    "\n",
    "I can now merge the place name hierarchy dataset (NL_POSTAL) with the RDW-dataset. First I drop the columns I won't need. Then I rename the hierarchy dataset column to match the placename of the RDW dataset and merge them together."
   ],
   "cell_type": "markdown",
   "metadata": {}
  },
  {
   "cell_type": "code",
   "execution_count": 5,
   "metadata": {},
   "outputs": [],
   "source": [
    "rename_nl_col = {\"placeName\": \"AreaManagerDesc\"}\n",
    "nl_place_hierarchy = drop_df_columns(NL_POSTAL, [3, 4])\n",
    "nl_place_hierarchy = nl_place_hierarchy.rename(columns=rename_nl_col)\n",
    "rdw_geo = pd.merge(rdw, nl_place_hierarchy, how=\"left\", on=[\"AreaManagerDesc\"])\n"
   ]
  },
  {
   "cell_type": "code",
   "execution_count": 6,
   "metadata": {},
   "outputs": [
    {
     "output_type": "execute_result",
     "data": {
      "text/plain": [
       "              UsageIdDesc      AreaManagerDesc  ExitPossibleAllDay  \\\n",
       "0        Betaald Parkeren  Alphen aan den Rijn               False   \n",
       "1        Betaald Parkeren  Alphen aan den Rijn               False   \n",
       "2        Betaald Parkeren  Alphen aan den Rijn               False   \n",
       "3        Betaald Parkeren  Alphen aan den Rijn               False   \n",
       "4        Betaald Parkeren  Alphen aan den Rijn               False   \n",
       "...                   ...                  ...                 ...   \n",
       "1044087   Garage Parkeren          Spijkenisse                True   \n",
       "1044088   Garage Parkeren          Spijkenisse                True   \n",
       "1044089   Garage Parkeren          Spijkenisse                True   \n",
       "1044090   Garage Parkeren          Spijkenisse                True   \n",
       "1044091   Garage Parkeren          Spijkenisse                True   \n",
       "\n",
       "         OpenAllYear UsageType_Id      province         municipality  \n",
       "0              False     BETAALDP  Zuid-Holland  Alphen aan den Rijn  \n",
       "1              False      CARPOOL  Zuid-Holland  Alphen aan den Rijn  \n",
       "2              False      CARPOOL  Zuid-Holland  Alphen aan den Rijn  \n",
       "3              False      BLAUWEZ  Zuid-Holland  Alphen aan den Rijn  \n",
       "4              False      VERGUNP  Zuid-Holland  Alphen aan den Rijn  \n",
       "...              ...          ...           ...                  ...  \n",
       "1044087        False     TERREINP  Zuid-Holland           Nissewaard  \n",
       "1044088        False      GARAGEP  Zuid-Holland           Nissewaard  \n",
       "1044089        False      GARAGEP  Zuid-Holland           Nissewaard  \n",
       "1044090        False      GARAGEP  Zuid-Holland           Nissewaard  \n",
       "1044091        False      GARAGEP  Zuid-Holland           Nissewaard  \n",
       "\n",
       "[1044092 rows x 7 columns]"
      ],
      "text/html": "<div>\n<style scoped>\n    .dataframe tbody tr th:only-of-type {\n        vertical-align: middle;\n    }\n\n    .dataframe tbody tr th {\n        vertical-align: top;\n    }\n\n    .dataframe thead th {\n        text-align: right;\n    }\n</style>\n<table border=\"1\" class=\"dataframe\">\n  <thead>\n    <tr style=\"text-align: right;\">\n      <th></th>\n      <th>UsageIdDesc</th>\n      <th>AreaManagerDesc</th>\n      <th>ExitPossibleAllDay</th>\n      <th>OpenAllYear</th>\n      <th>UsageType_Id</th>\n      <th>province</th>\n      <th>municipality</th>\n    </tr>\n  </thead>\n  <tbody>\n    <tr>\n      <th>0</th>\n      <td>Betaald Parkeren</td>\n      <td>Alphen aan den Rijn</td>\n      <td>False</td>\n      <td>False</td>\n      <td>BETAALDP</td>\n      <td>Zuid-Holland</td>\n      <td>Alphen aan den Rijn</td>\n    </tr>\n    <tr>\n      <th>1</th>\n      <td>Betaald Parkeren</td>\n      <td>Alphen aan den Rijn</td>\n      <td>False</td>\n      <td>False</td>\n      <td>CARPOOL</td>\n      <td>Zuid-Holland</td>\n      <td>Alphen aan den Rijn</td>\n    </tr>\n    <tr>\n      <th>2</th>\n      <td>Betaald Parkeren</td>\n      <td>Alphen aan den Rijn</td>\n      <td>False</td>\n      <td>False</td>\n      <td>CARPOOL</td>\n      <td>Zuid-Holland</td>\n      <td>Alphen aan den Rijn</td>\n    </tr>\n    <tr>\n      <th>3</th>\n      <td>Betaald Parkeren</td>\n      <td>Alphen aan den Rijn</td>\n      <td>False</td>\n      <td>False</td>\n      <td>BLAUWEZ</td>\n      <td>Zuid-Holland</td>\n      <td>Alphen aan den Rijn</td>\n    </tr>\n    <tr>\n      <th>4</th>\n      <td>Betaald Parkeren</td>\n      <td>Alphen aan den Rijn</td>\n      <td>False</td>\n      <td>False</td>\n      <td>VERGUNP</td>\n      <td>Zuid-Holland</td>\n      <td>Alphen aan den Rijn</td>\n    </tr>\n    <tr>\n      <th>...</th>\n      <td>...</td>\n      <td>...</td>\n      <td>...</td>\n      <td>...</td>\n      <td>...</td>\n      <td>...</td>\n      <td>...</td>\n    </tr>\n    <tr>\n      <th>1044087</th>\n      <td>Garage Parkeren</td>\n      <td>Spijkenisse</td>\n      <td>True</td>\n      <td>False</td>\n      <td>TERREINP</td>\n      <td>Zuid-Holland</td>\n      <td>Nissewaard</td>\n    </tr>\n    <tr>\n      <th>1044088</th>\n      <td>Garage Parkeren</td>\n      <td>Spijkenisse</td>\n      <td>True</td>\n      <td>False</td>\n      <td>GARAGEP</td>\n      <td>Zuid-Holland</td>\n      <td>Nissewaard</td>\n    </tr>\n    <tr>\n      <th>1044089</th>\n      <td>Garage Parkeren</td>\n      <td>Spijkenisse</td>\n      <td>True</td>\n      <td>False</td>\n      <td>GARAGEP</td>\n      <td>Zuid-Holland</td>\n      <td>Nissewaard</td>\n    </tr>\n    <tr>\n      <th>1044090</th>\n      <td>Garage Parkeren</td>\n      <td>Spijkenisse</td>\n      <td>True</td>\n      <td>False</td>\n      <td>GARAGEP</td>\n      <td>Zuid-Holland</td>\n      <td>Nissewaard</td>\n    </tr>\n    <tr>\n      <th>1044091</th>\n      <td>Garage Parkeren</td>\n      <td>Spijkenisse</td>\n      <td>True</td>\n      <td>False</td>\n      <td>GARAGEP</td>\n      <td>Zuid-Holland</td>\n      <td>Nissewaard</td>\n    </tr>\n  </tbody>\n</table>\n<p>1044092 rows × 7 columns</p>\n</div>"
     },
     "metadata": {},
     "execution_count": 6
    }
   ],
   "source": [
    "rdw_geo"
   ]
  },
  {
   "source": [
    "The last things that I still need to do, before the dataset can be devided into municipality and province, is to calculate the sum of each usage type, and of the boolean values.\n",
    "\n",
    "For the usage type I need to create a new column. With `groupby()` and `.transform()` I can count the sum of each usage type. In the transform function I use a anonymous function to count how many times each usage type appears in the dataset and save it in a new column called *UsageType_count*."
   ],
   "cell_type": "markdown",
   "metadata": {}
  },
  {
   "cell_type": "code",
   "execution_count": 7,
   "metadata": {},
   "outputs": [],
   "source": [
    "rdw_geo[\"UsageType_count\"] = rdw_geo.groupby([\"AreaManagerDesc\", \"UsageType_Id\"])[\"UsageType_Id\"].transform(lambda x: x.count())"
   ]
  },
  {
   "cell_type": "code",
   "execution_count": 8,
   "metadata": {},
   "outputs": [
    {
     "output_type": "execute_result",
     "data": {
      "text/plain": [
       "              UsageIdDesc      AreaManagerDesc  ExitPossibleAllDay  \\\n",
       "0        Betaald Parkeren  Alphen aan den Rijn               False   \n",
       "1        Betaald Parkeren  Alphen aan den Rijn               False   \n",
       "2        Betaald Parkeren  Alphen aan den Rijn               False   \n",
       "3        Betaald Parkeren  Alphen aan den Rijn               False   \n",
       "4        Betaald Parkeren  Alphen aan den Rijn               False   \n",
       "...                   ...                  ...                 ...   \n",
       "1044087   Garage Parkeren          Spijkenisse                True   \n",
       "1044088   Garage Parkeren          Spijkenisse                True   \n",
       "1044089   Garage Parkeren          Spijkenisse                True   \n",
       "1044090   Garage Parkeren          Spijkenisse                True   \n",
       "1044091   Garage Parkeren          Spijkenisse                True   \n",
       "\n",
       "         OpenAllYear UsageType_Id      province         municipality  \\\n",
       "0              False     BETAALDP  Zuid-Holland  Alphen aan den Rijn   \n",
       "1              False      CARPOOL  Zuid-Holland  Alphen aan den Rijn   \n",
       "2              False      CARPOOL  Zuid-Holland  Alphen aan den Rijn   \n",
       "3              False      BLAUWEZ  Zuid-Holland  Alphen aan den Rijn   \n",
       "4              False      VERGUNP  Zuid-Holland  Alphen aan den Rijn   \n",
       "...              ...          ...           ...                  ...   \n",
       "1044087        False     TERREINP  Zuid-Holland           Nissewaard   \n",
       "1044088        False      GARAGEP  Zuid-Holland           Nissewaard   \n",
       "1044089        False      GARAGEP  Zuid-Holland           Nissewaard   \n",
       "1044090        False      GARAGEP  Zuid-Holland           Nissewaard   \n",
       "1044091        False      GARAGEP  Zuid-Holland           Nissewaard   \n",
       "\n",
       "         UsageType_count  \n",
       "0                   1122  \n",
       "1                    204  \n",
       "2                    204  \n",
       "3                    102  \n",
       "4                    714  \n",
       "...                  ...  \n",
       "1044087               60  \n",
       "1044088              150  \n",
       "1044089              150  \n",
       "1044090              150  \n",
       "1044091              150  \n",
       "\n",
       "[1044092 rows x 8 columns]"
      ],
      "text/html": "<div>\n<style scoped>\n    .dataframe tbody tr th:only-of-type {\n        vertical-align: middle;\n    }\n\n    .dataframe tbody tr th {\n        vertical-align: top;\n    }\n\n    .dataframe thead th {\n        text-align: right;\n    }\n</style>\n<table border=\"1\" class=\"dataframe\">\n  <thead>\n    <tr style=\"text-align: right;\">\n      <th></th>\n      <th>UsageIdDesc</th>\n      <th>AreaManagerDesc</th>\n      <th>ExitPossibleAllDay</th>\n      <th>OpenAllYear</th>\n      <th>UsageType_Id</th>\n      <th>province</th>\n      <th>municipality</th>\n      <th>UsageType_count</th>\n    </tr>\n  </thead>\n  <tbody>\n    <tr>\n      <th>0</th>\n      <td>Betaald Parkeren</td>\n      <td>Alphen aan den Rijn</td>\n      <td>False</td>\n      <td>False</td>\n      <td>BETAALDP</td>\n      <td>Zuid-Holland</td>\n      <td>Alphen aan den Rijn</td>\n      <td>1122</td>\n    </tr>\n    <tr>\n      <th>1</th>\n      <td>Betaald Parkeren</td>\n      <td>Alphen aan den Rijn</td>\n      <td>False</td>\n      <td>False</td>\n      <td>CARPOOL</td>\n      <td>Zuid-Holland</td>\n      <td>Alphen aan den Rijn</td>\n      <td>204</td>\n    </tr>\n    <tr>\n      <th>2</th>\n      <td>Betaald Parkeren</td>\n      <td>Alphen aan den Rijn</td>\n      <td>False</td>\n      <td>False</td>\n      <td>CARPOOL</td>\n      <td>Zuid-Holland</td>\n      <td>Alphen aan den Rijn</td>\n      <td>204</td>\n    </tr>\n    <tr>\n      <th>3</th>\n      <td>Betaald Parkeren</td>\n      <td>Alphen aan den Rijn</td>\n      <td>False</td>\n      <td>False</td>\n      <td>BLAUWEZ</td>\n      <td>Zuid-Holland</td>\n      <td>Alphen aan den Rijn</td>\n      <td>102</td>\n    </tr>\n    <tr>\n      <th>4</th>\n      <td>Betaald Parkeren</td>\n      <td>Alphen aan den Rijn</td>\n      <td>False</td>\n      <td>False</td>\n      <td>VERGUNP</td>\n      <td>Zuid-Holland</td>\n      <td>Alphen aan den Rijn</td>\n      <td>714</td>\n    </tr>\n    <tr>\n      <th>...</th>\n      <td>...</td>\n      <td>...</td>\n      <td>...</td>\n      <td>...</td>\n      <td>...</td>\n      <td>...</td>\n      <td>...</td>\n      <td>...</td>\n    </tr>\n    <tr>\n      <th>1044087</th>\n      <td>Garage Parkeren</td>\n      <td>Spijkenisse</td>\n      <td>True</td>\n      <td>False</td>\n      <td>TERREINP</td>\n      <td>Zuid-Holland</td>\n      <td>Nissewaard</td>\n      <td>60</td>\n    </tr>\n    <tr>\n      <th>1044088</th>\n      <td>Garage Parkeren</td>\n      <td>Spijkenisse</td>\n      <td>True</td>\n      <td>False</td>\n      <td>GARAGEP</td>\n      <td>Zuid-Holland</td>\n      <td>Nissewaard</td>\n      <td>150</td>\n    </tr>\n    <tr>\n      <th>1044089</th>\n      <td>Garage Parkeren</td>\n      <td>Spijkenisse</td>\n      <td>True</td>\n      <td>False</td>\n      <td>GARAGEP</td>\n      <td>Zuid-Holland</td>\n      <td>Nissewaard</td>\n      <td>150</td>\n    </tr>\n    <tr>\n      <th>1044090</th>\n      <td>Garage Parkeren</td>\n      <td>Spijkenisse</td>\n      <td>True</td>\n      <td>False</td>\n      <td>GARAGEP</td>\n      <td>Zuid-Holland</td>\n      <td>Nissewaard</td>\n      <td>150</td>\n    </tr>\n    <tr>\n      <th>1044091</th>\n      <td>Garage Parkeren</td>\n      <td>Spijkenisse</td>\n      <td>True</td>\n      <td>False</td>\n      <td>GARAGEP</td>\n      <td>Zuid-Holland</td>\n      <td>Nissewaard</td>\n      <td>150</td>\n    </tr>\n  </tbody>\n</table>\n<p>1044092 rows × 8 columns</p>\n</div>"
     },
     "metadata": {},
     "execution_count": 8
    }
   ],
   "source": [
    "rdw_geo"
   ]
  },
  {
   "source": [
    "## Calculate sum & divide data by municipality and province\n",
    "\n",
    "I can now create the data required for the municipalities and provinces and seperate them.\n",
    "\n",
    "To create the data for the municipality I have to count the sum of the boolean values that are `True` from the columns *ExitPossibleAllDay* and *OpenAllYear* and group by usage type. The sum will replace the boolean values.\n",
    "\n",
    "To group and sum I created a function. I can use this function for grouping and sum the values for the province later."
   ],
   "cell_type": "markdown",
   "metadata": {}
  },
  {
   "cell_type": "code",
   "execution_count": 9,
   "metadata": {},
   "outputs": [],
   "source": [
    "def group_and_sum(df, group_columns, to_sum_columns):\n",
    "    return df.groupby(group_columns, as_index=False)[to_sum_columns].sum()\n",
    "\n",
    "\n",
    "mp_sum_cols = [\"ExitPossibleAllDay\", \"OpenAllYear\"]\n",
    "mp_group_cols = [rdw_geo.columns.values[i] for i in [4, 5, 6, 7]]\n",
    "mp_data = group_and_sum(rdw_geo, mp_group_cols, mp_sum_cols)"
   ]
  },
  {
   "cell_type": "code",
   "execution_count": 10,
   "metadata": {},
   "outputs": [
    {
     "output_type": "execute_result",
     "data": {
      "text/plain": [
       "   UsageType_Id       province  municipality  UsageType_count  \\\n",
       "65     BETAALDP  Noord-Holland       Alkmaar             1254   \n",
       "66     BETAALDP  Noord-Holland    Amstelveen              203   \n",
       "67     BETAALDP  Noord-Holland     Amsterdam            43785   \n",
       "68     BETAALDP  Noord-Holland   Bloemendaal               16   \n",
       "69     BETAALDP  Noord-Holland    Den Helder               96   \n",
       "70     BETAALDP  Noord-Holland        Diemen               60   \n",
       "71     BETAALDP  Noord-Holland     Enkhuizen              108   \n",
       "72     BETAALDP  Noord-Holland  Gooise Meren               28   \n",
       "73     BETAALDP  Noord-Holland  Gooise Meren               30   \n",
       "74     BETAALDP  Noord-Holland       Haarlem              120   \n",
       "75     BETAALDP  Noord-Holland         Hoorn             1204   \n",
       "76     BETAALDP  Noord-Holland     Purmerend              384   \n",
       "77     BETAALDP  Noord-Holland       Schagen               54   \n",
       "78     BETAALDP  Noord-Holland     Zandvoort               60   \n",
       "\n",
       "    ExitPossibleAllDay  OpenAllYear  \n",
       "65                1254         1254  \n",
       "66                 203          203  \n",
       "67               41700        35445  \n",
       "68                  16           16  \n",
       "69                  96           96  \n",
       "70                  60           60  \n",
       "71                 108          108  \n",
       "72                  28           28  \n",
       "73                  30           30  \n",
       "74                 120          120  \n",
       "75                 602          602  \n",
       "76                 384          384  \n",
       "77                  54           54  \n",
       "78                  60            0  "
      ],
      "text/html": "<div>\n<style scoped>\n    .dataframe tbody tr th:only-of-type {\n        vertical-align: middle;\n    }\n\n    .dataframe tbody tr th {\n        vertical-align: top;\n    }\n\n    .dataframe thead th {\n        text-align: right;\n    }\n</style>\n<table border=\"1\" class=\"dataframe\">\n  <thead>\n    <tr style=\"text-align: right;\">\n      <th></th>\n      <th>UsageType_Id</th>\n      <th>province</th>\n      <th>municipality</th>\n      <th>UsageType_count</th>\n      <th>ExitPossibleAllDay</th>\n      <th>OpenAllYear</th>\n    </tr>\n  </thead>\n  <tbody>\n    <tr>\n      <th>65</th>\n      <td>BETAALDP</td>\n      <td>Noord-Holland</td>\n      <td>Alkmaar</td>\n      <td>1254</td>\n      <td>1254</td>\n      <td>1254</td>\n    </tr>\n    <tr>\n      <th>66</th>\n      <td>BETAALDP</td>\n      <td>Noord-Holland</td>\n      <td>Amstelveen</td>\n      <td>203</td>\n      <td>203</td>\n      <td>203</td>\n    </tr>\n    <tr>\n      <th>67</th>\n      <td>BETAALDP</td>\n      <td>Noord-Holland</td>\n      <td>Amsterdam</td>\n      <td>43785</td>\n      <td>41700</td>\n      <td>35445</td>\n    </tr>\n    <tr>\n      <th>68</th>\n      <td>BETAALDP</td>\n      <td>Noord-Holland</td>\n      <td>Bloemendaal</td>\n      <td>16</td>\n      <td>16</td>\n      <td>16</td>\n    </tr>\n    <tr>\n      <th>69</th>\n      <td>BETAALDP</td>\n      <td>Noord-Holland</td>\n      <td>Den Helder</td>\n      <td>96</td>\n      <td>96</td>\n      <td>96</td>\n    </tr>\n    <tr>\n      <th>70</th>\n      <td>BETAALDP</td>\n      <td>Noord-Holland</td>\n      <td>Diemen</td>\n      <td>60</td>\n      <td>60</td>\n      <td>60</td>\n    </tr>\n    <tr>\n      <th>71</th>\n      <td>BETAALDP</td>\n      <td>Noord-Holland</td>\n      <td>Enkhuizen</td>\n      <td>108</td>\n      <td>108</td>\n      <td>108</td>\n    </tr>\n    <tr>\n      <th>72</th>\n      <td>BETAALDP</td>\n      <td>Noord-Holland</td>\n      <td>Gooise Meren</td>\n      <td>28</td>\n      <td>28</td>\n      <td>28</td>\n    </tr>\n    <tr>\n      <th>73</th>\n      <td>BETAALDP</td>\n      <td>Noord-Holland</td>\n      <td>Gooise Meren</td>\n      <td>30</td>\n      <td>30</td>\n      <td>30</td>\n    </tr>\n    <tr>\n      <th>74</th>\n      <td>BETAALDP</td>\n      <td>Noord-Holland</td>\n      <td>Haarlem</td>\n      <td>120</td>\n      <td>120</td>\n      <td>120</td>\n    </tr>\n    <tr>\n      <th>75</th>\n      <td>BETAALDP</td>\n      <td>Noord-Holland</td>\n      <td>Hoorn</td>\n      <td>1204</td>\n      <td>602</td>\n      <td>602</td>\n    </tr>\n    <tr>\n      <th>76</th>\n      <td>BETAALDP</td>\n      <td>Noord-Holland</td>\n      <td>Purmerend</td>\n      <td>384</td>\n      <td>384</td>\n      <td>384</td>\n    </tr>\n    <tr>\n      <th>77</th>\n      <td>BETAALDP</td>\n      <td>Noord-Holland</td>\n      <td>Schagen</td>\n      <td>54</td>\n      <td>54</td>\n      <td>54</td>\n    </tr>\n    <tr>\n      <th>78</th>\n      <td>BETAALDP</td>\n      <td>Noord-Holland</td>\n      <td>Zandvoort</td>\n      <td>60</td>\n      <td>60</td>\n      <td>0</td>\n    </tr>\n  </tbody>\n</table>\n</div>"
     },
     "metadata": {},
     "execution_count": 10
    }
   ],
   "source": [
    "mp_data.loc[(mp_data[\"UsageType_Id\"] == \"BETAALDP\") & (mp_data[\"province\"] == \"Noord-Holland\")]\n",
    "# mp_data"
   ]
  },
  {
   "source": [
    "As you can see in the result above, when I filter on *Noord-Holland* and usage type *BETAALDP* the municipality **Gooise Meren** appears twice. Apparently not all municipalities got grouped together correctly. To merge the municipalities correctly I grouped them again by municipality."
   ],
   "cell_type": "markdown",
   "metadata": {}
  },
  {
   "cell_type": "code",
   "execution_count": 11,
   "metadata": {},
   "outputs": [],
   "source": [
    "mp_all_summed = mp_data.groupby([\"municipality\", \"UsageType_Id\", \"province\"], as_index=False).sum()"
   ]
  },
  {
   "cell_type": "code",
   "execution_count": 12,
   "metadata": {},
   "outputs": [
    {
     "output_type": "execute_result",
     "data": {
      "text/plain": [
       "   municipality UsageType_Id       province  UsageType_count  \\\n",
       "65    Apeldoorn   STADSBREED     Gelderland               56   \n",
       "66    Apeldoorn      VERGUNP     Gelderland              560   \n",
       "67   Appingedam     PARKRIDE      Groningen                4   \n",
       "68       Arnhem     BETAALDP     Gelderland             3744   \n",
       "69       Arnhem      BEZOEKP     Gelderland              648   \n",
       "70       Arnhem      CARPOOL     Gelderland               72   \n",
       "71       Arnhem      GARAGEP     Gelderland              360   \n",
       "72       Arnhem     PARKEREN     Gelderland              216   \n",
       "73       Arnhem     PARKRIDE     Gelderland              288   \n",
       "74       Arnhem      VERGUNP     Gelderland             1008   \n",
       "75       Arnhem     VERGUNZP     Gelderland              720   \n",
       "76        Assen     BETAALDP        Drenthe              708   \n",
       "77        Assen      CARPOOL        Drenthe               36   \n",
       "78        Asten     BETAALDP  Noord-Brabant               36   \n",
       "\n",
       "    ExitPossibleAllDay  OpenAllYear  \n",
       "65                  42           49  \n",
       "66                 420          490  \n",
       "67                   4            4  \n",
       "68                3328         2080  \n",
       "69                 576          360  \n",
       "70                  64           40  \n",
       "71                 320          200  \n",
       "72                 192          120  \n",
       "73                 256          160  \n",
       "74                 896          560  \n",
       "75                 640          400  \n",
       "76                 708          708  \n",
       "77                  36           36  \n",
       "78                  18           18  "
      ],
      "text/html": "<div>\n<style scoped>\n    .dataframe tbody tr th:only-of-type {\n        vertical-align: middle;\n    }\n\n    .dataframe tbody tr th {\n        vertical-align: top;\n    }\n\n    .dataframe thead th {\n        text-align: right;\n    }\n</style>\n<table border=\"1\" class=\"dataframe\">\n  <thead>\n    <tr style=\"text-align: right;\">\n      <th></th>\n      <th>municipality</th>\n      <th>UsageType_Id</th>\n      <th>province</th>\n      <th>UsageType_count</th>\n      <th>ExitPossibleAllDay</th>\n      <th>OpenAllYear</th>\n    </tr>\n  </thead>\n  <tbody>\n    <tr>\n      <th>65</th>\n      <td>Apeldoorn</td>\n      <td>STADSBREED</td>\n      <td>Gelderland</td>\n      <td>56</td>\n      <td>42</td>\n      <td>49</td>\n    </tr>\n    <tr>\n      <th>66</th>\n      <td>Apeldoorn</td>\n      <td>VERGUNP</td>\n      <td>Gelderland</td>\n      <td>560</td>\n      <td>420</td>\n      <td>490</td>\n    </tr>\n    <tr>\n      <th>67</th>\n      <td>Appingedam</td>\n      <td>PARKRIDE</td>\n      <td>Groningen</td>\n      <td>4</td>\n      <td>4</td>\n      <td>4</td>\n    </tr>\n    <tr>\n      <th>68</th>\n      <td>Arnhem</td>\n      <td>BETAALDP</td>\n      <td>Gelderland</td>\n      <td>3744</td>\n      <td>3328</td>\n      <td>2080</td>\n    </tr>\n    <tr>\n      <th>69</th>\n      <td>Arnhem</td>\n      <td>BEZOEKP</td>\n      <td>Gelderland</td>\n      <td>648</td>\n      <td>576</td>\n      <td>360</td>\n    </tr>\n    <tr>\n      <th>70</th>\n      <td>Arnhem</td>\n      <td>CARPOOL</td>\n      <td>Gelderland</td>\n      <td>72</td>\n      <td>64</td>\n      <td>40</td>\n    </tr>\n    <tr>\n      <th>71</th>\n      <td>Arnhem</td>\n      <td>GARAGEP</td>\n      <td>Gelderland</td>\n      <td>360</td>\n      <td>320</td>\n      <td>200</td>\n    </tr>\n    <tr>\n      <th>72</th>\n      <td>Arnhem</td>\n      <td>PARKEREN</td>\n      <td>Gelderland</td>\n      <td>216</td>\n      <td>192</td>\n      <td>120</td>\n    </tr>\n    <tr>\n      <th>73</th>\n      <td>Arnhem</td>\n      <td>PARKRIDE</td>\n      <td>Gelderland</td>\n      <td>288</td>\n      <td>256</td>\n      <td>160</td>\n    </tr>\n    <tr>\n      <th>74</th>\n      <td>Arnhem</td>\n      <td>VERGUNP</td>\n      <td>Gelderland</td>\n      <td>1008</td>\n      <td>896</td>\n      <td>560</td>\n    </tr>\n    <tr>\n      <th>75</th>\n      <td>Arnhem</td>\n      <td>VERGUNZP</td>\n      <td>Gelderland</td>\n      <td>720</td>\n      <td>640</td>\n      <td>400</td>\n    </tr>\n    <tr>\n      <th>76</th>\n      <td>Assen</td>\n      <td>BETAALDP</td>\n      <td>Drenthe</td>\n      <td>708</td>\n      <td>708</td>\n      <td>708</td>\n    </tr>\n    <tr>\n      <th>77</th>\n      <td>Assen</td>\n      <td>CARPOOL</td>\n      <td>Drenthe</td>\n      <td>36</td>\n      <td>36</td>\n      <td>36</td>\n    </tr>\n    <tr>\n      <th>78</th>\n      <td>Asten</td>\n      <td>BETAALDP</td>\n      <td>Noord-Brabant</td>\n      <td>36</td>\n      <td>18</td>\n      <td>18</td>\n    </tr>\n  </tbody>\n</table>\n</div>"
     },
     "metadata": {},
     "execution_count": 12
    }
   ],
   "source": [
    "mp_all_summed.loc[(mp_data[\"UsageType_Id\"] == \"BETAALDP\") & (mp_data[\"province\"] == \"Noord-Holland\")]\n",
    "# mp_data"
   ]
  },
  {
   "source": [
    "Now **Gooise Meren** is grouped correctly showing the right sum."
   ],
   "cell_type": "markdown",
   "metadata": {}
  },
  {
   "source": [
    "## Add missing municipalities\n",
    "\n",
    "Next I want to add the missing municipalities that don't have any data available.\n",
    "\n",
    "First I use the postal dataset and remove the column with place names. Then I merge it with the municipality dataset on *municipality* and *province*. That gives me the data of both datasets in one dataset. Because multiple entries of the postal dataset are the same I remove any duplicates in the dataset, also the entries from the municipality dataset. The last thing I do is reset the index and it's complete.\n",
    "\n",
    "Now I have a dataset with all the municipalities and the corresponding data."
   ],
   "cell_type": "markdown",
   "metadata": {}
  },
  {
   "cell_type": "code",
   "execution_count": 13,
   "metadata": {},
   "outputs": [],
   "source": [
    "nl_municipalities = drop_df_columns(nl_place_hierarchy, [0])\n",
    "mp_data = pd.merge(mp_all_summed, nl_municipalities, how=\"outer\", on=[\"municipality\", \"province\"])\n",
    "mp_data = mp_data.drop_duplicates()\n",
    "mp_data = mp_data.reset_index(drop=True)"
   ]
  },
  {
   "cell_type": "code",
   "execution_count": 14,
   "metadata": {},
   "outputs": [
    {
     "output_type": "execute_result",
     "data": {
      "text/plain": [
       "         municipality UsageType_Id       province  UsageType_count  \\\n",
       "0    's-Hertogenbosch     BETAALDP  Noord-Brabant          11748.0   \n",
       "1    's-Hertogenbosch      CARPOOL  Noord-Brabant            198.0   \n",
       "2    's-Hertogenbosch      GARAGEP  Noord-Brabant            330.0   \n",
       "3    's-Hertogenbosch     PARKRIDE  Noord-Brabant            264.0   \n",
       "4              Aalten     PARKRIDE     Gelderland              5.0   \n",
       "..                ...          ...            ...              ...   \n",
       "798             Weesp          NaN  Noord-Holland              NaN   \n",
       "799       Westervoort          NaN     Gelderland              NaN   \n",
       "800        Woudenberg          NaN        Utrecht              NaN   \n",
       "801          Zeewolde          NaN      Flevoland              NaN   \n",
       "802        Zoetermeer          NaN   Zuid-Holland              NaN   \n",
       "\n",
       "     ExitPossibleAllDay  OpenAllYear  \n",
       "0               10680.0       7476.0  \n",
       "1                 180.0        126.0  \n",
       "2                 300.0        210.0  \n",
       "3                 240.0        168.0  \n",
       "4                   5.0          5.0  \n",
       "..                  ...          ...  \n",
       "798                 NaN          NaN  \n",
       "799                 NaN          NaN  \n",
       "800                 NaN          NaN  \n",
       "801                 NaN          NaN  \n",
       "802                 NaN          NaN  \n",
       "\n",
       "[803 rows x 6 columns]"
      ],
      "text/html": "<div>\n<style scoped>\n    .dataframe tbody tr th:only-of-type {\n        vertical-align: middle;\n    }\n\n    .dataframe tbody tr th {\n        vertical-align: top;\n    }\n\n    .dataframe thead th {\n        text-align: right;\n    }\n</style>\n<table border=\"1\" class=\"dataframe\">\n  <thead>\n    <tr style=\"text-align: right;\">\n      <th></th>\n      <th>municipality</th>\n      <th>UsageType_Id</th>\n      <th>province</th>\n      <th>UsageType_count</th>\n      <th>ExitPossibleAllDay</th>\n      <th>OpenAllYear</th>\n    </tr>\n  </thead>\n  <tbody>\n    <tr>\n      <th>0</th>\n      <td>'s-Hertogenbosch</td>\n      <td>BETAALDP</td>\n      <td>Noord-Brabant</td>\n      <td>11748.0</td>\n      <td>10680.0</td>\n      <td>7476.0</td>\n    </tr>\n    <tr>\n      <th>1</th>\n      <td>'s-Hertogenbosch</td>\n      <td>CARPOOL</td>\n      <td>Noord-Brabant</td>\n      <td>198.0</td>\n      <td>180.0</td>\n      <td>126.0</td>\n    </tr>\n    <tr>\n      <th>2</th>\n      <td>'s-Hertogenbosch</td>\n      <td>GARAGEP</td>\n      <td>Noord-Brabant</td>\n      <td>330.0</td>\n      <td>300.0</td>\n      <td>210.0</td>\n    </tr>\n    <tr>\n      <th>3</th>\n      <td>'s-Hertogenbosch</td>\n      <td>PARKRIDE</td>\n      <td>Noord-Brabant</td>\n      <td>264.0</td>\n      <td>240.0</td>\n      <td>168.0</td>\n    </tr>\n    <tr>\n      <th>4</th>\n      <td>Aalten</td>\n      <td>PARKRIDE</td>\n      <td>Gelderland</td>\n      <td>5.0</td>\n      <td>5.0</td>\n      <td>5.0</td>\n    </tr>\n    <tr>\n      <th>...</th>\n      <td>...</td>\n      <td>...</td>\n      <td>...</td>\n      <td>...</td>\n      <td>...</td>\n      <td>...</td>\n    </tr>\n    <tr>\n      <th>798</th>\n      <td>Weesp</td>\n      <td>NaN</td>\n      <td>Noord-Holland</td>\n      <td>NaN</td>\n      <td>NaN</td>\n      <td>NaN</td>\n    </tr>\n    <tr>\n      <th>799</th>\n      <td>Westervoort</td>\n      <td>NaN</td>\n      <td>Gelderland</td>\n      <td>NaN</td>\n      <td>NaN</td>\n      <td>NaN</td>\n    </tr>\n    <tr>\n      <th>800</th>\n      <td>Woudenberg</td>\n      <td>NaN</td>\n      <td>Utrecht</td>\n      <td>NaN</td>\n      <td>NaN</td>\n      <td>NaN</td>\n    </tr>\n    <tr>\n      <th>801</th>\n      <td>Zeewolde</td>\n      <td>NaN</td>\n      <td>Flevoland</td>\n      <td>NaN</td>\n      <td>NaN</td>\n      <td>NaN</td>\n    </tr>\n    <tr>\n      <th>802</th>\n      <td>Zoetermeer</td>\n      <td>NaN</td>\n      <td>Zuid-Holland</td>\n      <td>NaN</td>\n      <td>NaN</td>\n      <td>NaN</td>\n    </tr>\n  </tbody>\n</table>\n<p>803 rows × 6 columns</p>\n</div>"
     },
     "metadata": {},
     "execution_count": 14
    }
   ],
   "source": [
    "mp_data"
   ]
  },
  {
   "source": [
    "With the data of the municipalities now complete, the only thing I have to do to create the province data is to sum by province. "
   ],
   "cell_type": "markdown",
   "metadata": {}
  },
  {
   "cell_type": "code",
   "execution_count": 15,
   "metadata": {},
   "outputs": [],
   "source": [
    "pv_sum_col = [\"ExitPossibleAllDay\", \"OpenAllYear\", \"UsageType_count\"]\n",
    "pv_group_cols = [rdw_geo.columns.values[i] for i in [4, 5]]\n",
    "pv_data = group_and_sum(mp_all_summed, pv_group_cols, pv_sum_col)"
   ]
  },
  {
   "cell_type": "code",
   "execution_count": 16,
   "metadata": {},
   "outputs": [
    {
     "output_type": "execute_result",
     "data": {
      "text/plain": [
       "   UsageType_Id       province  ExitPossibleAllDay  OpenAllYear  \\\n",
       "12     BETAALDP        Drenthe                5948         5252   \n",
       "13     BETAALDP      Flevoland                2034         1944   \n",
       "14     BETAALDP      Friesland                1760         1370   \n",
       "15     BETAALDP     Gelderland               18319        16018   \n",
       "16     BETAALDP      Groningen                3107         2872   \n",
       "17     BETAALDP        Limburg               12421         8543   \n",
       "18     BETAALDP  Noord-Brabant               32506        25556   \n",
       "19     BETAALDP  Noord-Holland               44715        38400   \n",
       "20     BETAALDP     Overijssel               32161        29671   \n",
       "21     BETAALDP        Utrecht               22333        23290   \n",
       "22     BETAALDP        Zeeland                5635         5043   \n",
       "23     BETAALDP   Zuid-Holland               67091        64614   \n",
       "\n",
       "    UsageType_count  \n",
       "12             6318  \n",
       "13             2034  \n",
       "14             2362  \n",
       "15            20928  \n",
       "16             3205  \n",
       "17            12477  \n",
       "18            41890  \n",
       "19            47402  \n",
       "20            32161  \n",
       "21            23830  \n",
       "22             6097  \n",
       "23            68427  "
      ],
      "text/html": "<div>\n<style scoped>\n    .dataframe tbody tr th:only-of-type {\n        vertical-align: middle;\n    }\n\n    .dataframe tbody tr th {\n        vertical-align: top;\n    }\n\n    .dataframe thead th {\n        text-align: right;\n    }\n</style>\n<table border=\"1\" class=\"dataframe\">\n  <thead>\n    <tr style=\"text-align: right;\">\n      <th></th>\n      <th>UsageType_Id</th>\n      <th>province</th>\n      <th>ExitPossibleAllDay</th>\n      <th>OpenAllYear</th>\n      <th>UsageType_count</th>\n    </tr>\n  </thead>\n  <tbody>\n    <tr>\n      <th>12</th>\n      <td>BETAALDP</td>\n      <td>Drenthe</td>\n      <td>5948</td>\n      <td>5252</td>\n      <td>6318</td>\n    </tr>\n    <tr>\n      <th>13</th>\n      <td>BETAALDP</td>\n      <td>Flevoland</td>\n      <td>2034</td>\n      <td>1944</td>\n      <td>2034</td>\n    </tr>\n    <tr>\n      <th>14</th>\n      <td>BETAALDP</td>\n      <td>Friesland</td>\n      <td>1760</td>\n      <td>1370</td>\n      <td>2362</td>\n    </tr>\n    <tr>\n      <th>15</th>\n      <td>BETAALDP</td>\n      <td>Gelderland</td>\n      <td>18319</td>\n      <td>16018</td>\n      <td>20928</td>\n    </tr>\n    <tr>\n      <th>16</th>\n      <td>BETAALDP</td>\n      <td>Groningen</td>\n      <td>3107</td>\n      <td>2872</td>\n      <td>3205</td>\n    </tr>\n    <tr>\n      <th>17</th>\n      <td>BETAALDP</td>\n      <td>Limburg</td>\n      <td>12421</td>\n      <td>8543</td>\n      <td>12477</td>\n    </tr>\n    <tr>\n      <th>18</th>\n      <td>BETAALDP</td>\n      <td>Noord-Brabant</td>\n      <td>32506</td>\n      <td>25556</td>\n      <td>41890</td>\n    </tr>\n    <tr>\n      <th>19</th>\n      <td>BETAALDP</td>\n      <td>Noord-Holland</td>\n      <td>44715</td>\n      <td>38400</td>\n      <td>47402</td>\n    </tr>\n    <tr>\n      <th>20</th>\n      <td>BETAALDP</td>\n      <td>Overijssel</td>\n      <td>32161</td>\n      <td>29671</td>\n      <td>32161</td>\n    </tr>\n    <tr>\n      <th>21</th>\n      <td>BETAALDP</td>\n      <td>Utrecht</td>\n      <td>22333</td>\n      <td>23290</td>\n      <td>23830</td>\n    </tr>\n    <tr>\n      <th>22</th>\n      <td>BETAALDP</td>\n      <td>Zeeland</td>\n      <td>5635</td>\n      <td>5043</td>\n      <td>6097</td>\n    </tr>\n    <tr>\n      <th>23</th>\n      <td>BETAALDP</td>\n      <td>Zuid-Holland</td>\n      <td>67091</td>\n      <td>64614</td>\n      <td>68427</td>\n    </tr>\n  </tbody>\n</table>\n</div>"
     },
     "metadata": {},
     "execution_count": 16
    }
   ],
   "source": [
    "pv_data.loc[(pv_data[\"UsageType_Id\"] == \"BETAALDP\")]"
   ]
  },
  {
   "source": [
    "## Add geometry data to municipalities and provinces\n",
    "\n",
    "Now the data is divided into municipalities and provinces I can add the associated geometry.\n",
    "\n",
    "First I have to rename the column again to merge with and then I can merge the municipality geo data."
   ],
   "cell_type": "markdown",
   "metadata": {}
  },
  {
   "cell_type": "code",
   "execution_count": 17,
   "metadata": {},
   "outputs": [],
   "source": [
    "rename_to_mp = {\"statnaam\": \"municipality\"}\n",
    "mp_geo = NL_MUNICIPALITY_GEO.rename(columns=rename_to_mp)\n",
    "mp_complete = pd.merge(mp_data, mp_geo, how=\"left\", on=[\"municipality\"])"
   ]
  },
  {
   "cell_type": "code",
   "execution_count": 18,
   "metadata": {},
   "outputs": [
    {
     "output_type": "execute_result",
     "data": {
      "text/plain": [
       "         municipality UsageType_Id       province  UsageType_count  \\\n",
       "0    's-Hertogenbosch     BETAALDP  Noord-Brabant          11748.0   \n",
       "1    's-Hertogenbosch      CARPOOL  Noord-Brabant            198.0   \n",
       "2    's-Hertogenbosch      GARAGEP  Noord-Brabant            330.0   \n",
       "3    's-Hertogenbosch     PARKRIDE  Noord-Brabant            264.0   \n",
       "4              Aalten     PARKRIDE     Gelderland              5.0   \n",
       "..                ...          ...            ...              ...   \n",
       "798             Weesp          NaN  Noord-Holland              NaN   \n",
       "799       Westervoort          NaN     Gelderland              NaN   \n",
       "800        Woudenberg          NaN        Utrecht              NaN   \n",
       "801          Zeewolde          NaN      Flevoland              NaN   \n",
       "802        Zoetermeer          NaN   Zuid-Holland              NaN   \n",
       "\n",
       "     ExitPossibleAllDay  OpenAllYear  \\\n",
       "0               10680.0       7476.0   \n",
       "1                 180.0        126.0   \n",
       "2                 300.0        210.0   \n",
       "3                 240.0        168.0   \n",
       "4                   5.0          5.0   \n",
       "..                  ...          ...   \n",
       "798                 NaN          NaN   \n",
       "799                 NaN          NaN   \n",
       "800                 NaN          NaN   \n",
       "801                 NaN          NaN   \n",
       "802                 NaN          NaN   \n",
       "\n",
       "                                              geometry  \n",
       "0    MULTIPOLYGON (((5.444026282962954 51.753312234...  \n",
       "1    MULTIPOLYGON (((5.444026282962954 51.753312234...  \n",
       "2    MULTIPOLYGON (((5.444026282962954 51.753312234...  \n",
       "3    MULTIPOLYGON (((5.444026282962954 51.753312234...  \n",
       "4    MULTIPOLYGON (((6.559352360678049 51.974364063...  \n",
       "..                                                 ...  \n",
       "798  MULTIPOLYGON (((5.044395028764473 52.327148857...  \n",
       "799  MULTIPOLYGON (((5.974910166168503 51.941620158...  \n",
       "800  MULTIPOLYGON (((5.484301742753559 52.105542117...  \n",
       "801  MULTIPOLYGON (((5.508991604739609 52.397662414...  \n",
       "802  MULTIPOLYGON (((4.510126848031309 52.090028075...  \n",
       "\n",
       "[803 rows x 7 columns]"
      ],
      "text/html": "<div>\n<style scoped>\n    .dataframe tbody tr th:only-of-type {\n        vertical-align: middle;\n    }\n\n    .dataframe tbody tr th {\n        vertical-align: top;\n    }\n\n    .dataframe thead th {\n        text-align: right;\n    }\n</style>\n<table border=\"1\" class=\"dataframe\">\n  <thead>\n    <tr style=\"text-align: right;\">\n      <th></th>\n      <th>municipality</th>\n      <th>UsageType_Id</th>\n      <th>province</th>\n      <th>UsageType_count</th>\n      <th>ExitPossibleAllDay</th>\n      <th>OpenAllYear</th>\n      <th>geometry</th>\n    </tr>\n  </thead>\n  <tbody>\n    <tr>\n      <th>0</th>\n      <td>'s-Hertogenbosch</td>\n      <td>BETAALDP</td>\n      <td>Noord-Brabant</td>\n      <td>11748.0</td>\n      <td>10680.0</td>\n      <td>7476.0</td>\n      <td>MULTIPOLYGON (((5.444026282962954 51.753312234...</td>\n    </tr>\n    <tr>\n      <th>1</th>\n      <td>'s-Hertogenbosch</td>\n      <td>CARPOOL</td>\n      <td>Noord-Brabant</td>\n      <td>198.0</td>\n      <td>180.0</td>\n      <td>126.0</td>\n      <td>MULTIPOLYGON (((5.444026282962954 51.753312234...</td>\n    </tr>\n    <tr>\n      <th>2</th>\n      <td>'s-Hertogenbosch</td>\n      <td>GARAGEP</td>\n      <td>Noord-Brabant</td>\n      <td>330.0</td>\n      <td>300.0</td>\n      <td>210.0</td>\n      <td>MULTIPOLYGON (((5.444026282962954 51.753312234...</td>\n    </tr>\n    <tr>\n      <th>3</th>\n      <td>'s-Hertogenbosch</td>\n      <td>PARKRIDE</td>\n      <td>Noord-Brabant</td>\n      <td>264.0</td>\n      <td>240.0</td>\n      <td>168.0</td>\n      <td>MULTIPOLYGON (((5.444026282962954 51.753312234...</td>\n    </tr>\n    <tr>\n      <th>4</th>\n      <td>Aalten</td>\n      <td>PARKRIDE</td>\n      <td>Gelderland</td>\n      <td>5.0</td>\n      <td>5.0</td>\n      <td>5.0</td>\n      <td>MULTIPOLYGON (((6.559352360678049 51.974364063...</td>\n    </tr>\n    <tr>\n      <th>...</th>\n      <td>...</td>\n      <td>...</td>\n      <td>...</td>\n      <td>...</td>\n      <td>...</td>\n      <td>...</td>\n      <td>...</td>\n    </tr>\n    <tr>\n      <th>798</th>\n      <td>Weesp</td>\n      <td>NaN</td>\n      <td>Noord-Holland</td>\n      <td>NaN</td>\n      <td>NaN</td>\n      <td>NaN</td>\n      <td>MULTIPOLYGON (((5.044395028764473 52.327148857...</td>\n    </tr>\n    <tr>\n      <th>799</th>\n      <td>Westervoort</td>\n      <td>NaN</td>\n      <td>Gelderland</td>\n      <td>NaN</td>\n      <td>NaN</td>\n      <td>NaN</td>\n      <td>MULTIPOLYGON (((5.974910166168503 51.941620158...</td>\n    </tr>\n    <tr>\n      <th>800</th>\n      <td>Woudenberg</td>\n      <td>NaN</td>\n      <td>Utrecht</td>\n      <td>NaN</td>\n      <td>NaN</td>\n      <td>NaN</td>\n      <td>MULTIPOLYGON (((5.484301742753559 52.105542117...</td>\n    </tr>\n    <tr>\n      <th>801</th>\n      <td>Zeewolde</td>\n      <td>NaN</td>\n      <td>Flevoland</td>\n      <td>NaN</td>\n      <td>NaN</td>\n      <td>NaN</td>\n      <td>MULTIPOLYGON (((5.508991604739609 52.397662414...</td>\n    </tr>\n    <tr>\n      <th>802</th>\n      <td>Zoetermeer</td>\n      <td>NaN</td>\n      <td>Zuid-Holland</td>\n      <td>NaN</td>\n      <td>NaN</td>\n      <td>NaN</td>\n      <td>MULTIPOLYGON (((4.510126848031309 52.090028075...</td>\n    </tr>\n  </tbody>\n</table>\n<p>803 rows × 7 columns</p>\n</div>"
     },
     "metadata": {},
     "execution_count": 18
    }
   ],
   "source": [
    "mp_complete"
   ]
  },
  {
   "source": [
    "I do the same with the province geo data."
   ],
   "cell_type": "markdown",
   "metadata": {}
  },
  {
   "cell_type": "code",
   "execution_count": 19,
   "metadata": {},
   "outputs": [],
   "source": [
    "rename_to_pv = {\"statnaam\": \"province\"}\n",
    "pv_geo = NL_PROVINCE_GEO.rename(columns=rename_to_pv)\n",
    "pv_complete = pd.merge(pv_data, pv_geo, how=\"left\", on=[\"province\"])\n"
   ]
  },
  {
   "cell_type": "code",
   "execution_count": 20,
   "metadata": {},
   "outputs": [
    {
     "output_type": "execute_result",
     "data": {
      "text/plain": [
       "    UsageType_Id       province  ExitPossibleAllDay  OpenAllYear  \\\n",
       "0        5DAAGSE  Noord-Brabant                1122         1122   \n",
       "1          ALLES      Friesland                  63           63   \n",
       "2       AUTODATE        Limburg                 154           98   \n",
       "3         AUTODP   Zuid-Holland                 336          432   \n",
       "4        AUTOLUW        Limburg                  99           88   \n",
       "..           ...            ...                 ...          ...   \n",
       "189     WERKNMRP   Zuid-Holland                2688         3456   \n",
       "190         ZAKE  Noord-Brabant                 572          572   \n",
       "191         ZORG  Noord-Brabant                  52           52   \n",
       "192        ZORGP   Zuid-Holland                 168          216   \n",
       "193     ZORGVERG     Gelderland                  12           12   \n",
       "\n",
       "     UsageType_count                                           geometry  \n",
       "0               2244  MULTIPOLYGON (((5.5356338752006 51.81657437309...  \n",
       "1                 63  MULTIPOLYGON (((6.176870914534096 53.414654753...  \n",
       "2                154  MULTIPOLYGON (((5.932766879663456 51.741938447...  \n",
       "3                432  MULTIPOLYGON (((4.54732226027155 52.3139965981...  \n",
       "4                 99  MULTIPOLYGON (((5.932766879663456 51.741938447...  \n",
       "..               ...                                                ...  \n",
       "189             3456  MULTIPOLYGON (((4.54732226027155 52.3139965981...  \n",
       "190              572  MULTIPOLYGON (((5.5356338752006 51.81657437309...  \n",
       "191               52  MULTIPOLYGON (((5.5356338752006 51.81657437309...  \n",
       "192              216  MULTIPOLYGON (((4.54732226027155 52.3139965981...  \n",
       "193               12  MULTIPOLYGON (((5.876205398831458 52.522025019...  \n",
       "\n",
       "[194 rows x 6 columns]"
      ],
      "text/html": "<div>\n<style scoped>\n    .dataframe tbody tr th:only-of-type {\n        vertical-align: middle;\n    }\n\n    .dataframe tbody tr th {\n        vertical-align: top;\n    }\n\n    .dataframe thead th {\n        text-align: right;\n    }\n</style>\n<table border=\"1\" class=\"dataframe\">\n  <thead>\n    <tr style=\"text-align: right;\">\n      <th></th>\n      <th>UsageType_Id</th>\n      <th>province</th>\n      <th>ExitPossibleAllDay</th>\n      <th>OpenAllYear</th>\n      <th>UsageType_count</th>\n      <th>geometry</th>\n    </tr>\n  </thead>\n  <tbody>\n    <tr>\n      <th>0</th>\n      <td>5DAAGSE</td>\n      <td>Noord-Brabant</td>\n      <td>1122</td>\n      <td>1122</td>\n      <td>2244</td>\n      <td>MULTIPOLYGON (((5.5356338752006 51.81657437309...</td>\n    </tr>\n    <tr>\n      <th>1</th>\n      <td>ALLES</td>\n      <td>Friesland</td>\n      <td>63</td>\n      <td>63</td>\n      <td>63</td>\n      <td>MULTIPOLYGON (((6.176870914534096 53.414654753...</td>\n    </tr>\n    <tr>\n      <th>2</th>\n      <td>AUTODATE</td>\n      <td>Limburg</td>\n      <td>154</td>\n      <td>98</td>\n      <td>154</td>\n      <td>MULTIPOLYGON (((5.932766879663456 51.741938447...</td>\n    </tr>\n    <tr>\n      <th>3</th>\n      <td>AUTODP</td>\n      <td>Zuid-Holland</td>\n      <td>336</td>\n      <td>432</td>\n      <td>432</td>\n      <td>MULTIPOLYGON (((4.54732226027155 52.3139965981...</td>\n    </tr>\n    <tr>\n      <th>4</th>\n      <td>AUTOLUW</td>\n      <td>Limburg</td>\n      <td>99</td>\n      <td>88</td>\n      <td>99</td>\n      <td>MULTIPOLYGON (((5.932766879663456 51.741938447...</td>\n    </tr>\n    <tr>\n      <th>...</th>\n      <td>...</td>\n      <td>...</td>\n      <td>...</td>\n      <td>...</td>\n      <td>...</td>\n      <td>...</td>\n    </tr>\n    <tr>\n      <th>189</th>\n      <td>WERKNMRP</td>\n      <td>Zuid-Holland</td>\n      <td>2688</td>\n      <td>3456</td>\n      <td>3456</td>\n      <td>MULTIPOLYGON (((4.54732226027155 52.3139965981...</td>\n    </tr>\n    <tr>\n      <th>190</th>\n      <td>ZAKE</td>\n      <td>Noord-Brabant</td>\n      <td>572</td>\n      <td>572</td>\n      <td>572</td>\n      <td>MULTIPOLYGON (((5.5356338752006 51.81657437309...</td>\n    </tr>\n    <tr>\n      <th>191</th>\n      <td>ZORG</td>\n      <td>Noord-Brabant</td>\n      <td>52</td>\n      <td>52</td>\n      <td>52</td>\n      <td>MULTIPOLYGON (((5.5356338752006 51.81657437309...</td>\n    </tr>\n    <tr>\n      <th>192</th>\n      <td>ZORGP</td>\n      <td>Zuid-Holland</td>\n      <td>168</td>\n      <td>216</td>\n      <td>216</td>\n      <td>MULTIPOLYGON (((4.54732226027155 52.3139965981...</td>\n    </tr>\n    <tr>\n      <th>193</th>\n      <td>ZORGVERG</td>\n      <td>Gelderland</td>\n      <td>12</td>\n      <td>12</td>\n      <td>12</td>\n      <td>MULTIPOLYGON (((5.876205398831458 52.522025019...</td>\n    </tr>\n  </tbody>\n</table>\n<p>194 rows × 6 columns</p>\n</div>"
     },
     "metadata": {},
     "execution_count": 20
    }
   ],
   "source": [
    "pv_complete"
   ]
  },
  {
   "source": [
    "## Export as csv\n",
    "\n",
    "The last thing is to export the two datasets. I use a function I made earlier to export a DataFrame as csv"
   ],
   "cell_type": "markdown",
   "metadata": {}
  },
  {
   "cell_type": "code",
   "execution_count": 21,
   "metadata": {},
   "outputs": [
    {
     "output_type": "stream",
     "name": "stdout",
     "text": [
      "province.csv is created in folder: data\nmunicipality.csv is created in folder: data\n"
     ]
    }
   ],
   "source": [
    "def write_csv(data, filename):\n",
    "    Path(\"data\").mkdir(parents=True, exist_ok=True)\n",
    "    chdir(\"data\")\n",
    "    file = f\"{filename}.csv\"\n",
    "    data.to_csv(file)\n",
    "    print(file, \"is created in folder: data\")\n",
    "    chdir(\"../\")\n",
    "\n",
    "\n",
    "write_csv(pv_complete, \"province\")\n",
    "write_csv(mp_complete, \"municipality\")"
   ]
  }
 ]
}