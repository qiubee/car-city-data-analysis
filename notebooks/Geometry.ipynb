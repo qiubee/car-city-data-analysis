{
 "metadata": {
  "language_info": {
   "codemirror_mode": {
    "name": "ipython",
    "version": 3
   },
   "file_extension": ".py",
   "mimetype": "text/x-python",
   "name": "python",
   "nbconvert_exporter": "python",
   "pygments_lexer": "ipython3",
   "version": "3.6.9-final"
  },
  "orig_nbformat": 2,
  "kernelspec": {
   "name": "python36964bitenvvenv0e5e108508da4ea3bb18734256bd8168",
   "display_name": "Python 3.6.9 64-bit ('env': venv)"
  }
 },
 "nbformat": 4,
 "nbformat_minor": 2,
 "cells": [
  {
   "source": [
    "# Decode and add geometry data to RDW dataset\n",
    "\n",
    "Geometry data requires a different package than `pandas` alone. `geopandas` is a package that can read out almost any vector-based spatial data format that's using `pandas`, GDAL/OGR & `fiona` as dependencies."
   ],
   "cell_type": "markdown",
   "metadata": {}
  },
  {
   "source": [
    "To combine the geometry data with the RDW dataset, I first have to read the gpkg-file named **gebiedsindelingen** from [CBS](https://www.cbs.nl/nl-nl/dossier/nederland-regionaal/geografische-data/cbs-gebiedsindelingen)."
   ],
   "cell_type": "markdown",
   "metadata": {}
  },
  {
   "cell_type": "code",
   "execution_count": 1,
   "metadata": {},
   "outputs": [],
   "source": [
    "import geopandas as gp\n",
    "\n",
    "GEBIED_IND = gp.read_file(\"../datasets/CBS/cbsgebiedsindelingen_2021_v1.gpkg\")"
   ]
  },
  {
   "cell_type": "code",
   "execution_count": 2,
   "metadata": {},
   "outputs": [
    {
     "output_type": "execute_result",
     "data": {
      "text/plain": [
       "   statcode                            statnaam jrstatcode            rubriek  \\\n",
       "0      AM01                           Groningen   2014AM01  arbeidsmarktregio   \n",
       "1      AM02                           Friesland   2014AM02  arbeidsmarktregio   \n",
       "2      AM03                             Drenthe   2014AM03  arbeidsmarktregio   \n",
       "3      AM04                   IJsselvechtstreek   2014AM04  arbeidsmarktregio   \n",
       "4      AM05                              Twente   2014AM05  arbeidsmarktregio   \n",
       "5      AM06  Stedendriehoek en Noordwest Veluwe   2014AM06  arbeidsmarktregio   \n",
       "6      AM07                   Midden-Gelderland   2014AM07  arbeidsmarktregio   \n",
       "7      AM08                   Rijk van Nijmegen   2014AM08  arbeidsmarktregio   \n",
       "8      AM09                          Achterhoek   2014AM09  arbeidsmarktregio   \n",
       "9      AM10                        Rivierenland   2014AM10  arbeidsmarktregio   \n",
       "10     AM11                           Flevoland   2014AM11  arbeidsmarktregio   \n",
       "11     AM12                 Gooi en Vechtstreek   2014AM12  arbeidsmarktregio   \n",
       "12     AM13                      Midden-Utrecht   2014AM13  arbeidsmarktregio   \n",
       "13     AM14                          Amersfoort   2014AM14  arbeidsmarktregio   \n",
       "14     AM15                 Noord-Holland Noord   2014AM15  arbeidsmarktregio   \n",
       "15     AM16                   Zuid-Kennemerland   2014AM16  arbeidsmarktregio   \n",
       "16     AM17                Zaanstreek/Waterland   2014AM17  arbeidsmarktregio   \n",
       "17     AM18                     Groot Amsterdam   2014AM18  arbeidsmarktregio   \n",
       "18     AM19                    Holland Rijnland   2014AM19  arbeidsmarktregio   \n",
       "19     AM20                      Midden-Holland   2014AM20  arbeidsmarktregio   \n",
       "20     AM21                          Haaglanden   2014AM21  arbeidsmarktregio   \n",
       "21     AM22                            Rijnmond   2014AM22  arbeidsmarktregio   \n",
       "22     AM23                        Drechtsteden   2014AM23  arbeidsmarktregio   \n",
       "23     AM24                             Zeeland   2014AM24  arbeidsmarktregio   \n",
       "24     AM25                        West-Brabant   2014AM25  arbeidsmarktregio   \n",
       "25     AM26                      Midden-Brabant   2014AM26  arbeidsmarktregio   \n",
       "26     AM27                   Noordoost-Brabant   2014AM27  arbeidsmarktregio   \n",
       "27     AM28                    Zuidoost-Brabant   2014AM28  arbeidsmarktregio   \n",
       "28     AM29                       Noord-Limburg   2014AM29  arbeidsmarktregio   \n",
       "29     AM30                        Zuid-Limburg   2014AM30  arbeidsmarktregio   \n",
       "30     AM31                         Food Valley   2014AM31  arbeidsmarktregio   \n",
       "31     AM32                     Helmond-De Peel   2014AM32  arbeidsmarktregio   \n",
       "32     AM33                      Midden-Limburg   2014AM33  arbeidsmarktregio   \n",
       "33     AM34               Zuid-Holland Centraal   2014AM34  arbeidsmarktregio   \n",
       "34     AM35                           Gorinchem   2014AM35  arbeidsmarktregio   \n",
       "\n",
       "   statcode_new statcode_short                      statnaam_short  \\\n",
       "0          AM01           AM01                           Groningen   \n",
       "1          AM02           AM02                           Friesland   \n",
       "2          AM03           AM03                             Drenthe   \n",
       "3          AM04           AM04                   IJsselvechtstreek   \n",
       "4          AM05           AM05                              Twente   \n",
       "5          AM06           AM06  Stedendriehoek en Noordwest Veluwe   \n",
       "6          AM07           AM07                   Midden-Gelderland   \n",
       "7          AM08           AM08                   Rijk van Nijmegen   \n",
       "8          AM09           AM09                          Achterhoek   \n",
       "9          AM10           AM10                        Rivierenland   \n",
       "10         AM11           AM11                           Flevoland   \n",
       "11         AM12           AM12                 Gooi en Vechtstreek   \n",
       "12         AM13           AM13                      Midden-Utrecht   \n",
       "13         AM14           AM14                          Amersfoort   \n",
       "14         AM15           AM15                 Noord-Holland Noord   \n",
       "15         AM16           AM16                   Zuid-Kennemerland   \n",
       "16         AM17           AM17                Zaanstreek/Waterland   \n",
       "17         AM18           AM18                     Groot Amsterdam   \n",
       "18         AM19           AM19                    Holland Rijnland   \n",
       "19         AM20           AM20                      Midden-Holland   \n",
       "20         AM21           AM21                          Haaglanden   \n",
       "21         AM22           AM22                            Rijnmond   \n",
       "22         AM23           AM23                        Drechtsteden   \n",
       "23         AM24           AM24                             Zeeland   \n",
       "24         AM25           AM25                        West-Brabant   \n",
       "25         AM26           AM26                      Midden-Brabant   \n",
       "26         AM27           AM27                   Noordoost-Brabant   \n",
       "27         AM28           AM28                    Zuidoost-Brabant   \n",
       "28         AM29           AM29                       Noord-Limburg   \n",
       "29         AM30           AM30                        Zuid-Limburg   \n",
       "30         AM31           AM31                         Food Valley   \n",
       "31         AM32           AM32                     Helmond-De Peel   \n",
       "32         AM33           AM33                      Midden-Limburg   \n",
       "33         AM34           AM34               Zuid-Holland Centraal   \n",
       "34         AM35           AM35                           Gorinchem   \n",
       "\n",
       "   jrstatcode_short      rubriek_short  \\\n",
       "0          2014AM01  arbeidsmarktregio   \n",
       "1          2014AM02  arbeidsmarktregio   \n",
       "2          2014AM03  arbeidsmarktregio   \n",
       "3          2014AM04  arbeidsmarktregio   \n",
       "4          2014AM05  arbeidsmarktregio   \n",
       "5          2014AM06  arbeidsmarktregio   \n",
       "6          2014AM07  arbeidsmarktregio   \n",
       "7          2014AM08  arbeidsmarktregio   \n",
       "8          2014AM09  arbeidsmarktregio   \n",
       "9          2014AM10  arbeidsmarktregio   \n",
       "10         2014AM11  arbeidsmarktregio   \n",
       "11         2014AM12  arbeidsmarktregio   \n",
       "12         2014AM13  arbeidsmarktregio   \n",
       "13         2014AM14  arbeidsmarktregio   \n",
       "14         2014AM15  arbeidsmarktregio   \n",
       "15         2014AM16  arbeidsmarktregio   \n",
       "16         2014AM17  arbeidsmarktregio   \n",
       "17         2014AM18  arbeidsmarktregio   \n",
       "18         2014AM19  arbeidsmarktregio   \n",
       "19         2014AM20  arbeidsmarktregio   \n",
       "20         2014AM21  arbeidsmarktregio   \n",
       "21         2014AM22  arbeidsmarktregio   \n",
       "22         2014AM23  arbeidsmarktregio   \n",
       "23         2014AM24  arbeidsmarktregio   \n",
       "24         2014AM25  arbeidsmarktregio   \n",
       "25         2014AM26  arbeidsmarktregio   \n",
       "26         2014AM27  arbeidsmarktregio   \n",
       "27         2014AM28  arbeidsmarktregio   \n",
       "28         2014AM29  arbeidsmarktregio   \n",
       "29         2014AM30  arbeidsmarktregio   \n",
       "30         2014AM31  arbeidsmarktregio   \n",
       "31         2014AM32  arbeidsmarktregio   \n",
       "32         2014AM33  arbeidsmarktregio   \n",
       "33         2014AM34  arbeidsmarktregio   \n",
       "34         2014AM35  arbeidsmarktregio   \n",
       "\n",
       "                                             geometry  \n",
       "0   MULTIPOLYGON (((276821.544 564723.879, 276518....  \n",
       "1   MULTIPOLYGON (((155149.843 563090.553, 155124....  \n",
       "2   MULTIPOLYGON (((254792.759 519040.782, 254995....  \n",
       "3   MULTIPOLYGON (((185009.758 510036.652, 185154....  \n",
       "4   MULTIPOLYGON (((227225.014 497591.922, 227065....  \n",
       "5   MULTIPOLYGON (((228073.183 468716.367, 227885....  \n",
       "6   MULTIPOLYGON (((207649.505 446397.958, 207831....  \n",
       "7   MULTIPOLYGON (((189408.926 430856.945, 189246....  \n",
       "8   MULTIPOLYGON (((241327.194 465721.093, 241039....  \n",
       "9   MULTIPOLYGON (((168709.153 440283.902, 166964....  \n",
       "10  MULTIPOLYGON (((180060.896 510285.299, 179990....  \n",
       "11  MULTIPOLYGON (((144176.439 480377.770, 142401....  \n",
       "12  MULTIPOLYGON (((131448.396 471245.581, 131336....  \n",
       "13  MULTIPOLYGON (((159938.293 454663.892, 159976....  \n",
       "14  MULTIPOLYGON (((105132.645 530130.009, 104492....  \n",
       "15  MULTIPOLYGON (((100680.074 501558.626, 100337....  \n",
       "16  MULTIPOLYGON (((121774.494 493077.069, 122360....  \n",
       "17  MULTIPOLYGON (((129658.587 484478.663, 129682....  \n",
       "18  MULTIPOLYGON (((87949.422 470612.936, 87378.41...  \n",
       "19  MULTIPOLYGON (((102558.722 433703.511, 103096....  \n",
       "20  MULTIPOLYGON (((87358.905 442446.208, 87703.77...  \n",
       "21  MULTIPOLYGON (((68226.231 426765.887, 68237.48...  \n",
       "22  MULTIPOLYGON (((106452.237 429193.643, 106369....  \n",
       "23  MULTIPOLYGON (((52543.591 406795.287, 52832.26...  \n",
       "24  MULTIPOLYGON (((133514.853 414577.495, 133894....  \n",
       "25  MULTIPOLYGON (((122778.232 414728.751, 122577....  \n",
       "26  MULTIPOLYGON (((165937.043 396593.072, 166529....  \n",
       "27  MULTIPOLYGON (((173634.353 373886.485, 172522....  \n",
       "28  MULTIPOLYGON (((192752.744 416190.241, 192465....  \n",
       "29  MULTIPOLYGON (((190504.788 332404.621, 190708....  \n",
       "30  MULTIPOLYGON (((162468.123 453716.071, 162590....  \n",
       "31  MULTIPOLYGON (((169713.345 381045.334, 172514....  \n",
       "32  MULTIPOLYGON (((186559.985 373171.552, 181751....  \n",
       "33  MULTIPOLYGON (((86811.731 447539.506, 86848.78...  \n",
       "34  MULTIPOLYGON (((114770.613 428802.948, 114833....  "
      ],
      "text/html": "<div>\n<style scoped>\n    .dataframe tbody tr th:only-of-type {\n        vertical-align: middle;\n    }\n\n    .dataframe tbody tr th {\n        vertical-align: top;\n    }\n\n    .dataframe thead th {\n        text-align: right;\n    }\n</style>\n<table border=\"1\" class=\"dataframe\">\n  <thead>\n    <tr style=\"text-align: right;\">\n      <th></th>\n      <th>statcode</th>\n      <th>statnaam</th>\n      <th>jrstatcode</th>\n      <th>rubriek</th>\n      <th>statcode_new</th>\n      <th>statcode_short</th>\n      <th>statnaam_short</th>\n      <th>jrstatcode_short</th>\n      <th>rubriek_short</th>\n      <th>geometry</th>\n    </tr>\n  </thead>\n  <tbody>\n    <tr>\n      <th>0</th>\n      <td>AM01</td>\n      <td>Groningen</td>\n      <td>2014AM01</td>\n      <td>arbeidsmarktregio</td>\n      <td>AM01</td>\n      <td>AM01</td>\n      <td>Groningen</td>\n      <td>2014AM01</td>\n      <td>arbeidsmarktregio</td>\n      <td>MULTIPOLYGON (((276821.544 564723.879, 276518....</td>\n    </tr>\n    <tr>\n      <th>1</th>\n      <td>AM02</td>\n      <td>Friesland</td>\n      <td>2014AM02</td>\n      <td>arbeidsmarktregio</td>\n      <td>AM02</td>\n      <td>AM02</td>\n      <td>Friesland</td>\n      <td>2014AM02</td>\n      <td>arbeidsmarktregio</td>\n      <td>MULTIPOLYGON (((155149.843 563090.553, 155124....</td>\n    </tr>\n    <tr>\n      <th>2</th>\n      <td>AM03</td>\n      <td>Drenthe</td>\n      <td>2014AM03</td>\n      <td>arbeidsmarktregio</td>\n      <td>AM03</td>\n      <td>AM03</td>\n      <td>Drenthe</td>\n      <td>2014AM03</td>\n      <td>arbeidsmarktregio</td>\n      <td>MULTIPOLYGON (((254792.759 519040.782, 254995....</td>\n    </tr>\n    <tr>\n      <th>3</th>\n      <td>AM04</td>\n      <td>IJsselvechtstreek</td>\n      <td>2014AM04</td>\n      <td>arbeidsmarktregio</td>\n      <td>AM04</td>\n      <td>AM04</td>\n      <td>IJsselvechtstreek</td>\n      <td>2014AM04</td>\n      <td>arbeidsmarktregio</td>\n      <td>MULTIPOLYGON (((185009.758 510036.652, 185154....</td>\n    </tr>\n    <tr>\n      <th>4</th>\n      <td>AM05</td>\n      <td>Twente</td>\n      <td>2014AM05</td>\n      <td>arbeidsmarktregio</td>\n      <td>AM05</td>\n      <td>AM05</td>\n      <td>Twente</td>\n      <td>2014AM05</td>\n      <td>arbeidsmarktregio</td>\n      <td>MULTIPOLYGON (((227225.014 497591.922, 227065....</td>\n    </tr>\n    <tr>\n      <th>5</th>\n      <td>AM06</td>\n      <td>Stedendriehoek en Noordwest Veluwe</td>\n      <td>2014AM06</td>\n      <td>arbeidsmarktregio</td>\n      <td>AM06</td>\n      <td>AM06</td>\n      <td>Stedendriehoek en Noordwest Veluwe</td>\n      <td>2014AM06</td>\n      <td>arbeidsmarktregio</td>\n      <td>MULTIPOLYGON (((228073.183 468716.367, 227885....</td>\n    </tr>\n    <tr>\n      <th>6</th>\n      <td>AM07</td>\n      <td>Midden-Gelderland</td>\n      <td>2014AM07</td>\n      <td>arbeidsmarktregio</td>\n      <td>AM07</td>\n      <td>AM07</td>\n      <td>Midden-Gelderland</td>\n      <td>2014AM07</td>\n      <td>arbeidsmarktregio</td>\n      <td>MULTIPOLYGON (((207649.505 446397.958, 207831....</td>\n    </tr>\n    <tr>\n      <th>7</th>\n      <td>AM08</td>\n      <td>Rijk van Nijmegen</td>\n      <td>2014AM08</td>\n      <td>arbeidsmarktregio</td>\n      <td>AM08</td>\n      <td>AM08</td>\n      <td>Rijk van Nijmegen</td>\n      <td>2014AM08</td>\n      <td>arbeidsmarktregio</td>\n      <td>MULTIPOLYGON (((189408.926 430856.945, 189246....</td>\n    </tr>\n    <tr>\n      <th>8</th>\n      <td>AM09</td>\n      <td>Achterhoek</td>\n      <td>2014AM09</td>\n      <td>arbeidsmarktregio</td>\n      <td>AM09</td>\n      <td>AM09</td>\n      <td>Achterhoek</td>\n      <td>2014AM09</td>\n      <td>arbeidsmarktregio</td>\n      <td>MULTIPOLYGON (((241327.194 465721.093, 241039....</td>\n    </tr>\n    <tr>\n      <th>9</th>\n      <td>AM10</td>\n      <td>Rivierenland</td>\n      <td>2014AM10</td>\n      <td>arbeidsmarktregio</td>\n      <td>AM10</td>\n      <td>AM10</td>\n      <td>Rivierenland</td>\n      <td>2014AM10</td>\n      <td>arbeidsmarktregio</td>\n      <td>MULTIPOLYGON (((168709.153 440283.902, 166964....</td>\n    </tr>\n    <tr>\n      <th>10</th>\n      <td>AM11</td>\n      <td>Flevoland</td>\n      <td>2014AM11</td>\n      <td>arbeidsmarktregio</td>\n      <td>AM11</td>\n      <td>AM11</td>\n      <td>Flevoland</td>\n      <td>2014AM11</td>\n      <td>arbeidsmarktregio</td>\n      <td>MULTIPOLYGON (((180060.896 510285.299, 179990....</td>\n    </tr>\n    <tr>\n      <th>11</th>\n      <td>AM12</td>\n      <td>Gooi en Vechtstreek</td>\n      <td>2014AM12</td>\n      <td>arbeidsmarktregio</td>\n      <td>AM12</td>\n      <td>AM12</td>\n      <td>Gooi en Vechtstreek</td>\n      <td>2014AM12</td>\n      <td>arbeidsmarktregio</td>\n      <td>MULTIPOLYGON (((144176.439 480377.770, 142401....</td>\n    </tr>\n    <tr>\n      <th>12</th>\n      <td>AM13</td>\n      <td>Midden-Utrecht</td>\n      <td>2014AM13</td>\n      <td>arbeidsmarktregio</td>\n      <td>AM13</td>\n      <td>AM13</td>\n      <td>Midden-Utrecht</td>\n      <td>2014AM13</td>\n      <td>arbeidsmarktregio</td>\n      <td>MULTIPOLYGON (((131448.396 471245.581, 131336....</td>\n    </tr>\n    <tr>\n      <th>13</th>\n      <td>AM14</td>\n      <td>Amersfoort</td>\n      <td>2014AM14</td>\n      <td>arbeidsmarktregio</td>\n      <td>AM14</td>\n      <td>AM14</td>\n      <td>Amersfoort</td>\n      <td>2014AM14</td>\n      <td>arbeidsmarktregio</td>\n      <td>MULTIPOLYGON (((159938.293 454663.892, 159976....</td>\n    </tr>\n    <tr>\n      <th>14</th>\n      <td>AM15</td>\n      <td>Noord-Holland Noord</td>\n      <td>2014AM15</td>\n      <td>arbeidsmarktregio</td>\n      <td>AM15</td>\n      <td>AM15</td>\n      <td>Noord-Holland Noord</td>\n      <td>2014AM15</td>\n      <td>arbeidsmarktregio</td>\n      <td>MULTIPOLYGON (((105132.645 530130.009, 104492....</td>\n    </tr>\n    <tr>\n      <th>15</th>\n      <td>AM16</td>\n      <td>Zuid-Kennemerland</td>\n      <td>2014AM16</td>\n      <td>arbeidsmarktregio</td>\n      <td>AM16</td>\n      <td>AM16</td>\n      <td>Zuid-Kennemerland</td>\n      <td>2014AM16</td>\n      <td>arbeidsmarktregio</td>\n      <td>MULTIPOLYGON (((100680.074 501558.626, 100337....</td>\n    </tr>\n    <tr>\n      <th>16</th>\n      <td>AM17</td>\n      <td>Zaanstreek/Waterland</td>\n      <td>2014AM17</td>\n      <td>arbeidsmarktregio</td>\n      <td>AM17</td>\n      <td>AM17</td>\n      <td>Zaanstreek/Waterland</td>\n      <td>2014AM17</td>\n      <td>arbeidsmarktregio</td>\n      <td>MULTIPOLYGON (((121774.494 493077.069, 122360....</td>\n    </tr>\n    <tr>\n      <th>17</th>\n      <td>AM18</td>\n      <td>Groot Amsterdam</td>\n      <td>2014AM18</td>\n      <td>arbeidsmarktregio</td>\n      <td>AM18</td>\n      <td>AM18</td>\n      <td>Groot Amsterdam</td>\n      <td>2014AM18</td>\n      <td>arbeidsmarktregio</td>\n      <td>MULTIPOLYGON (((129658.587 484478.663, 129682....</td>\n    </tr>\n    <tr>\n      <th>18</th>\n      <td>AM19</td>\n      <td>Holland Rijnland</td>\n      <td>2014AM19</td>\n      <td>arbeidsmarktregio</td>\n      <td>AM19</td>\n      <td>AM19</td>\n      <td>Holland Rijnland</td>\n      <td>2014AM19</td>\n      <td>arbeidsmarktregio</td>\n      <td>MULTIPOLYGON (((87949.422 470612.936, 87378.41...</td>\n    </tr>\n    <tr>\n      <th>19</th>\n      <td>AM20</td>\n      <td>Midden-Holland</td>\n      <td>2014AM20</td>\n      <td>arbeidsmarktregio</td>\n      <td>AM20</td>\n      <td>AM20</td>\n      <td>Midden-Holland</td>\n      <td>2014AM20</td>\n      <td>arbeidsmarktregio</td>\n      <td>MULTIPOLYGON (((102558.722 433703.511, 103096....</td>\n    </tr>\n    <tr>\n      <th>20</th>\n      <td>AM21</td>\n      <td>Haaglanden</td>\n      <td>2014AM21</td>\n      <td>arbeidsmarktregio</td>\n      <td>AM21</td>\n      <td>AM21</td>\n      <td>Haaglanden</td>\n      <td>2014AM21</td>\n      <td>arbeidsmarktregio</td>\n      <td>MULTIPOLYGON (((87358.905 442446.208, 87703.77...</td>\n    </tr>\n    <tr>\n      <th>21</th>\n      <td>AM22</td>\n      <td>Rijnmond</td>\n      <td>2014AM22</td>\n      <td>arbeidsmarktregio</td>\n      <td>AM22</td>\n      <td>AM22</td>\n      <td>Rijnmond</td>\n      <td>2014AM22</td>\n      <td>arbeidsmarktregio</td>\n      <td>MULTIPOLYGON (((68226.231 426765.887, 68237.48...</td>\n    </tr>\n    <tr>\n      <th>22</th>\n      <td>AM23</td>\n      <td>Drechtsteden</td>\n      <td>2014AM23</td>\n      <td>arbeidsmarktregio</td>\n      <td>AM23</td>\n      <td>AM23</td>\n      <td>Drechtsteden</td>\n      <td>2014AM23</td>\n      <td>arbeidsmarktregio</td>\n      <td>MULTIPOLYGON (((106452.237 429193.643, 106369....</td>\n    </tr>\n    <tr>\n      <th>23</th>\n      <td>AM24</td>\n      <td>Zeeland</td>\n      <td>2014AM24</td>\n      <td>arbeidsmarktregio</td>\n      <td>AM24</td>\n      <td>AM24</td>\n      <td>Zeeland</td>\n      <td>2014AM24</td>\n      <td>arbeidsmarktregio</td>\n      <td>MULTIPOLYGON (((52543.591 406795.287, 52832.26...</td>\n    </tr>\n    <tr>\n      <th>24</th>\n      <td>AM25</td>\n      <td>West-Brabant</td>\n      <td>2014AM25</td>\n      <td>arbeidsmarktregio</td>\n      <td>AM25</td>\n      <td>AM25</td>\n      <td>West-Brabant</td>\n      <td>2014AM25</td>\n      <td>arbeidsmarktregio</td>\n      <td>MULTIPOLYGON (((133514.853 414577.495, 133894....</td>\n    </tr>\n    <tr>\n      <th>25</th>\n      <td>AM26</td>\n      <td>Midden-Brabant</td>\n      <td>2014AM26</td>\n      <td>arbeidsmarktregio</td>\n      <td>AM26</td>\n      <td>AM26</td>\n      <td>Midden-Brabant</td>\n      <td>2014AM26</td>\n      <td>arbeidsmarktregio</td>\n      <td>MULTIPOLYGON (((122778.232 414728.751, 122577....</td>\n    </tr>\n    <tr>\n      <th>26</th>\n      <td>AM27</td>\n      <td>Noordoost-Brabant</td>\n      <td>2014AM27</td>\n      <td>arbeidsmarktregio</td>\n      <td>AM27</td>\n      <td>AM27</td>\n      <td>Noordoost-Brabant</td>\n      <td>2014AM27</td>\n      <td>arbeidsmarktregio</td>\n      <td>MULTIPOLYGON (((165937.043 396593.072, 166529....</td>\n    </tr>\n    <tr>\n      <th>27</th>\n      <td>AM28</td>\n      <td>Zuidoost-Brabant</td>\n      <td>2014AM28</td>\n      <td>arbeidsmarktregio</td>\n      <td>AM28</td>\n      <td>AM28</td>\n      <td>Zuidoost-Brabant</td>\n      <td>2014AM28</td>\n      <td>arbeidsmarktregio</td>\n      <td>MULTIPOLYGON (((173634.353 373886.485, 172522....</td>\n    </tr>\n    <tr>\n      <th>28</th>\n      <td>AM29</td>\n      <td>Noord-Limburg</td>\n      <td>2014AM29</td>\n      <td>arbeidsmarktregio</td>\n      <td>AM29</td>\n      <td>AM29</td>\n      <td>Noord-Limburg</td>\n      <td>2014AM29</td>\n      <td>arbeidsmarktregio</td>\n      <td>MULTIPOLYGON (((192752.744 416190.241, 192465....</td>\n    </tr>\n    <tr>\n      <th>29</th>\n      <td>AM30</td>\n      <td>Zuid-Limburg</td>\n      <td>2014AM30</td>\n      <td>arbeidsmarktregio</td>\n      <td>AM30</td>\n      <td>AM30</td>\n      <td>Zuid-Limburg</td>\n      <td>2014AM30</td>\n      <td>arbeidsmarktregio</td>\n      <td>MULTIPOLYGON (((190504.788 332404.621, 190708....</td>\n    </tr>\n    <tr>\n      <th>30</th>\n      <td>AM31</td>\n      <td>Food Valley</td>\n      <td>2014AM31</td>\n      <td>arbeidsmarktregio</td>\n      <td>AM31</td>\n      <td>AM31</td>\n      <td>Food Valley</td>\n      <td>2014AM31</td>\n      <td>arbeidsmarktregio</td>\n      <td>MULTIPOLYGON (((162468.123 453716.071, 162590....</td>\n    </tr>\n    <tr>\n      <th>31</th>\n      <td>AM32</td>\n      <td>Helmond-De Peel</td>\n      <td>2014AM32</td>\n      <td>arbeidsmarktregio</td>\n      <td>AM32</td>\n      <td>AM32</td>\n      <td>Helmond-De Peel</td>\n      <td>2014AM32</td>\n      <td>arbeidsmarktregio</td>\n      <td>MULTIPOLYGON (((169713.345 381045.334, 172514....</td>\n    </tr>\n    <tr>\n      <th>32</th>\n      <td>AM33</td>\n      <td>Midden-Limburg</td>\n      <td>2014AM33</td>\n      <td>arbeidsmarktregio</td>\n      <td>AM33</td>\n      <td>AM33</td>\n      <td>Midden-Limburg</td>\n      <td>2014AM33</td>\n      <td>arbeidsmarktregio</td>\n      <td>MULTIPOLYGON (((186559.985 373171.552, 181751....</td>\n    </tr>\n    <tr>\n      <th>33</th>\n      <td>AM34</td>\n      <td>Zuid-Holland Centraal</td>\n      <td>2014AM34</td>\n      <td>arbeidsmarktregio</td>\n      <td>AM34</td>\n      <td>AM34</td>\n      <td>Zuid-Holland Centraal</td>\n      <td>2014AM34</td>\n      <td>arbeidsmarktregio</td>\n      <td>MULTIPOLYGON (((86811.731 447539.506, 86848.78...</td>\n    </tr>\n    <tr>\n      <th>34</th>\n      <td>AM35</td>\n      <td>Gorinchem</td>\n      <td>2014AM35</td>\n      <td>arbeidsmarktregio</td>\n      <td>AM35</td>\n      <td>AM35</td>\n      <td>Gorinchem</td>\n      <td>2014AM35</td>\n      <td>arbeidsmarktregio</td>\n      <td>MULTIPOLYGON (((114770.613 428802.948, 114833....</td>\n    </tr>\n  </tbody>\n</table>\n</div>"
     },
     "metadata": {},
     "execution_count": 2
    }
   ],
   "source": [
    "GEBIED_IND"
   ]
  },
  {
   "source": [
    "Even though more layers exist in the gpg-file it only shows the first layer in the file. After a bit of searching I found a way to extract all layers."
   ],
   "cell_type": "markdown",
   "metadata": {}
  },
  {
   "source": [
    "## Retrieve gpkg layers\n",
    "\n",
    "To get all layers in a gpkg-file you have to use `fiona` to get a list of layer names. I've made a function that will save all layers names in a list and return it from the function. I use this to save the list with the name of each layer in a variable. I can use `index()` to pass the name of the layer and use the index to select the layer, save it in a variable and read the layer with `geopandas`."
   ],
   "cell_type": "markdown",
   "metadata": {}
  },
  {
   "cell_type": "code",
   "execution_count": 3,
   "metadata": {},
   "outputs": [],
   "source": [
    "import fiona\n",
    "\n",
    "GPKG_FILE = \"../datasets/CBS/cbsgebiedsindelingen_2021_v1.gpkg\"\n",
    "\n",
    "\n",
    "def get_gpkg_layers(geopkg_src):\n",
    "    layers = []\n",
    "    for layername in fiona.listlayers(geopkg_src):\n",
    "        layers.append(layername)\n",
    "    return layers\n",
    "\n",
    "\n",
    "layers = get_gpkg_layers(GPKG_FILE)\n",
    "GEMEENTE_2020_IND = layers[325]\n",
    "GEBIED_IND = gp.read_file(GPKG_FILE, layer=GEMEENTE_2020_IND)"
   ]
  },
  {
   "cell_type": "code",
   "execution_count": 4,
   "metadata": {},
   "outputs": [
    {
     "output_type": "execute_result",
     "data": {
      "text/plain": [
       "    statcode  jrstatcode           statnaam   rubriek  \\\n",
       "0     GM0003  2020GM0003         Appingedam  gemeente   \n",
       "1     GM0010  2020GM0010           Delfzijl  gemeente   \n",
       "2     GM0014  2020GM0014          Groningen  gemeente   \n",
       "3     GM0024  2020GM0024          Loppersum  gemeente   \n",
       "4     GM0034  2020GM0034             Almere  gemeente   \n",
       "..       ...         ...                ...       ...   \n",
       "350   GM1963  2020GM1963     Hoeksche Waard  gemeente   \n",
       "351   GM1966  2020GM1966       Het Hogeland  gemeente   \n",
       "352   GM1969  2020GM1969     Westerkwartier  gemeente   \n",
       "353   GM1970  2020GM1970  Noardeast-Fryslân  gemeente   \n",
       "354   GM1978  2020GM1978        Molenlanden  gemeente   \n",
       "\n",
       "                                              geometry  \n",
       "0    MULTIPOLYGON (((254777.541 596451.767, 254108....  \n",
       "1    MULTIPOLYGON (((253004.946 603887.823, 251827....  \n",
       "2    MULTIPOLYGON (((245194.691 592594.007, 245002....  \n",
       "3    MULTIPOLYGON (((247882.785 603505.649, 247754....  \n",
       "4    MULTIPOLYGON (((146891.056 493291.709, 146242....  \n",
       "..                                                 ...  \n",
       "350  MULTIPOLYGON (((90406.603 427480.023, 89981.73...  \n",
       "351  MULTIPOLYGON (((247426.661 609175.775, 245868....  \n",
       "352  MULTIPOLYGON (((217623.770 592502.490, 217224....  \n",
       "353  MULTIPOLYGON (((207947.366 603403.795, 207507....  \n",
       "354  MULTIPOLYGON (((123532.177 440293.183, 123314....  \n",
       "\n",
       "[355 rows x 5 columns]"
      ],
      "text/html": "<div>\n<style scoped>\n    .dataframe tbody tr th:only-of-type {\n        vertical-align: middle;\n    }\n\n    .dataframe tbody tr th {\n        vertical-align: top;\n    }\n\n    .dataframe thead th {\n        text-align: right;\n    }\n</style>\n<table border=\"1\" class=\"dataframe\">\n  <thead>\n    <tr style=\"text-align: right;\">\n      <th></th>\n      <th>statcode</th>\n      <th>jrstatcode</th>\n      <th>statnaam</th>\n      <th>rubriek</th>\n      <th>geometry</th>\n    </tr>\n  </thead>\n  <tbody>\n    <tr>\n      <th>0</th>\n      <td>GM0003</td>\n      <td>2020GM0003</td>\n      <td>Appingedam</td>\n      <td>gemeente</td>\n      <td>MULTIPOLYGON (((254777.541 596451.767, 254108....</td>\n    </tr>\n    <tr>\n      <th>1</th>\n      <td>GM0010</td>\n      <td>2020GM0010</td>\n      <td>Delfzijl</td>\n      <td>gemeente</td>\n      <td>MULTIPOLYGON (((253004.946 603887.823, 251827....</td>\n    </tr>\n    <tr>\n      <th>2</th>\n      <td>GM0014</td>\n      <td>2020GM0014</td>\n      <td>Groningen</td>\n      <td>gemeente</td>\n      <td>MULTIPOLYGON (((245194.691 592594.007, 245002....</td>\n    </tr>\n    <tr>\n      <th>3</th>\n      <td>GM0024</td>\n      <td>2020GM0024</td>\n      <td>Loppersum</td>\n      <td>gemeente</td>\n      <td>MULTIPOLYGON (((247882.785 603505.649, 247754....</td>\n    </tr>\n    <tr>\n      <th>4</th>\n      <td>GM0034</td>\n      <td>2020GM0034</td>\n      <td>Almere</td>\n      <td>gemeente</td>\n      <td>MULTIPOLYGON (((146891.056 493291.709, 146242....</td>\n    </tr>\n    <tr>\n      <th>...</th>\n      <td>...</td>\n      <td>...</td>\n      <td>...</td>\n      <td>...</td>\n      <td>...</td>\n    </tr>\n    <tr>\n      <th>350</th>\n      <td>GM1963</td>\n      <td>2020GM1963</td>\n      <td>Hoeksche Waard</td>\n      <td>gemeente</td>\n      <td>MULTIPOLYGON (((90406.603 427480.023, 89981.73...</td>\n    </tr>\n    <tr>\n      <th>351</th>\n      <td>GM1966</td>\n      <td>2020GM1966</td>\n      <td>Het Hogeland</td>\n      <td>gemeente</td>\n      <td>MULTIPOLYGON (((247426.661 609175.775, 245868....</td>\n    </tr>\n    <tr>\n      <th>352</th>\n      <td>GM1969</td>\n      <td>2020GM1969</td>\n      <td>Westerkwartier</td>\n      <td>gemeente</td>\n      <td>MULTIPOLYGON (((217623.770 592502.490, 217224....</td>\n    </tr>\n    <tr>\n      <th>353</th>\n      <td>GM1970</td>\n      <td>2020GM1970</td>\n      <td>Noardeast-Fryslân</td>\n      <td>gemeente</td>\n      <td>MULTIPOLYGON (((207947.366 603403.795, 207507....</td>\n    </tr>\n    <tr>\n      <th>354</th>\n      <td>GM1978</td>\n      <td>2020GM1978</td>\n      <td>Molenlanden</td>\n      <td>gemeente</td>\n      <td>MULTIPOLYGON (((123532.177 440293.183, 123314....</td>\n    </tr>\n  </tbody>\n</table>\n<p>355 rows × 5 columns</p>\n</div>"
     },
     "metadata": {},
     "execution_count": 4
    }
   ],
   "source": [
    "GEBIED_IND"
   ]
  },
  {
   "source": [
    "## Read tabular text file\n",
    "\n",
    "I have a file from [geonames](https://www.geonames.org/) with all the placenames of the Netherlands. Because it's a text file with tabs as delimiter, I have to read it as a table. Luckily `pandas` as a `read_table` function. Because the file doesn't have any named columns defined I had to add the column names to the DataFrame myself."
   ],
   "cell_type": "markdown",
   "metadata": {}
  },
  {
   "cell_type": "code",
   "execution_count": 5,
   "metadata": {},
   "outputs": [],
   "source": [
    "import pandas as pd\n",
    "\n",
    "\n",
    "columns = [\"id\", \"PlaceName\", \"AreaName\", \"Namings\", \"Lat\", \"Long\", \"g\", \"h\", \"CountryCode\", \"j\", \"k\", \"l\", \"m\", \"n\", \"o\", \"p\", \"q\", \"Capital\", \"DateOfInput\"]\n",
    "geo_names = pd.read_table(\"../datasets/geonames/NL/NL.txt\", header=None)\n",
    "geo_names.columns = columns"
   ]
  },
  {
   "cell_type": "code",
   "execution_count": 6,
   "metadata": {},
   "outputs": [
    {
     "output_type": "execute_result",
     "data": {
      "text/plain": [
       "             id                                          PlaceName  \\\n",
       "22737  11875918                               IJsselmonde goederen   \n",
       "22738  11876195                              Leidschendam workshop   \n",
       "22739  11887836                                    ABiLiTieS Trust   \n",
       "22740  11906268                                  CKV Fluks korfbal   \n",
       "22741  11906269                                Voortoren Noordwijk   \n",
       "...         ...                                                ...   \n",
       "22802  12172558  HVDC COBRAcable - Eemshaven Static Inverter Plant   \n",
       "22803  12189182  Sint-Salvatorkerk (historical church, demolish...   \n",
       "22804  12189231                                 Station Sassenheim   \n",
       "22805  12195429                         Frisia (historical region)   \n",
       "22806  12196197                                       Guerlain Spa   \n",
       "\n",
       "                                                AreaName Namings       Lat  \\\n",
       "22737                               IJsselmonde goederen     NaN  51.88624   \n",
       "22738                              Leidschendam workshop     NaN  52.07409   \n",
       "22739                                    ABiLiTieS Trust     NaN  52.34070   \n",
       "22740                                  CKV Fluks korfbal     NaN  52.24231   \n",
       "22741                                Voortoren Noordwijk     NaN  52.24870   \n",
       "...                                                  ...     ...       ...   \n",
       "22802  HVDC COBRAcable - Eemshaven Static Inverter Plant     NaN  53.43536   \n",
       "22803  Sint-Salvatorkerk (historical church, demolish...     NaN  52.09013   \n",
       "22804                                 Station Sassenheim     NaN  52.21529   \n",
       "22805                         Frisia (historical region)     NaN  53.37083   \n",
       "22806                                       Guerlain Spa     NaN  52.36469   \n",
       "\n",
       "          Long  g      h CountryCode    j     k       l    m   n  o   p  q  \\\n",
       "22737  4.52528  R    RYD          NL  NaN  11.0   599.0  NaN NaN  0 NaN -2   \n",
       "22738  4.38477  S    RSD          NL  NaN  11.0   518.0    8 NaN  0 NaN  1   \n",
       "22739  4.87399  S   BLDO          NL  NaN   7.0   363.0    K NaN  0 NaN -2   \n",
       "22740  4.44132  V  GRSLD          NL  NaN  11.0   575.0  NaN NaN  0 NaN  1   \n",
       "22741  4.43405  S  LTHSE          NL  NaN  11.0   575.0  NaN NaN  0 NaN  1   \n",
       "...        ... ..    ...         ...  ...   ...     ...  ...  .. ..  .. ..   \n",
       "22802  6.86730  S     PS          NL  NaN   4.0  1966.0  NaN NaN  0 NaN  1   \n",
       "22803  5.12295  S     CH          NL  NaN   9.0   344.0  NaN NaN  0 NaN  1   \n",
       "22804  4.51717  S   RSTN          NL  NaN  11.0  1525.0  NaN NaN  0 NaN -1   \n",
       "22805  6.16002  P   PPLH          NL  NaN   4.0  1966.0  NaN NaN  0 NaN  1   \n",
       "22806  4.89664  S    SPA          NL  NaN   7.0   363.0    A NaN  0 NaN -2   \n",
       "\n",
       "                Capital DateOfInput  \n",
       "22737  Europe/Amsterdam  2018-05-30  \n",
       "22738  Europe/Amsterdam  2018-06-05  \n",
       "22739  Europe/Amsterdam  2018-06-27  \n",
       "22740  Europe/Amsterdam  2018-08-09  \n",
       "22741  Europe/Amsterdam  2018-08-09  \n",
       "...                 ...         ...  \n",
       "22802  Europe/Amsterdam  2020-06-15  \n",
       "22803  Europe/Amsterdam  2020-10-13  \n",
       "22804  Europe/Amsterdam  2020-10-17  \n",
       "22805  Europe/Amsterdam  2020-10-20  \n",
       "22806  Europe/Amsterdam  2020-11-02  \n",
       "\n",
       "[70 rows x 19 columns]"
      ],
      "text/html": "<div>\n<style scoped>\n    .dataframe tbody tr th:only-of-type {\n        vertical-align: middle;\n    }\n\n    .dataframe tbody tr th {\n        vertical-align: top;\n    }\n\n    .dataframe thead th {\n        text-align: right;\n    }\n</style>\n<table border=\"1\" class=\"dataframe\">\n  <thead>\n    <tr style=\"text-align: right;\">\n      <th></th>\n      <th>id</th>\n      <th>PlaceName</th>\n      <th>AreaName</th>\n      <th>Namings</th>\n      <th>Lat</th>\n      <th>Long</th>\n      <th>g</th>\n      <th>h</th>\n      <th>CountryCode</th>\n      <th>j</th>\n      <th>k</th>\n      <th>l</th>\n      <th>m</th>\n      <th>n</th>\n      <th>o</th>\n      <th>p</th>\n      <th>q</th>\n      <th>Capital</th>\n      <th>DateOfInput</th>\n    </tr>\n  </thead>\n  <tbody>\n    <tr>\n      <th>22737</th>\n      <td>11875918</td>\n      <td>IJsselmonde goederen</td>\n      <td>IJsselmonde goederen</td>\n      <td>NaN</td>\n      <td>51.88624</td>\n      <td>4.52528</td>\n      <td>R</td>\n      <td>RYD</td>\n      <td>NL</td>\n      <td>NaN</td>\n      <td>11.0</td>\n      <td>599.0</td>\n      <td>NaN</td>\n      <td>NaN</td>\n      <td>0</td>\n      <td>NaN</td>\n      <td>-2</td>\n      <td>Europe/Amsterdam</td>\n      <td>2018-05-30</td>\n    </tr>\n    <tr>\n      <th>22738</th>\n      <td>11876195</td>\n      <td>Leidschendam workshop</td>\n      <td>Leidschendam workshop</td>\n      <td>NaN</td>\n      <td>52.07409</td>\n      <td>4.38477</td>\n      <td>S</td>\n      <td>RSD</td>\n      <td>NL</td>\n      <td>NaN</td>\n      <td>11.0</td>\n      <td>518.0</td>\n      <td>8</td>\n      <td>NaN</td>\n      <td>0</td>\n      <td>NaN</td>\n      <td>1</td>\n      <td>Europe/Amsterdam</td>\n      <td>2018-06-05</td>\n    </tr>\n    <tr>\n      <th>22739</th>\n      <td>11887836</td>\n      <td>ABiLiTieS Trust</td>\n      <td>ABiLiTieS Trust</td>\n      <td>NaN</td>\n      <td>52.34070</td>\n      <td>4.87399</td>\n      <td>S</td>\n      <td>BLDO</td>\n      <td>NL</td>\n      <td>NaN</td>\n      <td>7.0</td>\n      <td>363.0</td>\n      <td>K</td>\n      <td>NaN</td>\n      <td>0</td>\n      <td>NaN</td>\n      <td>-2</td>\n      <td>Europe/Amsterdam</td>\n      <td>2018-06-27</td>\n    </tr>\n    <tr>\n      <th>22740</th>\n      <td>11906268</td>\n      <td>CKV Fluks korfbal</td>\n      <td>CKV Fluks korfbal</td>\n      <td>NaN</td>\n      <td>52.24231</td>\n      <td>4.44132</td>\n      <td>V</td>\n      <td>GRSLD</td>\n      <td>NL</td>\n      <td>NaN</td>\n      <td>11.0</td>\n      <td>575.0</td>\n      <td>NaN</td>\n      <td>NaN</td>\n      <td>0</td>\n      <td>NaN</td>\n      <td>1</td>\n      <td>Europe/Amsterdam</td>\n      <td>2018-08-09</td>\n    </tr>\n    <tr>\n      <th>22741</th>\n      <td>11906269</td>\n      <td>Voortoren Noordwijk</td>\n      <td>Voortoren Noordwijk</td>\n      <td>NaN</td>\n      <td>52.24870</td>\n      <td>4.43405</td>\n      <td>S</td>\n      <td>LTHSE</td>\n      <td>NL</td>\n      <td>NaN</td>\n      <td>11.0</td>\n      <td>575.0</td>\n      <td>NaN</td>\n      <td>NaN</td>\n      <td>0</td>\n      <td>NaN</td>\n      <td>1</td>\n      <td>Europe/Amsterdam</td>\n      <td>2018-08-09</td>\n    </tr>\n    <tr>\n      <th>...</th>\n      <td>...</td>\n      <td>...</td>\n      <td>...</td>\n      <td>...</td>\n      <td>...</td>\n      <td>...</td>\n      <td>...</td>\n      <td>...</td>\n      <td>...</td>\n      <td>...</td>\n      <td>...</td>\n      <td>...</td>\n      <td>...</td>\n      <td>...</td>\n      <td>...</td>\n      <td>...</td>\n      <td>...</td>\n      <td>...</td>\n      <td>...</td>\n    </tr>\n    <tr>\n      <th>22802</th>\n      <td>12172558</td>\n      <td>HVDC COBRAcable - Eemshaven Static Inverter Plant</td>\n      <td>HVDC COBRAcable - Eemshaven Static Inverter Plant</td>\n      <td>NaN</td>\n      <td>53.43536</td>\n      <td>6.86730</td>\n      <td>S</td>\n      <td>PS</td>\n      <td>NL</td>\n      <td>NaN</td>\n      <td>4.0</td>\n      <td>1966.0</td>\n      <td>NaN</td>\n      <td>NaN</td>\n      <td>0</td>\n      <td>NaN</td>\n      <td>1</td>\n      <td>Europe/Amsterdam</td>\n      <td>2020-06-15</td>\n    </tr>\n    <tr>\n      <th>22803</th>\n      <td>12189182</td>\n      <td>Sint-Salvatorkerk (historical church, demolish...</td>\n      <td>Sint-Salvatorkerk (historical church, demolish...</td>\n      <td>NaN</td>\n      <td>52.09013</td>\n      <td>5.12295</td>\n      <td>S</td>\n      <td>CH</td>\n      <td>NL</td>\n      <td>NaN</td>\n      <td>9.0</td>\n      <td>344.0</td>\n      <td>NaN</td>\n      <td>NaN</td>\n      <td>0</td>\n      <td>NaN</td>\n      <td>1</td>\n      <td>Europe/Amsterdam</td>\n      <td>2020-10-13</td>\n    </tr>\n    <tr>\n      <th>22804</th>\n      <td>12189231</td>\n      <td>Station Sassenheim</td>\n      <td>Station Sassenheim</td>\n      <td>NaN</td>\n      <td>52.21529</td>\n      <td>4.51717</td>\n      <td>S</td>\n      <td>RSTN</td>\n      <td>NL</td>\n      <td>NaN</td>\n      <td>11.0</td>\n      <td>1525.0</td>\n      <td>NaN</td>\n      <td>NaN</td>\n      <td>0</td>\n      <td>NaN</td>\n      <td>-1</td>\n      <td>Europe/Amsterdam</td>\n      <td>2020-10-17</td>\n    </tr>\n    <tr>\n      <th>22805</th>\n      <td>12195429</td>\n      <td>Frisia (historical region)</td>\n      <td>Frisia (historical region)</td>\n      <td>NaN</td>\n      <td>53.37083</td>\n      <td>6.16002</td>\n      <td>P</td>\n      <td>PPLH</td>\n      <td>NL</td>\n      <td>NaN</td>\n      <td>4.0</td>\n      <td>1966.0</td>\n      <td>NaN</td>\n      <td>NaN</td>\n      <td>0</td>\n      <td>NaN</td>\n      <td>1</td>\n      <td>Europe/Amsterdam</td>\n      <td>2020-10-20</td>\n    </tr>\n    <tr>\n      <th>22806</th>\n      <td>12196197</td>\n      <td>Guerlain Spa</td>\n      <td>Guerlain Spa</td>\n      <td>NaN</td>\n      <td>52.36469</td>\n      <td>4.89664</td>\n      <td>S</td>\n      <td>SPA</td>\n      <td>NL</td>\n      <td>NaN</td>\n      <td>7.0</td>\n      <td>363.0</td>\n      <td>A</td>\n      <td>NaN</td>\n      <td>0</td>\n      <td>NaN</td>\n      <td>-2</td>\n      <td>Europe/Amsterdam</td>\n      <td>2020-11-02</td>\n    </tr>\n  </tbody>\n</table>\n<p>70 rows × 19 columns</p>\n</div>"
     },
     "metadata": {},
     "execution_count": 6
    }
   ],
   "source": [
    "geo_names.tail(70)"
   ]
  },
  {
   "source": [
    "Unfortunately this file doesn't have any datapoints I can use to merge it with the RDW dataset, however there is another geonames file containing all the postal codes. In that file the placenames are listed with the province, municipality and lat/long coordinates."
   ],
   "cell_type": "markdown",
   "metadata": {}
  },
  {
   "cell_type": "code",
   "execution_count": 7,
   "metadata": {},
   "outputs": [],
   "source": [
    "geo_postal_columns = [\"countryCode\", \"postalCode\", \"placeName\", \"province\", \"adminCode1\", \"municipality\", \"adminCode2\", \"community\", \"adminCode3\", \"latitude\", \"longitude\", \"accuracy\"]\n",
    "nl_postal = pd.read_table(\"../datasets/geonames/NL_full/NL_full.txt\", header=None)\n",
    "nl_postal.columns = geo_postal_columns\n",
    "nl_postal = nl_postal.drop(nl_postal.columns[[4, 6, 7, 8, 11]], axis=1)\n",
    "nl_postal = nl_postal.drop(nl_postal.iloc[:, :2], axis=1)"
   ]
  },
  {
   "cell_type": "code",
   "execution_count": 8,
   "metadata": {},
   "outputs": [
    {
     "output_type": "execute_result",
     "data": {
      "text/plain": [
       "       placeName   province municipality  latitude  longitude\n",
       "0          Assen    Drenthe        Assen   52.9984     6.5661\n",
       "1          Assen    Drenthe        Assen   52.9989     6.5687\n",
       "2          Assen    Drenthe        Assen   52.9982     6.5659\n",
       "3          Assen    Drenthe        Assen   52.9981     6.5669\n",
       "4          Assen    Drenthe        Assen   52.9976     6.5684\n",
       "...          ...        ...          ...       ...        ...\n",
       "460719  Lelystad  Flevoland     Lelystad   52.4906     5.4520\n",
       "460720  Lelystad  Flevoland     Lelystad   52.4889     5.4519\n",
       "460721  Lelystad  Flevoland     Lelystad   52.4895     5.4541\n",
       "460722  Lelystad  Flevoland     Lelystad   52.4909     5.4542\n",
       "460723  Lelystad  Flevoland     Lelystad   52.4902     5.4523\n",
       "\n",
       "[460724 rows x 5 columns]"
      ],
      "text/html": "<div>\n<style scoped>\n    .dataframe tbody tr th:only-of-type {\n        vertical-align: middle;\n    }\n\n    .dataframe tbody tr th {\n        vertical-align: top;\n    }\n\n    .dataframe thead th {\n        text-align: right;\n    }\n</style>\n<table border=\"1\" class=\"dataframe\">\n  <thead>\n    <tr style=\"text-align: right;\">\n      <th></th>\n      <th>placeName</th>\n      <th>province</th>\n      <th>municipality</th>\n      <th>latitude</th>\n      <th>longitude</th>\n    </tr>\n  </thead>\n  <tbody>\n    <tr>\n      <th>0</th>\n      <td>Assen</td>\n      <td>Drenthe</td>\n      <td>Assen</td>\n      <td>52.9984</td>\n      <td>6.5661</td>\n    </tr>\n    <tr>\n      <th>1</th>\n      <td>Assen</td>\n      <td>Drenthe</td>\n      <td>Assen</td>\n      <td>52.9989</td>\n      <td>6.5687</td>\n    </tr>\n    <tr>\n      <th>2</th>\n      <td>Assen</td>\n      <td>Drenthe</td>\n      <td>Assen</td>\n      <td>52.9982</td>\n      <td>6.5659</td>\n    </tr>\n    <tr>\n      <th>3</th>\n      <td>Assen</td>\n      <td>Drenthe</td>\n      <td>Assen</td>\n      <td>52.9981</td>\n      <td>6.5669</td>\n    </tr>\n    <tr>\n      <th>4</th>\n      <td>Assen</td>\n      <td>Drenthe</td>\n      <td>Assen</td>\n      <td>52.9976</td>\n      <td>6.5684</td>\n    </tr>\n    <tr>\n      <th>...</th>\n      <td>...</td>\n      <td>...</td>\n      <td>...</td>\n      <td>...</td>\n      <td>...</td>\n    </tr>\n    <tr>\n      <th>460719</th>\n      <td>Lelystad</td>\n      <td>Flevoland</td>\n      <td>Lelystad</td>\n      <td>52.4906</td>\n      <td>5.4520</td>\n    </tr>\n    <tr>\n      <th>460720</th>\n      <td>Lelystad</td>\n      <td>Flevoland</td>\n      <td>Lelystad</td>\n      <td>52.4889</td>\n      <td>5.4519</td>\n    </tr>\n    <tr>\n      <th>460721</th>\n      <td>Lelystad</td>\n      <td>Flevoland</td>\n      <td>Lelystad</td>\n      <td>52.4895</td>\n      <td>5.4541</td>\n    </tr>\n    <tr>\n      <th>460722</th>\n      <td>Lelystad</td>\n      <td>Flevoland</td>\n      <td>Lelystad</td>\n      <td>52.4909</td>\n      <td>5.4542</td>\n    </tr>\n    <tr>\n      <th>460723</th>\n      <td>Lelystad</td>\n      <td>Flevoland</td>\n      <td>Lelystad</td>\n      <td>52.4902</td>\n      <td>5.4523</td>\n    </tr>\n  </tbody>\n</table>\n<p>460724 rows × 5 columns</p>\n</div>"
     },
     "metadata": {},
     "execution_count": 8
    }
   ],
   "source": [
    "nl_postal"
   ]
  }
 ]
}